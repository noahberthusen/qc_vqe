{
 "cells": [
  {
   "cell_type": "code",
   "execution_count": 2,
   "metadata": {},
   "outputs": [],
   "source": [
    "# quco imports\n",
    "from qucochemistry.vqe import VQEexperiment\n",
    "\n",
    "# Rigetti imports\n",
    "from grove.pyvqe.vqe import VQE\n",
    "\n",
    "# pyquil imports\n",
    "from pyquil import Program\n",
    "from pyquil.gates import *\n",
    "import pyquil.api as api\n",
    "from pyquil.paulis import *\n",
    "import numpy as np\n",
    "from scipy.optimize import minimize\n",
    "import math"
   ]
  },
  {
   "cell_type": "code",
   "execution_count": 3,
   "metadata": {},
   "outputs": [],
   "source": [
    "def U(n):\n",
    "    # Builds the interaction term\n",
    "    # a_p^dagger a_q^dagger a_q a_p\n",
    "    U = 2\n",
    "    \n",
    "    hamiltonian = ZERO()\n",
    "    for i in range(n):\n",
    "        hamiltonian += (sI() - sZ(i) - sZ(i+n) + sZ(i)*sZ(i+n))\n",
    "    hamiltonian *= (U / 4)\n",
    "        \n",
    "    return hamiltonian"
   ]
  },
  {
   "cell_type": "code",
   "execution_count": 4,
   "metadata": {},
   "outputs": [],
   "source": [
    "def e(n):\n",
    "    # Builds the number term\n",
    "    # a_p^dagger a_p\n",
    "    e = -1.5\n",
    "    hamiltonian = ZERO()\n",
    "    for i in range(n):\n",
    "        hamiltonian += (2*sI() - sZ(i) - sZ(i+n))\n",
    "    hamiltonian *= (e / 2)\n",
    "    \n",
    "    return hamiltonian"
   ]
  },
  {
   "cell_type": "code",
   "execution_count": 5,
   "metadata": {},
   "outputs": [],
   "source": [
    "def t(n):\n",
    "    # Builds the hopping term\n",
    "    # Sites are organized like 0 1 2 3 | 4 5 6 7, where first N are up and last N are down\n",
    "    # overall structure is a ring, so only two hoppings per site are possible\n",
    "    # hopping includes periodic bounding conditions\n",
    "    # a_p^dagger a_q a_q^dagger a_p\n",
    "    t = 1\n",
    "    \n",
    "    hamiltonian = ZERO()\n",
    "    \n",
    "    \n",
    "    return hamiltonian"
   ]
  },
  {
   "cell_type": "code",
   "execution_count": 7,
   "metadata": {},
   "outputs": [
    {
     "name": "stdout",
     "output_type": "stream",
     "text": [
      "(2+0j)*I + (-0.5+0j)*Z0 + (-0.5+0j)*Z4 + (0.5+0j)*Z0*Z4 + (-0.5+0j)*Z1 + (-0.5+0j)*Z5 + (0.5+0j)*Z1*Z5 + (-0.5+0j)*Z2 + (-0.5+0j)*Z6 + (0.5+0j)*Z2*Z6 + (-0.5+0j)*Z3 + (-0.5+0j)*Z7 + (0.5+0j)*Z3*Z7 + (-0.5+0j)*X0*X1 + (-0.5+0j)*Y0*Y1 + (-0.5+0j)*X0*Z1*Z2*X3 + (-0.5+0j)*Y0*Z1*Z2*Y3 + (-0.5+0j)*X1*X2 + (-0.5+0j)*Y1*Y2 + (-0.5+0j)*X2*X3 + (-0.5+0j)*Y2*Y3 + (-0.5+0j)*X4*X5 + (-0.5+0j)*Y4*Y5 + (-0.5+0j)*X4*Z5*Z6*X7 + (-0.5+0j)*Y4*Z5*Z6*Y7 + (-0.5+0j)*X5*X6 + (-0.5+0j)*Y5*Y6 + (-0.5+0j)*X6*X7 + (-0.5+0j)*Y6*Y7\n"
     ]
    }
   ],
   "source": [
    "# hopping term: a_p^dagger a_q\n",
    "t = 1\n",
    "hamt = (sX(0)*sX(1) + sY(0)*sY(1) + sX(0)*sZ(1)*sZ(2)*sX(3) + sY(0)*sZ(1)*sZ(2)*sY(3) + sX(1)*sX(2) + sY(1)*sY(2) + sX(2)*sX(3) + sY(2)*sY(3))\n",
    "hamt += (sX(4)*sX(5) + sY(4)*sY(5) + sX(4)*sZ(5)*sZ(6)*sX(7) + sY(4)*sZ(5)*sZ(6)*sY(7) + sX(5)*sX(6) + sY(5)*sY(6) + sX(6)*sX(7) + sY(6)*sY(7))\n",
    "hamt *= (-t / 2)\n",
    "\n",
    "# interaction term: a_p^dagger a_q^dagger a_q a_p\n",
    "hamU = U(4)\n",
    "hame = e(4)\n",
    "\n",
    "hamiltonian = hamU + hamt\n",
    "print(hamiltonian)"
   ]
  },
  {
   "cell_type": "code",
   "execution_count": 251,
   "metadata": {},
   "outputs": [
    {
     "name": "stdout",
     "output_type": "stream",
     "text": [
      "Exact ground state energy: -8.828427124746186\n",
      "empty circuit energy estimate:  -5.00357\n"
     ]
    }
   ],
   "source": [
    "vqe = VQEexperiment(hamiltonian=hamiltonian, method='WFS', optimizer='Nelder-Mead', strategy='custom_program', parametric=True, tomography = True, shotN=100000, verbose=False)\n",
    "ansatz = var_ansatz()\n",
    "vqe.set_custom_ansatz(ansatz)\n",
    "print('Exact ground state energy:',vqe.get_exact_gs())\n",
    "print('empty circuit energy estimate: ', vqe.objective_function())"
   ]
  },
  {
   "cell_type": "code",
   "execution_count": 5,
   "metadata": {},
   "outputs": [
    {
     "name": "stdout",
     "output_type": "stream",
     "text": [
      "[[0.70710678+0.j         0.        +0.70710678j]\n",
      " [0.        +0.70710678j 0.70710678+0.j        ]]\n",
      "[[0.70710678-0.j         0.        -0.70710678j]\n",
      " [0.        -0.70710678j 0.70710678-0.j        ]]\n"
     ]
    }
   ],
   "source": [
    "from pyquil.quil import DefGate\n",
    "from pyquil.quilatom import Parameter, quil_exp\n",
    "\n",
    "yb = np.array([[1/math.sqrt(2)+0j, complex(0, 1/math.sqrt(2))],\n",
    "               [complex(0, 1/math.sqrt(2)), 1/math.sqrt(2)+0j]])\n",
    "yb_definition = DefGate(\"YB\", yb)\n",
    "YB = yb_definition.get_constructor()\n",
    "\n",
    "ybd = yb.conj().T\n",
    "ybd_definition = DefGate(\"YBD\", ybd)\n",
    "YBD = ybd_definition.get_constructor()\n",
    "\n",
    "theta = Parameter('theta')\n",
    "zr = np.array([[quil_exp(1j * theta/2), 0],\n",
    "               [0, quil_exp(1j * -theta/2)]])\n",
    "zr_definition = DefGate('ZR', zr, [theta])\n",
    "ZR = zr_definition.get_constructor()\n",
    "\n",
    "print(yb)\n",
    "print(ybd)"
   ]
  },
  {
   "cell_type": "code",
   "execution_count": 6,
   "metadata": {},
   "outputs": [],
   "source": [
    "def var_ansatz():\n",
    "    S = 2\n",
    "    p = Program()\n",
    "    \n",
    "    # add new YB and YBD and ZR gate\n",
    "    p += yb_definition\n",
    "    p += ybd_definition\n",
    "    p += zr_definition\n",
    "        \n",
    "    # declare theta in memory\n",
    "    params = p.declare('theta', memory_type='REAL', memory_size=S*2)\n",
    "    \n",
    "    p.inst(H(0))\n",
    "    p.inst(H(2))\n",
    "    p.inst(CNOT(0, 1))\n",
    "    p.inst(CNOT(2, 3))\n",
    "    p.inst(X(0))\n",
    "    p.inst(X(2))\n",
    "    \n",
    "    U1 = 0\n",
    "    U2 = 1\n",
    "    \n",
    "    for i in range(S):\n",
    "        # building U_u\n",
    "        p.inst(RZ(U1*params[2*i]/4, 0))\n",
    "        p.inst(RZ(U1*params[2*i]/4, 1))\n",
    "        p.inst(RZ(U2*params[2*i]/4, 2))\n",
    "        p.inst(RZ(U2*params[2*i]/4, 3))\n",
    "        p.inst(CNOT(0, 2))\n",
    "        p.inst(RZ(-U1*params[2*i]/4, 2))\n",
    "        p.inst(CNOT(0, 2))\n",
    "        p.inst(CNOT(1, 3))\n",
    "        p.inst(RZ(-U2*params[2*i]/4, 3))\n",
    "        p.inst(CNOT(1, 3))\n",
    "        \n",
    "        # building U_t\n",
    "        p.inst(H(0))\n",
    "        p.inst(H(1))\n",
    "        p.inst(H(2))\n",
    "        p.inst(H(3))\n",
    "        p.inst(CNOT(0, 1))\n",
    "        p.inst(CNOT(2, 3))\n",
    "        p.inst(RZ(params[2*i+1], 1))\n",
    "        p.inst(RZ(params[2*i+1], 3))\n",
    "        p.inst(CNOT(0, 1))\n",
    "        p.inst(CNOT(2, 3))\n",
    "        p.inst(H(0))\n",
    "        p.inst(H(1))\n",
    "        p.inst(H(2))\n",
    "        p.inst(H(3))\n",
    "        p.inst(RX(-np.pi/2, 0))\n",
    "        p.inst(RX(-np.pi/2, 1))\n",
    "        p.inst(RX(-np.pi/2, 2))\n",
    "        p.inst(RX(-np.pi/2, 3))\n",
    "        p.inst(CNOT(0, 1))\n",
    "        p.inst(CNOT(2, 3))\n",
    "        p.inst(RZ(params[2*i+1], 1))\n",
    "        p.inst(RZ(params[2*i+1], 3))\n",
    "        p.inst(CNOT(0, 1))\n",
    "        p.inst(CNOT(2, 3))\n",
    "        p.inst(RX(-np.pi/2, 0))\n",
    "        p.inst(RX(-np.pi/2, 1))\n",
    "        p.inst(RX(-np.pi/2, 2))\n",
    "        p.inst(RX(-np.pi/2, 3))\n",
    "        \n",
    "        # building U_u\n",
    "        p.inst(RZ(U1*params[2*i]/4, 0))\n",
    "        p.inst(RZ(U1*params[2*i]/4, 1))\n",
    "        p.inst(RZ(U2*params[2*i]/4, 2))\n",
    "        p.inst(RZ(U2*params[2*i]/4, 3))\n",
    "        p.inst(CNOT(0, 2))\n",
    "        p.inst(RZ(-U1*params[2*i]/4, 2))\n",
    "        p.inst(CNOT(0, 2))\n",
    "        p.inst(CNOT(1, 3))\n",
    "        p.inst(RZ(-U2*params[2*i]/4, 3))\n",
    "        p.inst(CNOT(1, 3))\n",
    "    return p"
   ]
  },
  {
   "cell_type": "code",
   "execution_count": 159,
   "metadata": {},
   "outputs": [
    {
     "name": "stdout",
     "output_type": "stream",
     "text": [
      "0: [0.75770986 0.35881646 0.42018572 0.3099097 ]\n",
      "1: [0.77875735 0.36854341 0.37588903 0.31831087]\n",
      "2: [0.77875735 0.36854341 0.37588903 0.31831087]\n",
      "3: [0.67615081 0.40542477 0.38933624 0.30909292]\n",
      "4: [0.55183904 0.40255397 0.37758971 0.34675231]\n",
      "5: [0.55183904 0.40255397 0.37758971 0.34675231]\n",
      "6: [0.4409286  0.44944514 0.32371683 0.34092911]\n",
      "7: [0.37059214 0.46797236 0.34455258 0.34905498]\n",
      "8: [0.32041935 0.4623648  0.30871355 0.37825395]\n",
      "9: [0.32041935 0.4623648  0.30871355 0.37825395]\n",
      "10: [0.32041935 0.4623648  0.30871355 0.37825395]\n",
      "11: [0.32041935 0.4623648  0.30871355 0.37825395]\n",
      "12: [0.32041935 0.4623648  0.30871355 0.37825395]\n",
      "13: [0.30672885 0.47175953 0.30874061 0.36059431]\n",
      "14: [0.20091175 0.49868087 0.29585396 0.36987469]\n",
      "15: [0.20091175 0.49868087 0.29585396 0.36987469]\n",
      "16: [0.24410325 0.4889867  0.31024337 0.36597179]\n",
      "17: [0.24410325 0.4889867  0.31024337 0.36597179]\n",
      "18: [0.24410325 0.4889867  0.31024337 0.36597179]\n",
      "19: [0.24410325 0.4889867  0.31024337 0.36597179]\n",
      "20: [0.24410325 0.4889867  0.31024337 0.36597179]\n",
      "21: [0.24410325 0.4889867  0.31024337 0.36597179]\n",
      "22: [0.24410325 0.4889867  0.31024337 0.36597179]\n",
      "23: [0.24410325 0.4889867  0.31024337 0.36597179]\n",
      "24: [0.24410325 0.4889867  0.31024337 0.36597179]\n",
      "25: [0.24410325 0.4889867  0.31024337 0.36597179]\n",
      "26: [0.24410325 0.4889867  0.31024337 0.36597179]\n",
      "27: [0.24410325 0.4889867  0.31024337 0.36597179]\n",
      "28: [0.24410325 0.4889867  0.31024337 0.36597179]\n",
      "29: [0.24410325 0.4889867  0.31024337 0.36597179]\n",
      "30: [0.24410325 0.4889867  0.31024337 0.36597179]\n",
      "31: [0.24410325 0.4889867  0.31024337 0.36597179]\n",
      "32: [0.24410325 0.4889867  0.31024337 0.36597179]\n",
      "33: [0.24410325 0.4889867  0.31024337 0.36597179]\n",
      "34: [0.24410325 0.4889867  0.31024337 0.36597179]\n",
      "35: [0.24410325 0.4889867  0.31024337 0.36597179]\n",
      "36: [0.24410325 0.4889867  0.31024337 0.36597179]\n",
      "37: [0.24410325 0.4889867  0.31024337 0.36597179]\n",
      "38: [0.24410325 0.4889867  0.31024337 0.36597179]\n",
      "39: [0.24410325 0.4889867  0.31024337 0.36597179]\n",
      "40: [0.24410325 0.4889867  0.31024337 0.36597179]\n",
      "41: [0.24410325 0.4889867  0.31024337 0.36597179]\n",
      "42: [0.24410325 0.4889867  0.31024337 0.36597179]\n",
      "43: [0.24410325 0.4889867  0.31024337 0.36597179]\n",
      "44: [0.24410325 0.4889867  0.31024337 0.36597179]\n",
      "45: [0.24410325 0.4889867  0.31024337 0.36597179]\n",
      "46: [0.24410325 0.4889867  0.31024337 0.36597179]\n",
      "47: [0.24410325 0.4889867  0.31024337 0.36597179]\n",
      "48: [0.24410325 0.4889867  0.31024337 0.36597179]\n"
     ]
    }
   ],
   "source": [
    "initial_angles = np.random.rand(4)\n",
    "result = vqe.start_vqe(initial_angles, maxiter=50)"
   ]
  },
  {
   "cell_type": "code",
   "execution_count": 160,
   "metadata": {},
   "outputs": [
    {
     "data": {
      "text/plain": [
       " final_simplex: (array([[0.24410325, 0.4889867 , 0.31024337, 0.36597179],\n",
       "       [0.24411505, 0.48898772, 0.31023858, 0.3659705 ],\n",
       "       [0.24409658, 0.48898662, 0.31024408, 0.36597111],\n",
       "       [0.24410313, 0.48899191, 0.31023466, 0.36596976],\n",
       "       [0.24410653, 0.48898887, 0.31023671, 0.36597115]]), array([-1.7684 , -1.76593, -1.76563, -1.76396, -1.76244]))\n",
       "           fun: -1.7684000000000002\n",
       "       message: 'Maximum number of iterations has been exceeded.'\n",
       "          nfev: 128\n",
       "           nit: 50\n",
       "        status: 2\n",
       "       success: False\n",
       "             x: array([0.24410325, 0.4889867 , 0.31024337, 0.36597179])"
      ]
     },
     "execution_count": 160,
     "metadata": {},
     "output_type": "execute_result"
    }
   ],
   "source": [
    "result"
   ]
  },
  {
   "cell_type": "code",
   "execution_count": 9,
   "metadata": {},
   "outputs": [],
   "source": [
    "def op(s1, s2):\n",
    "    # returns a PauliSum representing a_s1^daggar a_s2\n",
    "    def sigma_plus(s):\n",
    "        # returns sigma^+ operator on side s\n",
    "        # sigma^+ = 1/2(X + iY)\n",
    "        return PauliTerm('X', s, 0.5) + PauliTerm('Y', s, complex(0.0+0.5j))\n",
    "    def sigma_minus(s):\n",
    "        # returns sigma^- operator on side s\n",
    "        # sigma^- = 1/2(X - iY)\n",
    "        return PauliTerm('X', s, 0.5) - PauliTerm('Y', s, complex(0.0+0.5j))\n",
    "    \n",
    "    # for all sites in between site one (s1) and site two (s2), multiply by sigma z\n",
    "    z = sI()\n",
    "    for i in range(s1+1, s2):\n",
    "        z *= PauliTerm('Z', i)\n",
    "        \n",
    "    return sigma_minus(s1) * z * sigma_plus(s2)"
   ]
  },
  {
   "cell_type": "code",
   "execution_count": 195,
   "metadata": {},
   "outputs": [],
   "source": [
    "# building the single particle density matrix (spdm) \n",
    "spdm = np.zeros((16,16))\n",
    "for i in range(16):\n",
    "    #for j in range(16):\n",
    "    # building an operator and vqe for each i, j\n",
    "    partial_vqe = VQEexperiment(hamiltonian=op(i, i), method='WFS', optimizer='Nelder-Mead', strategy='custom_program', parametric=True, tomography = True, shotN=100000, verbose=False)\n",
    "    ansatz = var_ansatz()\n",
    "    partial_vqe.set_custom_ansatz(ansatz)\n",
    "\n",
    "    # element (j, i) in the spdm is a_i^dagger a_j\n",
    "    spdm[i, i] = partial_vqe.objective_function(result.x)"
   ]
  },
  {
   "cell_type": "code",
   "execution_count": 196,
   "metadata": {},
   "outputs": [
    {
     "name": "stdout",
     "output_type": "stream",
     "text": [
      "[[0.5 0.  0.  0.  0.  0.  0.  0.  0.  0.  0.  0.  0.  0.  0.  0. ]\n",
      " [0.  0.5 0.  0.  0.  0.  0.  0.  0.  0.  0.  0.  0.  0.  0.  0. ]\n",
      " [0.  0.  0.5 0.  0.  0.  0.  0.  0.  0.  0.  0.  0.  0.  0.  0. ]\n",
      " [0.  0.  0.  0.5 0.  0.  0.  0.  0.  0.  0.  0.  0.  0.  0.  0. ]\n",
      " [0.  0.  0.  0.  0.  0.  0.  0.  0.  0.  0.  0.  0.  0.  0.  0. ]\n",
      " [0.  0.  0.  0.  0.  0.  0.  0.  0.  0.  0.  0.  0.  0.  0.  0. ]\n",
      " [0.  0.  0.  0.  0.  0.  0.  0.  0.  0.  0.  0.  0.  0.  0.  0. ]\n",
      " [0.  0.  0.  0.  0.  0.  0.  0.  0.  0.  0.  0.  0.  0.  0.  0. ]\n",
      " [0.  0.  0.  0.  0.  0.  0.  0.  0.  0.  0.  0.  0.  0.  0.  0. ]\n",
      " [0.  0.  0.  0.  0.  0.  0.  0.  0.  0.  0.  0.  0.  0.  0.  0. ]\n",
      " [0.  0.  0.  0.  0.  0.  0.  0.  0.  0.  0.  0.  0.  0.  0.  0. ]\n",
      " [0.  0.  0.  0.  0.  0.  0.  0.  0.  0.  0.  0.  0.  0.  0.  0. ]\n",
      " [0.  0.  0.  0.  0.  0.  0.  0.  0.  0.  0.  0.  0.  0.  0.  0. ]\n",
      " [0.  0.  0.  0.  0.  0.  0.  0.  0.  0.  0.  0.  0.  0.  0.  0. ]\n",
      " [0.  0.  0.  0.  0.  0.  0.  0.  0.  0.  0.  0.  0.  0.  0.  0. ]\n",
      " [0.  0.  0.  0.  0.  0.  0.  0.  0.  0.  0.  0.  0.  0.  0.  0. ]]\n"
     ]
    }
   ],
   "source": [
    "np.set_printoptions(suppress=True)\n",
    "print(np.around(spdm, decimals=2))"
   ]
  },
  {
   "cell_type": "code",
   "execution_count": 197,
   "metadata": {},
   "outputs": [
    {
     "data": {
      "text/plain": [
       "1.99607"
      ]
     },
     "execution_count": 197,
     "metadata": {},
     "output_type": "execute_result"
    }
   ],
   "source": [
    "np.trace(spdm)"
   ]
  },
  {
   "cell_type": "code",
   "execution_count": null,
   "metadata": {},
   "outputs": [],
   "source": []
  }
 ],
 "metadata": {
  "kernelspec": {
   "display_name": "Python 3",
   "language": "python",
   "name": "python3"
  },
  "language_info": {
   "codemirror_mode": {
    "name": "ipython",
    "version": 3
   },
   "file_extension": ".py",
   "mimetype": "text/x-python",
   "name": "python",
   "nbconvert_exporter": "python",
   "pygments_lexer": "ipython3",
   "version": "3.7.3"
  }
 },
 "nbformat": 4,
 "nbformat_minor": 2
}
