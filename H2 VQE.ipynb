{
 "cells": [
  {
   "cell_type": "code",
   "execution_count": 3,
   "metadata": {},
   "outputs": [],
   "source": [
    "from pyquil.quil import Program\n",
    "import pyquil.api as api\n",
    "from pyquil.gates import *\n",
    "from pyquil.paulis import *\n",
    "import numpy as np\n",
    "from grove.pyvqe.vqe import VQE\n",
    "from scipy.optimize import minimize"
   ]
  },
  {
   "cell_type": "code",
   "execution_count": 4,
   "metadata": {},
   "outputs": [],
   "source": [
    "qvm = api.QVMConnection()\n",
    "vqe_inst = VQE(minimizer=minimize, minimizer_kwargs={'method': 'nelder-mead'})"
   ]
  },
  {
   "cell_type": "code",
   "execution_count": 30,
   "metadata": {},
   "outputs": [],
   "source": [
    "hamiltonian = sX(0)*sZ(1)*sX(2) + sY(0)*sZ(1)*sY(2) + sX(1)*sZ(2)*sX(3) + sY(1)*sZ(2)*sY(3) "
   ]
  },
  {
   "cell_type": "code",
   "execution_count": 31,
   "metadata": {},
   "outputs": [
    {
     "data": {
      "text/plain": [
       "-3.9999999999999982"
      ]
     },
     "execution_count": 31,
     "metadata": {},
     "output_type": "execute_result"
    }
   ],
   "source": [
    "vqe_inst.expectation(test_ansatz(), hamiltonian, None, qvm)"
   ]
  },
  {
   "cell_type": "code",
   "execution_count": 28,
   "metadata": {},
   "outputs": [],
   "source": [
    "def test_ansatz():\n",
    "    p = Program()\n",
    "\n",
    "    p.inst(H(0))\n",
    "    p.inst(CNOT(0, 1))\n",
    "    p.inst(H(0))\n",
    "    p.inst(CNOT(1, 2))\n",
    "    p.inst(CNOT(0, 1))\n",
    "    p.inst(CNOT(2, 3))\n",
    "    p.inst(CNOT(1, 2))\n",
    "    p.inst(X(1))\n",
    "    p.inst(CNOT(2, 3))\n",
    "    p.inst(Y(2))\n",
    "    return p"
   ]
  },
  {
   "cell_type": "code",
   "execution_count": 46,
   "metadata": {},
   "outputs": [],
   "source": [
    "def ansatz(params):\n",
    "    S = 2\n",
    "    p = Program()\n",
    "    p += X(0)          \n",
    "    p += X(2)\n",
    "    for i in range(S):\n",
    "\n",
    "        # building Uu\n",
    "        for j in range(4):\n",
    "            p += RZ(params[0]/2, j)\n",
    "        p += CZ(0,1)\n",
    "        p += CZ(2,3)\n",
    "        p += RZ(-params[0]/2, 1)\n",
    "        p += RZ(-params[0]/2, 3)\n",
    "        p += CZ(0,1)\n",
    "        p += CZ(2,3)\n",
    "        \n",
    "        # building Ut\n",
    "        p += CZ(2,3)\n",
    "        p += CZ(1,2)\n",
    "        for j in range(4):\n",
    "            p += H(j)\n",
    "        p += CNOT(1,3)\n",
    "        p += CNOT(0,2)\n",
    "        p += RZ(params[1], 2)\n",
    "        p += RZ(params[1], 3)\n",
    "        p += CNOT(1,3)\n",
    "        p += CNOT(0,2)\n",
    "        for j in range(4):\n",
    "            p += H(j)\n",
    "        for j in range(4):\n",
    "            p += Y(j)\n",
    "        p += CNOT(0,2)\n",
    "        p += CNOT(1,3)\n",
    "        p += RZ(params[1], 2)\n",
    "        p += RZ(params[1], 3)\n",
    "        p += CNOT(0,2)\n",
    "        p += CNOT(1,3)\n",
    "        for j in range(4):\n",
    "            p += Y(j)\n",
    "        p += CZ(1,2)\n",
    "        p += CZ(2,3)\n",
    "    \n",
    "    return p"
   ]
  },
  {
   "cell_type": "code",
   "execution_count": 47,
   "metadata": {},
   "outputs": [
    {
     "name": "stdout",
     "output_type": "stream",
     "text": [
      "WARNING: Fast method for expectation will be used. Noise\n",
      "                     models will be ineffective\n"
     ]
    }
   ],
   "source": [
    "#initial angle\n",
    "initial_params = [0.0, 0.0]\n",
    "result = vqe_inst.vqe_run(ansatz, hamiltonian, initial_params, None, qvm=qvm)"
   ]
  },
  {
   "cell_type": "code",
   "execution_count": 43,
   "metadata": {},
   "outputs": [
    {
     "name": "stdout",
     "output_type": "stream",
     "text": [
      "{'x': array([ 7.8125e-05, -3.1250e-05]), 'fun': -4.235164733282458e-25}\n"
     ]
    }
   ],
   "source": [
    "print(result)"
   ]
  },
  {
   "cell_type": "code",
   "execution_count": null,
   "metadata": {},
   "outputs": [],
   "source": []
  }
 ],
 "metadata": {
  "kernelspec": {
   "display_name": "Python 3",
   "language": "python",
   "name": "python3"
  },
  "language_info": {
   "codemirror_mode": {
    "name": "ipython",
    "version": 3
   },
   "file_extension": ".py",
   "mimetype": "text/x-python",
   "name": "python",
   "nbconvert_exporter": "python",
   "pygments_lexer": "ipython3",
   "version": "3.7.3"
  }
 },
 "nbformat": 4,
 "nbformat_minor": 2
}
