{
 "cells": [
  {
   "cell_type": "code",
   "execution_count": 1,
   "metadata": {},
   "outputs": [],
   "source": [
    "from pyquil.paulis import *\n",
    "import numpy as np\n",
    "from numpy import linalg as LA\n",
    "import math\n",
    "import random\n",
    "import itertools\n",
    "import cirq\n",
    "# from cirqqulacs import QulacsSimulatorGpu\n",
    "import openfermioncirq\n",
    "from scipy.optimize import minimize\n",
    "import sympy"
   ]
  },
  {
   "cell_type": "code",
   "execution_count": 2,
   "metadata": {
    "tags": []
   },
   "outputs": [
    {
     "output_type": "stream",
     "name": "stdout",
     "text": [
      "4\n"
     ]
    }
   ],
   "source": [
    "model4site = [\n",
    "    {\"U\": 2, \"neighbors\": [1,3], \"hoppings\": [0,1,0,1]},\n",
    "    {\"U\": 2, \"neighbors\": [0,2], \"hoppings\": [1,0,1,0]},\n",
    "    {\"U\": 2, \"neighbors\": [1,3], \"hoppings\": [0,1,0,1]},\n",
    "    {\"U\": 2, \"neighbors\": [0,2], \"hoppings\": [1,0,1,0]}\n",
    "]\n",
    "\n",
    "model4site1d = [\n",
    "    {\"U\": 2, \"neighbors\": [1],   \"hoppings\": [0,1,0,0]},\n",
    "    {\"U\": 2, \"neighbors\": [0,2], \"hoppings\": [1,0,1,0]},\n",
    "    {\"U\": 2, \"neighbors\": [1,3], \"hoppings\": [0,1,0,1]},\n",
    "    {\"U\": 2, \"neighbors\": [2],   \"hoppings\": [0,0,1,0]}\n",
    "]\n",
    "\n",
    "model2site = [\n",
    "    {\"U\": 2, \"neighbors\": [1], \"hoppings\": [0,1]},\n",
    "    {\"U\": 2, \"neighbors\": [0], \"hoppings\": [1,0]}\n",
    "]\n",
    "\n",
    "model6site = [\n",
    "    {\"U\": 2, \"neighbors\": [1,2,5], \"hoppings\": [0,1,1,0,0,1]},\n",
    "    {\"U\": 2, \"neighbors\": [0,2,4], \"hoppings\": [1,0,1,0,1,0]},\n",
    "    {\"U\": 2, \"neighbors\": [0,1,3], \"hoppings\": [1,1,0,1,0,0]},\n",
    "    {\"U\": 2, \"neighbors\": [2,4,5], \"hoppings\": [0,0,1,0,1,1]},\n",
    "    {\"U\": 2, \"neighbors\": [1,3,5], \"hoppings\": [0,1,0,1,0,1]},\n",
    "    {\"U\": 2, \"neighbors\": [0,3,4], \"hoppings\": [1,0,0,1,1,0]}\n",
    "]\n",
    "\n",
    "model8site = [\n",
    "    {\"U\": 2, \"neighbors\": [1,3,7], \"hoppings\": [0,1,0,1,0,0,0,1]},\n",
    "    {\"U\": 2, \"neighbors\": [0,2,6], \"hoppings\": [1,0,1,0,0,0,1,0]},\n",
    "    {\"U\": 2, \"neighbors\": [1,3,5], \"hoppings\": [0,1,0,1,0,1,0,0]},\n",
    "    {\"U\": 2, \"neighbors\": [0,2,4], \"hoppings\": [1,0,1,0,1,0,0,0]},\n",
    "    {\"U\": 2, \"neighbors\": [3,5,7], \"hoppings\": [0,0,0,1,0,1,0,1]},\n",
    "    {\"U\": 2, \"neighbors\": [2,4,6], \"hoppings\": [0,0,1,0,1,0,1,0]},\n",
    "    {\"U\": 2, \"neighbors\": [1,5,7], \"hoppings\": [0,1,0,0,0,1,0,1]},\n",
    "    {\"U\": 2, \"neighbors\": [0,4,6], \"hoppings\": [1,0,0,0,1,0,1,0]}\n",
    "]\n",
    "\n",
    "t = t2 = t3 = 1\n",
    "modelGutzwiller = [\n",
    "    {\"U\": 2, \"neighbors\": [1,3,5], \"hoppings\": [0,t,0,t,0,t2,0,0]},\n",
    "    {\"U\": 2, \"neighbors\": [0,2,6], \"hoppings\": [t,0,t,0,0,0,t2,0]},\n",
    "    {\"U\": 2, \"neighbors\": [1,3,7], \"hoppings\": [0,t,0,t,0,0,0,t2]},\n",
    "    {\"U\": 2, \"neighbors\": [0,2,4], \"hoppings\": [t,0,t,0,t2,0,0,0]},\n",
    "    {\"U\": 0, \"neighbors\": [3,5,7], \"hoppings\": [0,0,0,t2,0,t3,0,t3]},\n",
    "    {\"U\": 0, \"neighbors\": [0,4,6], \"hoppings\": [t2,0,0,0,t3,0,t3,0]},\n",
    "    {\"U\": 0, \"neighbors\": [1,5,7], \"hoppings\": [0,t2,0,0,0,t3,0,t3]},\n",
    "    {\"U\": 0, \"neighbors\": [2,4,6], \"hoppings\": [0,0,t2,0,t3,0,t3,0]}\n",
    "]\n",
    "\n",
    "model12site1d = [\n",
    "    {\"U\": 2, \"neighbors\": [1],   \"hoppings\": [0,1,0,0,0,0,0,0,0,0,0,0]},\n",
    "    {\"U\": 2, \"neighbors\": [0,2], \"hoppings\": [1,0,1,0,0,0,0,0,0,0,0,0]},\n",
    "    {\"U\": 2, \"neighbors\": [1,3], \"hoppings\": [0,1,0,1,0,0,0,0,0,0,0,0]},\n",
    "    {\"U\": 2, \"neighbors\": [2,4], \"hoppings\": [0,0,1,0,1,0,0,0,0,0,0,0]},\n",
    "    {\"U\": 2, \"neighbors\": [3,5], \"hoppings\": [0,0,0,1,0,1,0,0,0,0,0,0]},\n",
    "    {\"U\": 2, \"neighbors\": [4,6], \"hoppings\": [0,0,0,0,1,0,1,0,0,0,0,0]},\n",
    "    {\"U\": 2, \"neighbors\": [5,7], \"hoppings\": [0,0,0,0,0,1,0,1,0,0,0,0]},\n",
    "    {\"U\": 2, \"neighbors\": [6,8], \"hoppings\": [0,0,0,0,0,0,1,0,1,0,0,0]},\n",
    "    {\"U\": 2, \"neighbors\": [7,9], \"hoppings\": [0,0,0,0,0,0,0,1,0,1,0,0]},\n",
    "    {\"U\": 2, \"neighbors\": [8,10],\"hoppings\": [0,0,0,0,0,0,0,0,1,0,1,0]},\n",
    "    {\"U\": 2, \"neighbors\": [9,11],\"hoppings\": [0,0,0,0,0,0,0,0,0,1,0,1]},\n",
    "    {\"U\": 2, \"neighbors\": [10],  \"hoppings\": [0,0,0,0,0,0,0,0,0,0,1,0]}\n",
    "]\n",
    "\n",
    "model = model4site\n",
    "N = len(model)\n",
    "qb = [cirq.LineQubit(i) for i in range(N*2)]\n",
    "print(N)"
   ]
  },
  {
   "cell_type": "code",
   "execution_count": 4,
   "metadata": {
    "tags": []
   },
   "outputs": [
    {
     "output_type": "stream",
     "name": "stdout",
     "text": [
      "2.000*I-0.500*Z(0)-0.500*Z(4)+0.500*Z(0)*Z(4)-0.500*Z(1)-0.500*Z(5)+0.500*Z(1)*Z(5)-0.500*Z(2)-0.500*Z(6)+0.500*Z(2)*Z(6)-0.500*Z(3)-0.500*Z(7)+0.500*Z(3)*Z(7)-0.500*X(0)*X(1)-0.500*Y(0)*Y(1)-0.500*X(0)*Z(1)*Z(2)*X(3)-0.500*Y(0)*Z(1)*Z(2)*Y(3)-0.500*X(1)*X(2)-0.500*Y(1)*Y(2)-0.500*X(2)*X(3)-0.500*Y(2)*Y(3)-0.500*X(4)*X(5)-0.500*Y(4)*Y(5)-0.500*X(4)*Z(5)*Z(6)*X(7)-0.500*Y(4)*Z(5)*Z(6)*Y(7)-0.500*X(5)*X(6)-0.500*Y(5)*Y(6)-0.500*X(6)*X(7)-0.500*Y(6)*Y(7)\n"
     ]
    }
   ],
   "source": [
    "from cirq import PauliString\n",
    "\n",
    "def U():\n",
    "    \"\"\"\n",
    "    Builds the interaction term: a_p^dagger a_q^dagger a_q a_p\n",
    "    \"\"\"    \n",
    "    hamiltonian = PauliString(0)\n",
    "    for i in range(N):\n",
    "        hamiltonian += (model[i][\"U\"] / 4) * (PauliString(cirq.I(qb[i])) - PauliString(cirq.Z(qb[i])) - PauliString(cirq.Z(qb[i+N])) + PauliString(cirq.Z(qb[i])*cirq.Z(qb[i+N])))\n",
    "\n",
    "    return hamiltonian\n",
    "\n",
    "def t():\n",
    "    \"\"\"\n",
    "    Builds the hopping term: a_p^dagger a_q\n",
    "    \"\"\"\n",
    "    def op(s1, s2):\n",
    "        \"\"\"\n",
    "        returns a PauliSum representing a_s1^daggar a_s2\n",
    "        \"\"\"    \n",
    "        # for all sites in between site one (s1) and site two (s2), multiply by sigma z\n",
    "        z = cirq.I(qb[0])\n",
    "        for i in range(s1+1, s2):\n",
    "            z *= cirq.Z(qb[i])\n",
    "\n",
    "        return PauliString(cirq.X(qb[s1])) * z * PauliString(cirq.X(qb[s2])) + PauliString(cirq.Y(qb[s1])) * z * PauliString(cirq.Y(qb[s2]))\n",
    "        \n",
    "    hops = []\n",
    "    for i in range(N):\n",
    "        n = model[i][\"neighbors\"]\n",
    "        for j in range(len(n)):\n",
    "            # if a hopping is not already in the array i.e. don't add (3,0) if (0,3) is there\n",
    "            if (i, n[j]) in hops or (n[j], i) in hops or i == n[j]:\n",
    "                pass\n",
    "            else:\n",
    "                hops.append((i, n[j]))\n",
    "                \n",
    "    hamiltonian = PauliString(0)\n",
    "    for hop in hops:\n",
    "        # add hoppings for up and down spins\n",
    "        hamiltonian += (-model[hop[0]][\"hoppings\"][hop[1]]) * op(hop[0], hop[1])\n",
    "    for hop in hops:\n",
    "        hamiltonian += (-model[hop[0]][\"hoppings\"][hop[1]]) * op(hop[0]+N, hop[1]+N)\n",
    "    return hamiltonian * (1/2)\n",
    "\n",
    "hamU = U()\n",
    "hamt = t()\n",
    "\n",
    "hamiltonian = hamU + hamt\n",
    "print(hamiltonian)"
   ]
  },
  {
   "cell_type": "code",
   "execution_count": 5,
   "metadata": {},
   "outputs": [],
   "source": [
    "def U_ansatz(param):\n",
    "    \"\"\"\n",
    "    Creates a circuit for e^{i \\theta_U H_U}\n",
    "    \"\"\"\n",
    "    for i in range(N):\n",
    "        yield cirq.rz(model[i][\"U\"]*param/4)(qb[i])\n",
    "        yield cirq.rz(model[i][\"U\"]*param/4)(qb[i+N])\n",
    "        yield cirq.CNOT(qb[i], qb[i+N])\n",
    "        yield cirq.rz(-model[i][\"U\"]*param/4)(qb[i+N])\n",
    "        yield cirq.CNOT(qb[i], qb[i+N])"
   ]
  },
  {
   "cell_type": "code",
   "execution_count": 6,
   "metadata": {},
   "outputs": [],
   "source": [
    "def t_ansatz(s1, s2, param):\n",
    "    \"\"\"\n",
    "    Creates a circuit for e^{i \\theta_t H_t} for horizontal and vertical hoppings\n",
    "    \"\"\"    \n",
    "    for i in range(s1+1, s2):\n",
    "        if (i == s2-1):\n",
    "            yield cirq.CZ(qb[i], qb[i+1])\n",
    "        else:\n",
    "            yield cirq.CNOT(qb[i], qb[i+1])\n",
    "\n",
    "    yield cirq.H(qb[s1])    \n",
    "    yield cirq.H(qb[s2])    \n",
    "    yield cirq.CNOT(qb[s1], qb[s2])\n",
    "    yield cirq.rz(param)(qb[s2])\n",
    "    yield cirq.CNOT(qb[s1], qb[s2])\n",
    "    yield cirq.H(qb[s1])    \n",
    "    yield cirq.H(qb[s2]) \n",
    "    yield cirq.rx(-np.pi/2)(qb[s1])\n",
    "    yield cirq.rx(-np.pi/2)(qb[s2])\n",
    "    yield cirq.CNOT(qb[s1], qb[s2])\n",
    "    yield cirq.rz(param)(qb[s2])\n",
    "    yield cirq.CNOT(qb[s1], qb[s2])\n",
    "    yield cirq.rx(-np.pi/2)(qb[s1])\n",
    "    yield cirq.rx(-np.pi/2)(qb[s2])\n",
    "    \n",
    "    for i in reversed(range(s1+1, s2)):\n",
    "        if (i == s2-1):\n",
    "            yield cirq.CZ(qb[i], qb[i+1])\n",
    "        else:\n",
    "            yield cirq.CNOT(qb[i], qb[i+1])\n",
    "    return c"
   ]
  },
  {
   "cell_type": "code",
   "execution_count": 7,
   "metadata": {
    "tags": []
   },
   "outputs": [
    {
     "output_type": "stream",
     "name": "stdout",
     "text": [
      "[[ 0. -1.  0. -1.]\n [-1.  0. -1.  0.]\n [ 0. -1.  0. -1.]\n [-1.  0. -1.  0.]]\n-2.0 [0.5 0.5 0.5 0.5]\n-4.5102810375396984e-17 [-7.07106781e-01 -2.45326947e-17  7.07106781e-01 -2.45326947e-17]\n0.0 [ 0.         -0.70710678  0.          0.70710678]\n2.0 [ 0.5 -0.5  0.5 -0.5]\n"
     ]
    }
   ],
   "source": [
    "# This is from the pyquil code, I am not sure what this cell is doing so I don't know how to convert it to qulacs\n",
    "# The main issue was from how the model was set up in pyquil. Since I have to explicitly write the hamiltonian,\n",
    "# I still am figuring out how to work with the neighbors and hopping terms\n",
    "\n",
    "simplified_h_t =  np.array([[ 0.0 for i in range(N)] for j in range(N)])\n",
    "for i in range(N):\n",
    "    for j in model[i][\"neighbors\"]:\n",
    "        simplified_h_t[i][j] = -1.0\n",
    "# for i in range(N):\n",
    "#     simplified_h_t[i][N-1-i] = -0.99\n",
    "print(simplified_h_t)\n",
    "w2, v2 = LA.eigh(simplified_h_t)\n",
    "\n",
    "for i in range(N):\n",
    "    print(w2[i], v2[:,i])"
   ]
  },
  {
   "cell_type": "code",
   "execution_count": 10,
   "metadata": {
    "tags": []
   },
   "outputs": [
    {
     "output_type": "stream",
     "name": "stdout",
     "text": [
      "[[1. 0. 0. 0.]\n [0. 1. 0. 0.]]\n"
     ]
    },
    {
     "output_type": "error",
     "ename": "NameError",
     "evalue": "name 'QulacsSimulatorGpu' is not defined",
     "traceback": [
      "\u001b[1;31m---------------------------------------------------------------------------\u001b[0m",
      "\u001b[1;31mNameError\u001b[0m                                 Traceback (most recent call last)",
      "\u001b[1;32m<ipython-input-10-34bb5ce9049a>\u001b[0m in \u001b[0;36m<module>\u001b[1;34m()\u001b[0m\n\u001b[0;32m     63\u001b[0m \u001b[0mc\u001b[0m \u001b[1;33m=\u001b[0m \u001b[0mcirq\u001b[0m\u001b[1;33m.\u001b[0m\u001b[0mCircuit\u001b[0m\u001b[1;33m(\u001b[0m\u001b[1;33m)\u001b[0m\u001b[1;33m\u001b[0m\u001b[1;33m\u001b[0m\u001b[0m\n\u001b[0;32m     64\u001b[0m \u001b[0mc\u001b[0m \u001b[1;33m=\u001b[0m \u001b[0mprepare_slater_determinant\u001b[0m\u001b[1;33m(\u001b[0m\u001b[0mQ\u001b[0m\u001b[1;33m)\u001b[0m\u001b[1;33m\u001b[0m\u001b[1;33m\u001b[0m\u001b[0m\n\u001b[1;32m---> 65\u001b[1;33m \u001b[0mres\u001b[0m \u001b[1;33m=\u001b[0m \u001b[0mQulacsSimulatorGpu\u001b[0m\u001b[1;33m(\u001b[0m\u001b[1;33m)\u001b[0m\u001b[1;33m.\u001b[0m\u001b[0msimulate\u001b[0m\u001b[1;33m(\u001b[0m\u001b[0mc\u001b[0m\u001b[1;33m)\u001b[0m\u001b[1;33m\u001b[0m\u001b[1;33m\u001b[0m\u001b[0m\n\u001b[0m\u001b[0;32m     66\u001b[0m \u001b[0mqb_map\u001b[0m \u001b[1;33m=\u001b[0m \u001b[1;33m{\u001b[0m\u001b[0mqb\u001b[0m\u001b[1;33m[\u001b[0m\u001b[0mi\u001b[0m\u001b[1;33m]\u001b[0m\u001b[1;33m:\u001b[0m \u001b[0mi\u001b[0m \u001b[1;32mfor\u001b[0m \u001b[0mi\u001b[0m \u001b[1;32min\u001b[0m \u001b[0mrange\u001b[0m\u001b[1;33m(\u001b[0m\u001b[0mN\u001b[0m\u001b[1;33m*\u001b[0m\u001b[1;36m2\u001b[0m\u001b[1;33m)\u001b[0m\u001b[1;33m}\u001b[0m\u001b[1;33m\u001b[0m\u001b[1;33m\u001b[0m\u001b[0m\n\u001b[0;32m     67\u001b[0m \u001b[0mr\u001b[0m \u001b[1;33m=\u001b[0m \u001b[0mres\u001b[0m\u001b[1;33m.\u001b[0m\u001b[0m_final_simulator_state\u001b[0m\u001b[1;33m\u001b[0m\u001b[1;33m\u001b[0m\u001b[0m\n",
      "\u001b[1;31mNameError\u001b[0m: name 'QulacsSimulatorGpu' is not defined"
     ]
    }
   ],
   "source": [
    "# Q = get_mo(h1, eri, N)\n",
    "Q = np.array(\n",
    "[[1., 0., 0., 0.],\n",
    " [0., 1., 0., 0.]]\n",
    " )\n",
    "\n",
    "\n",
    "print(Q)\n",
    "from openfermion.utils import slater_determinant_preparation_circuit\n",
    "\n",
    "def prepare_slater_determinant(Q): \n",
    "    \"\"\"\n",
    "    Prepares the Slater determinant as described in https://arxiv.org/pdf/1711.05395.pdf\n",
    "    \n",
    "    Args:\n",
    "        Q: The (N_f x N) matrix Q with orthonormal rows which describes the Slater determinant to be prepared.\n",
    "    Returns:\n",
    "        c: A program that applies the sequence of Givens rotations returned \n",
    "            from slater_determinant_preparation_circuit\n",
    "    \"\"\"\n",
    "\n",
    "    # Q is a (N_f x N) matrix\n",
    "    # N = Q[0].size, number of sites\n",
    "    N_f = len(Q)\n",
    "    \n",
    "    givens = slater_determinant_preparation_circuit(Q)\n",
    "\n",
    "    def givens_rotation(tups, spin):\n",
    "        \"\"\"\n",
    "        Performs Givens rotations\n",
    "        \n",
    "        Args:\n",
    "            tups: tuple containing Givens rotations to be performed together\n",
    "            spin: 0 represents up spin, and 1 represents down spin\n",
    "        Returns:\n",
    "            p: A program that applies the Givens rotations in tups\n",
    "        \"\"\"\n",
    "        for tup in tups:\n",
    "            # where tup is (j, k, theta, phi)\n",
    "            # yield cirq.CNOT(qb[tup[1]+(N*spin)], qb[tup[0]+(N*spin)])\n",
    "            yield cirq.CNOT(qb[tup[1]+(N*spin)], qb[tup[0]+(N*spin)])\n",
    "\n",
    "            # controlled-RY\n",
    "            yield cirq.YPowGate(exponent=tup[2] / np.pi, global_shift=-0.5).controlled(1)(qb[tup[0]+N*spin], qb[tup[1]+(N*spin)])\n",
    "\n",
    "            yield cirq.CNOT(qb[tup[1]+(N*spin)], qb[tup[0]+(N*spin)])\n",
    "            yield cirq.rz(tup[3])(qb[tup[1]+(N*spin)]) # all psis are zero, anyway\n",
    "    \n",
    "    c = cirq.Circuit()\n",
    "\n",
    "    # Fill first N_f orbitals for each spin\n",
    "    for i in range(N_f):\n",
    "        c.append(cirq.X(qb[i]))\n",
    "        c.append(cirq.X(qb[i+N]))\n",
    "\n",
    "    # Perform Givens rotations for up and down spins\n",
    "    for rot in givens:\n",
    "        c.append(givens_rotation(rot, 0))\n",
    "        c.append(givens_rotation(rot, 1))\n",
    "\n",
    "    return c\n",
    "\n",
    "c = cirq.Circuit()\n",
    "c = prepare_slater_determinant(Q)\n",
    "res = QulacsSimulatorGpu().simulate(c)\n",
    "qb_map = {qb[i]: i for i in range(N*2)}\n",
    "r = res._final_simulator_state\n",
    "print()\n",
    "print(slater_determinant_preparation_circuit(Q))\n",
    "print()\n",
    "print(c)\n",
    "print()\n",
    "print(hamiltonian.expectation_from_wavefunction(res._final_simulator_state, qb_map))"
   ]
  },
  {
   "cell_type": "code",
   "execution_count": 122,
   "metadata": {},
   "outputs": [
    {
     "output_type": "stream",
     "name": "stdout",
     "text": [
      "0: ───X───\n\n1: ───X───\n\n4: ───X───\n\n5: ───X───\n"
     ]
    },
    {
     "output_type": "error",
     "ename": "ValueError",
     "evalue": "Input qubit map indices must be valid for a state over 4 qubits.",
     "traceback": [
      "\u001b[1;31m---------------------------------------------------------------------------\u001b[0m",
      "\u001b[1;31mValueError\u001b[0m                                Traceback (most recent call last)",
      "\u001b[1;32m<ipython-input-122-f65f5efb2239>\u001b[0m in \u001b[0;36m<module>\u001b[1;34m()\u001b[0m\n\u001b[0;32m      7\u001b[0m \u001b[0mres\u001b[0m \u001b[1;33m=\u001b[0m \u001b[0ms\u001b[0m\u001b[1;33m.\u001b[0m\u001b[0msimulate\u001b[0m\u001b[1;33m(\u001b[0m\u001b[0mc\u001b[0m\u001b[1;33m)\u001b[0m\u001b[1;33m\u001b[0m\u001b[1;33m\u001b[0m\u001b[0m\n\u001b[0;32m      8\u001b[0m \u001b[0mqb_map\u001b[0m \u001b[1;33m=\u001b[0m \u001b[1;33m{\u001b[0m\u001b[0mqb\u001b[0m\u001b[1;33m[\u001b[0m\u001b[0mi\u001b[0m\u001b[1;33m]\u001b[0m\u001b[1;33m:\u001b[0m \u001b[0mi\u001b[0m \u001b[1;32mfor\u001b[0m \u001b[0mi\u001b[0m \u001b[1;32min\u001b[0m \u001b[0mrange\u001b[0m\u001b[1;33m(\u001b[0m\u001b[0mN\u001b[0m\u001b[1;33m*\u001b[0m\u001b[1;36m2\u001b[0m\u001b[1;33m)\u001b[0m\u001b[1;33m}\u001b[0m\u001b[1;33m\u001b[0m\u001b[1;33m\u001b[0m\u001b[0m\n\u001b[1;32m----> 9\u001b[1;33m \u001b[0mprint\u001b[0m\u001b[1;33m(\u001b[0m\u001b[0mhamiltonian\u001b[0m\u001b[1;33m.\u001b[0m\u001b[0mexpectation_from_state_vector\u001b[0m\u001b[1;33m(\u001b[0m\u001b[0mres\u001b[0m\u001b[1;33m.\u001b[0m\u001b[0m_final_simulator_state\u001b[0m\u001b[1;33m.\u001b[0m\u001b[0mstate_vector\u001b[0m\u001b[1;33m,\u001b[0m \u001b[0mqb_map\u001b[0m\u001b[1;33m)\u001b[0m\u001b[1;33m)\u001b[0m\u001b[1;33m\u001b[0m\u001b[1;33m\u001b[0m\u001b[0m\n\u001b[0m",
      "\u001b[1;32m~\\AppData\\Roaming\\Python\\Python36\\site-packages\\cirq\\_compat.py\u001b[0m in \u001b[0;36mdecorated_func\u001b[1;34m(*args, **kwargs)\u001b[0m\n\u001b[0;32m    217\u001b[0m                     stacklevel=2)\n\u001b[0;32m    218\u001b[0m \u001b[1;33m\u001b[0m\u001b[0m\n\u001b[1;32m--> 219\u001b[1;33m             \u001b[1;32mreturn\u001b[0m \u001b[0mfunc\u001b[0m\u001b[1;33m(\u001b[0m\u001b[1;33m*\u001b[0m\u001b[0margs\u001b[0m\u001b[1;33m,\u001b[0m \u001b[1;33m**\u001b[0m\u001b[0mkwargs\u001b[0m\u001b[1;33m)\u001b[0m\u001b[1;33m\u001b[0m\u001b[1;33m\u001b[0m\u001b[0m\n\u001b[0m\u001b[0;32m    220\u001b[0m \u001b[1;33m\u001b[0m\u001b[0m\n\u001b[0;32m    221\u001b[0m         \u001b[1;32mreturn\u001b[0m \u001b[0mdecorated_func\u001b[0m\u001b[1;33m\u001b[0m\u001b[1;33m\u001b[0m\u001b[0m\n",
      "\u001b[1;32m~\\AppData\\Roaming\\Python\\Python36\\site-packages\\cirq\\ops\\linear_combinations.py\u001b[0m in \u001b[0;36mexpectation_from_state_vector\u001b[1;34m(self, state_vector, qubit_map, atol, check_preconditions)\u001b[0m\n\u001b[0;32m    488\u001b[0m         \u001b[0msize\u001b[0m \u001b[1;33m=\u001b[0m \u001b[0mstate_vector\u001b[0m\u001b[1;33m.\u001b[0m\u001b[0msize\u001b[0m\u001b[1;33m\u001b[0m\u001b[1;33m\u001b[0m\u001b[0m\n\u001b[0;32m    489\u001b[0m         \u001b[0mnum_qubits\u001b[0m \u001b[1;33m=\u001b[0m \u001b[0msize\u001b[0m\u001b[1;33m.\u001b[0m\u001b[0mbit_length\u001b[0m\u001b[1;33m(\u001b[0m\u001b[1;33m)\u001b[0m \u001b[1;33m-\u001b[0m \u001b[1;36m1\u001b[0m\u001b[1;33m\u001b[0m\u001b[1;33m\u001b[0m\u001b[0m\n\u001b[1;32m--> 490\u001b[1;33m         \u001b[0m_validate_qubit_mapping\u001b[0m\u001b[1;33m(\u001b[0m\u001b[0mqubit_map\u001b[0m\u001b[1;33m,\u001b[0m \u001b[0mself\u001b[0m\u001b[1;33m.\u001b[0m\u001b[0mqubits\u001b[0m\u001b[1;33m,\u001b[0m \u001b[0mnum_qubits\u001b[0m\u001b[1;33m)\u001b[0m\u001b[1;33m\u001b[0m\u001b[1;33m\u001b[0m\u001b[0m\n\u001b[0m\u001b[0;32m    491\u001b[0m \u001b[1;33m\u001b[0m\u001b[0m\n\u001b[0;32m    492\u001b[0m         if len(state_vector.shape) != 1 and state_vector.shape != (\n",
      "\u001b[1;32m~\\AppData\\Roaming\\Python\\Python36\\site-packages\\cirq\\ops\\pauli_string.py\u001b[0m in \u001b[0;36m_validate_qubit_mapping\u001b[1;34m(qubit_map, pauli_qubits, num_state_qubits)\u001b[0m\n\u001b[0;32m   1021\u001b[0m     if len(used_inds) != len(set(used_inds)) or not set(\n\u001b[0;32m   1022\u001b[0m             range(num_state_qubits)) >= set(sorted(used_inds)):\n\u001b[1;32m-> 1023\u001b[1;33m         raise ValueError('Input qubit map indices must be valid for a state '\n\u001b[0m\u001b[0;32m   1024\u001b[0m                          f'over {num_state_qubits} qubits.')\n\u001b[0;32m   1025\u001b[0m \u001b[1;33m\u001b[0m\u001b[0m\n",
      "\u001b[1;31mValueError\u001b[0m: Input qubit map indices must be valid for a state over 4 qubits."
     ]
    }
   ],
   "source": [
    "from openfermioncirq import prepare_slater_determinant\n",
    "c = cirq.Circuit()\n",
    "c.append(prepare_slater_determinant(qb[:N], Q))\n",
    "c.append(prepare_slater_determinant(qb[N:], Q))\n",
    "print(c)\n",
    "s = cirq.Simulator()\n",
    "res = s.simulate(c)\n",
    "qb_map = {qb[i]: i for i in range(N*2)}\n",
    "print(hamiltonian.expectation_from_state_vector(res._final_simulator_state.state_vector, qb_map))"
   ]
  },
  {
   "cell_type": "code",
   "execution_count": 8,
   "metadata": {
    "tags": []
   },
   "outputs": [
    {
     "output_type": "stream",
     "name": "stdout",
     "text": [
      "[[ 0. -1.  0.  1.]\n [-1.  0.  1.  0.]\n [ 0.  1.  0. -1.]\n [ 1.  0. -1.  0.]]\n[(0, 1), (2, 3)]\n[(0, 3), (1, 2)]\n"
     ]
    }
   ],
   "source": [
    "# convert to hopping direction matrix\n",
    "for i in range(N):\n",
    "    simplified_h_t[i][N-1-i] *= -1\n",
    "\n",
    "hops = []\n",
    "for j in range(N):\n",
    "    n = model[j][\"neighbors\"]\n",
    "    for k in range(len(n)):\n",
    "        # if a hopping is not already in the array i.e. don't add (3,0) if (0,3) is there\n",
    "        if (j, n[k]) in hops or (n[k], j) in hops or j == n[k]:\n",
    "            pass\n",
    "        else:\n",
    "            hops.append((j, n[k]))\n",
    "h_hops = []\n",
    "v_hops = []\n",
    "for hop in hops:\n",
    "    if (simplified_h_t[hop[0]][hop[1]] < 0):\n",
    "        h_hops.append(hop)\n",
    "    else:\n",
    "        v_hops.append(hop)\n",
    "\n",
    "print(simplified_h_t)\n",
    "print(h_hops)\n",
    "print(v_hops)\n",
    "\n",
    "def var_ansatz(params):\n",
    "    \"\"\"\n",
    "    Prepares \\sum_S [U_U(\\theta_U / 2) U_h(\\theta_h) U_v(\\theta_v) U_U(\\theta_U / 2)] | \\Psi_I >\n",
    "    Where | \\Psi_I > is the Slater determinant for U = 0\n",
    "    \"\"\"\n",
    "    S = 1\n",
    "    c = cirq.Circuit()\n",
    "    c = prepare_slater_determinant(Q)\n",
    "    \n",
    "    for i in range(S):\n",
    "        # building U_u\n",
    "        c.append(U_ansatz(params[3*i]))\n",
    "\n",
    "        # building U_t, horizontal and vertical\n",
    "        # up spin horizontal hops\n",
    "        for hop in h_hops:\n",
    "            c.append(t_ansatz(hop[0], hop[1], params[3*i+1]))\n",
    "        # down spin horizontal hops\n",
    "        for hop in h_hops:\n",
    "            c.append(t_ansatz(hop[0]+N, hop[1]+N, params[3*i+1]))\n",
    "\n",
    "        # up spin vertical hops\n",
    "        for hop in v_hops:\n",
    "            c.append(t_ansatz(hop[0], hop[1], params[3*i+2]))\n",
    "        # down spin vertical hops\n",
    "        for hop in v_hops:\n",
    "            c.append(t_ansatz(hop[0]+N, hop[1]+N, params[3*i+2]))\n",
    "    \n",
    "        # building U_u\n",
    "        c.append(U_ansatz(params[3*i]))\n",
    "        \n",
    "    return c"
   ]
  },
  {
   "cell_type": "code",
   "execution_count": 50,
   "metadata": {},
   "outputs": [
    {
     "output_type": "display_data",
     "data": {
      "text/plain": "<Figure size 432x288 with 0 Axes>"
     },
     "metadata": {}
    },
    {
     "output_type": "display_data",
     "data": {
      "text/plain": "<Figure size 468x216 with 2 Axes>",
      "image/svg+xml": "<?xml version=\"1.0\" encoding=\"utf-8\" standalone=\"no\"?>\r\n<!DOCTYPE svg PUBLIC \"-//W3C//DTD SVG 1.1//EN\"\r\n  \"http://www.w3.org/Graphics/SVG/1.1/DTD/svg11.dtd\">\r\n<!-- Created with matplotlib (https://matplotlib.org/) -->\r\n<svg height=\"203.965pt\" version=\"1.1\" viewBox=\"0 0 414.74 203.965\" width=\"414.74pt\" xmlns=\"http://www.w3.org/2000/svg\" xmlns:xlink=\"http://www.w3.org/1999/xlink\">\r\n <defs>\r\n  <style type=\"text/css\">\r\n*{stroke-linecap:butt;stroke-linejoin:round;}\r\n  </style>\r\n </defs>\r\n <g id=\"figure_1\">\r\n  <g id=\"patch_1\">\r\n   <path d=\"M 0 203.965 \r\nL 414.74 203.965 \r\nL 414.74 0 \r\nL 0 0 \r\nz\r\n\" style=\"fill:none;\"/>\r\n  </g>\r\n  <g id=\"axes_1\">\r\n   <g id=\"patch_2\">\r\n    <path d=\"M 44.84 170.28 \r\nL 209.703636 170.28 \r\nL 209.703636 7.2 \r\nL 44.84 7.2 \r\nz\r\n\" style=\"fill:#ffffff;\"/>\r\n   </g>\r\n   <g id=\"matplotlib.axis_1\">\r\n    <g id=\"xtick_1\">\r\n     <g id=\"line2d_1\">\r\n      <defs>\r\n       <path d=\"M 0 0 \r\nL 0 3.5 \r\n\" id=\"m7df88d9f90\" style=\"stroke:#000000;stroke-width:0.8;\"/>\r\n      </defs>\r\n      <g>\r\n       <use style=\"stroke:#000000;stroke-width:0.8;\" x=\"72.317273\" xlink:href=\"#m7df88d9f90\" y=\"170.28\"/>\r\n      </g>\r\n     </g>\r\n     <g id=\"text_1\">\r\n      <!-- 5 -->\r\n      <defs>\r\n       <path d=\"M 50.296875 72.90625 \r\nL 50.296875 64.890625 \r\nL 16.890625 64.890625 \r\nL 16.890625 44 \r\nQ 19.4375 45.75 22.828125 46.625 \r\nQ 26.21875 47.515625 30.421875 47.515625 \r\nQ 42.234375 47.515625 49.0625 40.96875 \r\nQ 55.90625 34.421875 55.90625 23.09375 \r\nQ 55.90625 11.53125 49 5.046875 \r\nQ 42.09375 -1.421875 29.59375 -1.421875 \r\nQ 24.5625 -1.421875 19.28125 -0.1875 \r\nQ 14.015625 1.03125 8.5 3.515625 \r\nL 8.5 17.671875 \r\nL 14.015625 17.671875 \r\nQ 14.453125 10.75 18.421875 7.078125 \r\nQ 22.40625 3.421875 29.59375 3.421875 \r\nQ 37.3125 3.421875 41.453125 8.5 \r\nQ 45.609375 13.578125 45.609375 23.09375 \r\nQ 45.609375 32.5625 41.484375 37.609375 \r\nQ 37.359375 42.671875 29.59375 42.671875 \r\nQ 25.203125 42.671875 21.84375 41.109375 \r\nQ 18.5 39.546875 15.921875 36.28125 \r\nL 11.71875 36.28125 \r\nL 11.71875 72.90625 \r\nz\r\n\" id=\"DejaVuSerif-53\"/>\r\n      </defs>\r\n      <g transform=\"translate(69.772273 183.35875)scale(0.08 -0.08)\">\r\n       <use xlink:href=\"#DejaVuSerif-53\"/>\r\n      </g>\r\n     </g>\r\n    </g>\r\n    <g id=\"xtick_2\">\r\n     <g id=\"line2d_2\">\r\n      <g>\r\n       <use style=\"stroke:#000000;stroke-width:0.8;\" x=\"122.27595\" xlink:href=\"#m7df88d9f90\" y=\"170.28\"/>\r\n      </g>\r\n     </g>\r\n     <g id=\"text_2\">\r\n      <!-- 10 -->\r\n      <defs>\r\n       <path d=\"M 14.203125 0 \r\nL 14.203125 5.171875 \r\nL 26.90625 5.171875 \r\nL 26.90625 65.828125 \r\nL 12.203125 56.296875 \r\nL 12.203125 62.703125 \r\nL 29.984375 74.21875 \r\nL 36.71875 74.21875 \r\nL 36.71875 5.171875 \r\nL 49.421875 5.171875 \r\nL 49.421875 0 \r\nz\r\n\" id=\"DejaVuSerif-49\"/>\r\n       <path d=\"M 31.78125 3.421875 \r\nQ 39.265625 3.421875 42.96875 11.625 \r\nQ 46.6875 19.828125 46.6875 36.375 \r\nQ 46.6875 52.984375 42.96875 61.1875 \r\nQ 39.265625 69.390625 31.78125 69.390625 \r\nQ 24.3125 69.390625 20.59375 61.1875 \r\nQ 16.890625 52.984375 16.890625 36.375 \r\nQ 16.890625 19.828125 20.59375 11.625 \r\nQ 24.3125 3.421875 31.78125 3.421875 \r\nz\r\nM 31.78125 -1.421875 \r\nQ 19.921875 -1.421875 13.25 8.53125 \r\nQ 6.59375 18.5 6.59375 36.375 \r\nQ 6.59375 54.296875 13.25 64.25 \r\nQ 19.921875 74.21875 31.78125 74.21875 \r\nQ 43.703125 74.21875 50.34375 64.25 \r\nQ 56.984375 54.296875 56.984375 36.375 \r\nQ 56.984375 18.5 50.34375 8.53125 \r\nQ 43.703125 -1.421875 31.78125 -1.421875 \r\nz\r\n\" id=\"DejaVuSerif-48\"/>\r\n      </defs>\r\n      <g transform=\"translate(117.18595 183.35875)scale(0.08 -0.08)\">\r\n       <use xlink:href=\"#DejaVuSerif-49\"/>\r\n       <use x=\"63.623047\" xlink:href=\"#DejaVuSerif-48\"/>\r\n      </g>\r\n     </g>\r\n    </g>\r\n    <g id=\"xtick_3\">\r\n     <g id=\"line2d_3\">\r\n      <g>\r\n       <use style=\"stroke:#000000;stroke-width:0.8;\" x=\"172.234628\" xlink:href=\"#m7df88d9f90\" y=\"170.28\"/>\r\n      </g>\r\n     </g>\r\n     <g id=\"text_3\">\r\n      <!-- 15 -->\r\n      <g transform=\"translate(167.144628 183.35875)scale(0.08 -0.08)\">\r\n       <use xlink:href=\"#DejaVuSerif-49\"/>\r\n       <use x=\"63.623047\" xlink:href=\"#DejaVuSerif-53\"/>\r\n      </g>\r\n     </g>\r\n    </g>\r\n    <g id=\"text_4\">\r\n     <!-- Variational parameters -->\r\n     <defs>\r\n      <path d=\"M 17.484375 67.671875 \r\nL 39.015625 11.71875 \r\nL 60.5 67.671875 \r\nL 52.296875 67.671875 \r\nL 52.296875 72.90625 \r\nL 73.6875 72.90625 \r\nL 73.6875 67.671875 \r\nL 66.609375 67.671875 \r\nL 40.578125 0 \r\nL 32.171875 0 \r\nL 6.296875 67.671875 \r\nL -0.984375 67.671875 \r\nL -0.984375 72.90625 \r\nL 25.59375 72.90625 \r\nL 25.59375 67.671875 \r\nz\r\n\" id=\"DejaVuSerif-86\"/>\r\n      <path d=\"M 39.796875 16.3125 \r\nL 39.796875 27.296875 \r\nL 28.21875 27.296875 \r\nQ 21.53125 27.296875 18.25 24.40625 \r\nQ 14.984375 21.53125 14.984375 15.578125 \r\nQ 14.984375 10.15625 18.296875 6.984375 \r\nQ 21.625 3.8125 27.296875 3.8125 \r\nQ 32.90625 3.8125 36.34375 7.28125 \r\nQ 39.796875 10.75 39.796875 16.3125 \r\nz\r\nM 48.78125 32.421875 \r\nL 48.78125 5.171875 \r\nL 56.78125 5.171875 \r\nL 56.78125 0 \r\nL 39.796875 0 \r\nL 39.796875 5.609375 \r\nQ 36.8125 2 32.90625 0.28125 \r\nQ 29 -1.421875 23.78125 -1.421875 \r\nQ 15.140625 -1.421875 10.0625 3.171875 \r\nQ 4.984375 7.765625 4.984375 15.578125 \r\nQ 4.984375 23.640625 10.796875 28.078125 \r\nQ 16.609375 32.515625 27.203125 32.515625 \r\nL 39.796875 32.515625 \r\nL 39.796875 36.078125 \r\nQ 39.796875 42 36.203125 45.234375 \r\nQ 32.625 48.484375 26.125 48.484375 \r\nQ 20.75 48.484375 17.578125 46.046875 \r\nQ 14.40625 43.609375 13.625 38.8125 \r\nL 8.984375 38.8125 \r\nL 8.984375 49.3125 \r\nQ 13.671875 51.3125 18.09375 52.3125 \r\nQ 22.515625 53.328125 26.703125 53.328125 \r\nQ 37.5 53.328125 43.140625 47.96875 \r\nQ 48.78125 42.625 48.78125 32.421875 \r\nz\r\n\" id=\"DejaVuSerif-97\"/>\r\n      <path d=\"M 47.796875 52 \r\nL 47.796875 39.015625 \r\nL 42.625 39.015625 \r\nQ 42.390625 42.875 40.484375 44.78125 \r\nQ 38.578125 46.6875 34.90625 46.6875 \r\nQ 28.265625 46.6875 24.71875 42.09375 \r\nQ 21.1875 37.5 21.1875 28.90625 \r\nL 21.1875 5.171875 \r\nL 31.59375 5.171875 \r\nL 31.59375 0 \r\nL 4.109375 0 \r\nL 4.109375 5.171875 \r\nL 12.203125 5.171875 \r\nL 12.203125 46.78125 \r\nL 3.609375 46.78125 \r\nL 3.609375 51.90625 \r\nL 21.1875 51.90625 \r\nL 21.1875 42.671875 \r\nQ 23.828125 48.09375 27.96875 50.703125 \r\nQ 32.125 53.328125 38.09375 53.328125 \r\nQ 40.28125 53.328125 42.703125 52.984375 \r\nQ 45.125 52.640625 47.796875 52 \r\nz\r\n\" id=\"DejaVuSerif-114\"/>\r\n      <path d=\"M 9.71875 68.015625 \r\nQ 9.71875 70.265625 11.34375 71.921875 \r\nQ 12.984375 73.578125 15.28125 73.578125 \r\nQ 17.53125 73.578125 19.15625 71.921875 \r\nQ 20.796875 70.265625 20.796875 68.015625 \r\nQ 20.796875 65.71875 19.1875 64.109375 \r\nQ 17.578125 62.5 15.28125 62.5 \r\nQ 12.984375 62.5 11.34375 64.109375 \r\nQ 9.71875 65.71875 9.71875 68.015625 \r\nz\r\nM 21.1875 5.171875 \r\nL 29.6875 5.171875 \r\nL 29.6875 0 \r\nL 3.609375 0 \r\nL 3.609375 5.171875 \r\nL 12.203125 5.171875 \r\nL 12.203125 46.6875 \r\nL 3.609375 46.6875 \r\nL 3.609375 51.90625 \r\nL 21.1875 51.90625 \r\nz\r\n\" id=\"DejaVuSerif-105\"/>\r\n      <path d=\"M 10.796875 46.6875 \r\nL 2.875 46.6875 \r\nL 2.875 51.90625 \r\nL 10.796875 51.90625 \r\nL 10.796875 68.015625 \r\nL 19.828125 68.015625 \r\nL 19.828125 51.90625 \r\nL 36.71875 51.90625 \r\nL 36.71875 46.6875 \r\nL 19.828125 46.6875 \r\nL 19.828125 13.71875 \r\nQ 19.828125 7.125 21.09375 5.265625 \r\nQ 22.359375 3.421875 25.78125 3.421875 \r\nQ 29.296875 3.421875 30.90625 5.484375 \r\nQ 32.515625 7.5625 32.625 12.203125 \r\nL 39.40625 12.203125 \r\nQ 39.015625 5.125 35.546875 1.84375 \r\nQ 32.078125 -1.421875 25 -1.421875 \r\nQ 17.234375 -1.421875 14.015625 2.015625 \r\nQ 10.796875 5.46875 10.796875 13.71875 \r\nz\r\n\" id=\"DejaVuSerif-116\"/>\r\n      <path d=\"M 30.078125 3.421875 \r\nQ 37.3125 3.421875 40.984375 9.125 \r\nQ 44.671875 14.84375 44.671875 25.984375 \r\nQ 44.671875 37.109375 40.984375 42.796875 \r\nQ 37.3125 48.484375 30.078125 48.484375 \r\nQ 22.859375 48.484375 19.171875 42.796875 \r\nQ 15.484375 37.109375 15.484375 25.984375 \r\nQ 15.484375 14.84375 19.1875 9.125 \r\nQ 22.90625 3.421875 30.078125 3.421875 \r\nz\r\nM 30.078125 -1.421875 \r\nQ 18.75 -1.421875 11.859375 6.078125 \r\nQ 4.984375 13.578125 4.984375 25.984375 \r\nQ 4.984375 38.375 11.84375 45.84375 \r\nQ 18.703125 53.328125 30.078125 53.328125 \r\nQ 41.453125 53.328125 48.3125 45.84375 \r\nQ 55.171875 38.375 55.171875 25.984375 \r\nQ 55.171875 13.578125 48.3125 6.078125 \r\nQ 41.453125 -1.421875 30.078125 -1.421875 \r\nz\r\n\" id=\"DejaVuSerif-111\"/>\r\n      <path d=\"M 4.109375 0 \r\nL 4.109375 5.171875 \r\nL 12.203125 5.171875 \r\nL 12.203125 46.6875 \r\nL 3.609375 46.6875 \r\nL 3.609375 51.90625 \r\nL 21.1875 51.90625 \r\nL 21.1875 42.671875 \r\nQ 23.6875 47.953125 27.65625 50.640625 \r\nQ 31.640625 53.328125 36.921875 53.328125 \r\nQ 45.515625 53.328125 49.5625 48.390625 \r\nQ 53.609375 43.453125 53.609375 33.015625 \r\nL 53.609375 5.171875 \r\nL 61.625 5.171875 \r\nL 61.625 0 \r\nL 36.8125 0 \r\nL 36.8125 5.171875 \r\nL 44.578125 5.171875 \r\nL 44.578125 30.171875 \r\nQ 44.578125 39.703125 42.234375 43.234375 \r\nQ 39.890625 46.78125 33.984375 46.78125 \r\nQ 27.734375 46.78125 24.453125 42.203125 \r\nQ 21.1875 37.640625 21.1875 28.90625 \r\nL 21.1875 5.171875 \r\nL 29 5.171875 \r\nL 29 0 \r\nz\r\n\" id=\"DejaVuSerif-110\"/>\r\n      <path d=\"M 20.515625 5.171875 \r\nL 29 5.171875 \r\nL 29 0 \r\nL 2.875 0 \r\nL 2.875 5.171875 \r\nL 11.53125 5.171875 \r\nL 11.53125 70.796875 \r\nL 2.875 70.796875 \r\nL 2.875 75.984375 \r\nL 20.515625 75.984375 \r\nz\r\n\" id=\"DejaVuSerif-108\"/>\r\n      <path id=\"DejaVuSerif-32\"/>\r\n      <path d=\"M 20.515625 28.515625 \r\nL 20.515625 23.390625 \r\nQ 20.515625 14.015625 24.09375 9.109375 \r\nQ 27.6875 4.203125 34.515625 4.203125 \r\nQ 41.40625 4.203125 44.9375 9.71875 \r\nQ 48.484375 15.234375 48.484375 25.984375 \r\nQ 48.484375 36.765625 44.9375 42.234375 \r\nQ 41.40625 47.703125 34.515625 47.703125 \r\nQ 27.6875 47.703125 24.09375 42.765625 \r\nQ 20.515625 37.84375 20.515625 28.515625 \r\nz\r\nM 11.53125 46.6875 \r\nL 2.875 46.6875 \r\nL 2.875 51.90625 \r\nL 20.515625 51.90625 \r\nL 20.515625 43.796875 \r\nQ 23.140625 48.6875 27.21875 51 \r\nQ 31.296875 53.328125 37.3125 53.328125 \r\nQ 46.875 53.328125 52.921875 45.75 \r\nQ 58.984375 38.1875 58.984375 25.984375 \r\nQ 58.984375 13.765625 52.921875 6.171875 \r\nQ 46.875 -1.421875 37.3125 -1.421875 \r\nQ 31.296875 -1.421875 27.21875 0.890625 \r\nQ 23.140625 3.21875 20.515625 8.109375 \r\nL 20.515625 -15.578125 \r\nL 29 -15.578125 \r\nL 29 -20.796875 \r\nL 2.875 -20.796875 \r\nL 2.875 -15.578125 \r\nL 11.53125 -15.578125 \r\nz\r\n\" id=\"DejaVuSerif-112\"/>\r\n      <path d=\"M 51.8125 41.796875 \r\nQ 54.390625 47.515625 58.421875 50.421875 \r\nQ 62.453125 53.328125 67.828125 53.328125 \r\nQ 75.984375 53.328125 79.984375 48.265625 \r\nQ 83.984375 43.21875 83.984375 33.015625 \r\nL 83.984375 5.171875 \r\nL 92.09375 5.171875 \r\nL 92.09375 0 \r\nL 67.1875 0 \r\nL 67.1875 5.171875 \r\nL 75 5.171875 \r\nL 75 31.984375 \r\nQ 75 39.9375 72.65625 43.3125 \r\nQ 70.3125 46.6875 64.890625 46.6875 \r\nQ 58.890625 46.6875 55.734375 42.140625 \r\nQ 52.59375 37.59375 52.59375 28.90625 \r\nL 52.59375 5.171875 \r\nL 60.40625 5.171875 \r\nL 60.40625 0 \r\nL 35.796875 0 \r\nL 35.796875 5.171875 \r\nL 43.609375 5.171875 \r\nL 43.609375 32.328125 \r\nQ 43.609375 40.09375 41.265625 43.390625 \r\nQ 38.921875 46.6875 33.5 46.6875 \r\nQ 27.484375 46.6875 24.328125 42.140625 \r\nQ 21.1875 37.59375 21.1875 28.90625 \r\nL 21.1875 5.171875 \r\nL 29 5.171875 \r\nL 29 0 \r\nL 4.109375 0 \r\nL 4.109375 5.171875 \r\nL 12.203125 5.171875 \r\nL 12.203125 46.78125 \r\nL 3.609375 46.78125 \r\nL 3.609375 51.90625 \r\nL 21.1875 51.90625 \r\nL 21.1875 42.671875 \r\nQ 23.6875 47.859375 27.53125 50.59375 \r\nQ 31.390625 53.328125 36.28125 53.328125 \r\nQ 42.328125 53.328125 46.375 50.3125 \r\nQ 50.4375 47.3125 51.8125 41.796875 \r\nz\r\n\" id=\"DejaVuSerif-109\"/>\r\n      <path d=\"M 54.203125 25 \r\nL 15.484375 25 \r\nL 15.484375 24.609375 \r\nQ 15.484375 14.109375 19.4375 8.765625 \r\nQ 23.390625 3.421875 31.109375 3.421875 \r\nQ 37.015625 3.421875 40.796875 6.515625 \r\nQ 44.578125 9.625 46.09375 15.71875 \r\nL 53.328125 15.71875 \r\nQ 51.171875 7.171875 45.375 2.875 \r\nQ 39.59375 -1.421875 30.171875 -1.421875 \r\nQ 18.796875 -1.421875 11.890625 6.078125 \r\nQ 4.984375 13.578125 4.984375 25.984375 \r\nQ 4.984375 38.28125 11.765625 45.796875 \r\nQ 18.5625 53.328125 29.59375 53.328125 \r\nQ 41.359375 53.328125 47.65625 46.0625 \r\nQ 53.953125 38.8125 54.203125 25 \r\nz\r\nM 43.609375 30.171875 \r\nQ 43.3125 39.265625 39.765625 43.875 \r\nQ 36.234375 48.484375 29.59375 48.484375 \r\nQ 23.390625 48.484375 19.828125 43.84375 \r\nQ 16.265625 39.203125 15.484375 30.171875 \r\nz\r\n\" id=\"DejaVuSerif-101\"/>\r\n      <path d=\"M 5.609375 2.875 \r\nL 5.609375 14.984375 \r\nL 10.796875 14.984375 \r\nQ 10.984375 9.1875 14.421875 6.296875 \r\nQ 17.875 3.421875 24.609375 3.421875 \r\nQ 30.671875 3.421875 33.84375 5.6875 \r\nQ 37.015625 7.953125 37.015625 12.3125 \r\nQ 37.015625 15.71875 34.6875 17.8125 \r\nQ 32.375 19.921875 24.90625 22.3125 \r\nL 18.40625 24.515625 \r\nQ 11.71875 26.65625 8.71875 29.875 \r\nQ 5.71875 33.109375 5.71875 38.09375 \r\nQ 5.71875 45.21875 10.9375 49.265625 \r\nQ 16.15625 53.328125 25.390625 53.328125 \r\nQ 29.5 53.328125 34.03125 52.25 \r\nQ 38.578125 51.171875 43.40625 49.125 \r\nL 43.40625 37.796875 \r\nL 38.234375 37.796875 \r\nQ 38.03125 42.828125 34.703125 45.65625 \r\nQ 31.390625 48.484375 25.6875 48.484375 \r\nQ 20.015625 48.484375 17.109375 46.484375 \r\nQ 14.203125 44.484375 14.203125 40.484375 \r\nQ 14.203125 37.203125 16.40625 35.21875 \r\nQ 18.609375 33.25 25.203125 31.203125 \r\nL 32.328125 29 \r\nQ 39.703125 26.703125 42.9375 23.265625 \r\nQ 46.1875 19.828125 46.1875 14.40625 \r\nQ 46.1875 7.03125 40.546875 2.796875 \r\nQ 34.90625 -1.421875 25 -1.421875 \r\nQ 19.96875 -1.421875 15.1875 -0.34375 \r\nQ 10.40625 0.734375 5.609375 2.875 \r\nz\r\n\" id=\"DejaVuSerif-115\"/>\r\n     </defs>\r\n     <g transform=\"translate(80.637443 195.10125)scale(0.08 -0.08)\">\r\n      <use xlink:href=\"#DejaVuSerif-86\"/>\r\n      <use x=\"63.091797\" xlink:href=\"#DejaVuSerif-97\"/>\r\n      <use x=\"122.710938\" xlink:href=\"#DejaVuSerif-114\"/>\r\n      <use x=\"170.513672\" xlink:href=\"#DejaVuSerif-105\"/>\r\n      <use x=\"202.496094\" xlink:href=\"#DejaVuSerif-97\"/>\r\n      <use x=\"262.115234\" xlink:href=\"#DejaVuSerif-116\"/>\r\n      <use x=\"302.300781\" xlink:href=\"#DejaVuSerif-105\"/>\r\n      <use x=\"334.283203\" xlink:href=\"#DejaVuSerif-111\"/>\r\n      <use x=\"394.488281\" xlink:href=\"#DejaVuSerif-110\"/>\r\n      <use x=\"458.892578\" xlink:href=\"#DejaVuSerif-97\"/>\r\n      <use x=\"518.511719\" xlink:href=\"#DejaVuSerif-108\"/>\r\n      <use x=\"550.494141\" xlink:href=\"#DejaVuSerif-32\"/>\r\n      <use x=\"582.28125\" xlink:href=\"#DejaVuSerif-112\"/>\r\n      <use x=\"646.294922\" xlink:href=\"#DejaVuSerif-97\"/>\r\n      <use x=\"705.914062\" xlink:href=\"#DejaVuSerif-114\"/>\r\n      <use x=\"753.716797\" xlink:href=\"#DejaVuSerif-97\"/>\r\n      <use x=\"813.335938\" xlink:href=\"#DejaVuSerif-109\"/>\r\n      <use x=\"908.160156\" xlink:href=\"#DejaVuSerif-101\"/>\r\n      <use x=\"967.339844\" xlink:href=\"#DejaVuSerif-116\"/>\r\n      <use x=\"1007.525391\" xlink:href=\"#DejaVuSerif-101\"/>\r\n      <use x=\"1066.705078\" xlink:href=\"#DejaVuSerif-114\"/>\r\n      <use x=\"1114.507812\" xlink:href=\"#DejaVuSerif-115\"/>\r\n     </g>\r\n    </g>\r\n   </g>\r\n   <g id=\"matplotlib.axis_2\">\r\n    <g id=\"ytick_1\">\r\n     <g id=\"line2d_4\">\r\n      <defs>\r\n       <path d=\"M 0 0 \r\nL -3.5 0 \r\n\" id=\"made12c59af\" style=\"stroke:#000000;stroke-width:0.8;\"/>\r\n      </defs>\r\n      <g>\r\n       <use style=\"stroke:#000000;stroke-width:0.8;\" x=\"44.84\" xlink:href=\"#made12c59af\" y=\"142.625869\"/>\r\n      </g>\r\n     </g>\r\n     <g id=\"text_5\">\r\n      <!-- $\\mathdefault{10^{-5}}$ -->\r\n      <defs>\r\n       <path d=\"M 10.59375 35.296875 \r\nL 73.1875 35.296875 \r\nL 73.1875 27.390625 \r\nL 10.59375 27.390625 \r\nz\r\n\" id=\"DejaVuSerif-8722\"/>\r\n      </defs>\r\n      <g transform=\"translate(19.12 145.665244)scale(0.08 -0.08)\">\r\n       <use transform=\"translate(0 0.63125)\" xlink:href=\"#DejaVuSerif-49\"/>\r\n       <use transform=\"translate(63.623047 0.63125)\" xlink:href=\"#DejaVuSerif-48\"/>\r\n       <use transform=\"translate(128.154453 36.965625)scale(0.7)\" xlink:href=\"#DejaVuSerif-8722\"/>\r\n       <use transform=\"translate(186.806797 36.965625)scale(0.7)\" xlink:href=\"#DejaVuSerif-53\"/>\r\n      </g>\r\n     </g>\r\n    </g>\r\n    <g id=\"ytick_2\">\r\n     <g id=\"line2d_5\">\r\n      <g>\r\n       <use style=\"stroke:#000000;stroke-width:0.8;\" x=\"44.84\" xlink:href=\"#made12c59af\" y=\"112.57914\"/>\r\n      </g>\r\n     </g>\r\n     <g id=\"text_6\">\r\n      <!-- $\\mathdefault{10^{-4}}$ -->\r\n      <defs>\r\n       <path d=\"M 34.90625 24.703125 \r\nL 34.90625 63.484375 \r\nL 10.015625 24.703125 \r\nz\r\nM 56.390625 0 \r\nL 23.1875 0 \r\nL 23.1875 5.171875 \r\nL 34.90625 5.171875 \r\nL 34.90625 19.484375 \r\nL 3.078125 19.484375 \r\nL 3.078125 24.8125 \r\nL 35.015625 74.21875 \r\nL 44.671875 74.21875 \r\nL 44.671875 24.703125 \r\nL 58.59375 24.703125 \r\nL 58.59375 19.484375 \r\nL 44.671875 19.484375 \r\nL 44.671875 5.171875 \r\nL 56.390625 5.171875 \r\nz\r\n\" id=\"DejaVuSerif-52\"/>\r\n      </defs>\r\n      <g transform=\"translate(19.12 115.618515)scale(0.08 -0.08)\">\r\n       <use transform=\"translate(0 0.7125)\" xlink:href=\"#DejaVuSerif-49\"/>\r\n       <use transform=\"translate(63.623047 0.7125)\" xlink:href=\"#DejaVuSerif-48\"/>\r\n       <use transform=\"translate(128.154453 37.046875)scale(0.7)\" xlink:href=\"#DejaVuSerif-8722\"/>\r\n       <use transform=\"translate(186.806797 37.046875)scale(0.7)\" xlink:href=\"#DejaVuSerif-52\"/>\r\n      </g>\r\n     </g>\r\n    </g>\r\n    <g id=\"ytick_3\">\r\n     <g id=\"line2d_6\">\r\n      <g>\r\n       <use style=\"stroke:#000000;stroke-width:0.8;\" x=\"44.84\" xlink:href=\"#made12c59af\" y=\"82.532412\"/>\r\n      </g>\r\n     </g>\r\n     <g id=\"text_7\">\r\n      <!-- $\\mathdefault{10^{-3}}$ -->\r\n      <defs>\r\n       <path d=\"M 9.71875 69.828125 \r\nQ 15.4375 71.96875 20.671875 73.09375 \r\nQ 25.921875 74.21875 30.515625 74.21875 \r\nQ 41.21875 74.21875 47.21875 69.59375 \r\nQ 53.21875 64.984375 53.21875 56.78125 \r\nQ 53.21875 50.203125 49.0625 45.78125 \r\nQ 44.921875 41.359375 37.3125 39.796875 \r\nQ 46.296875 38.53125 51.25 33.28125 \r\nQ 56.203125 28.03125 56.203125 19.671875 \r\nQ 56.203125 9.46875 49.34375 4.015625 \r\nQ 42.484375 -1.421875 29.59375 -1.421875 \r\nQ 23.875 -1.421875 18.421875 -0.1875 \r\nQ 12.984375 1.03125 7.625 3.515625 \r\nL 7.625 17.671875 \r\nL 13.09375 17.671875 \r\nQ 13.578125 10.640625 17.828125 7.03125 \r\nQ 22.078125 3.421875 29.78125 3.421875 \r\nQ 37.25 3.421875 41.578125 7.734375 \r\nQ 45.90625 12.0625 45.90625 19.578125 \r\nQ 45.90625 28.171875 41.453125 32.59375 \r\nQ 37.015625 37.015625 28.421875 37.015625 \r\nL 23.78125 37.015625 \r\nL 23.78125 42 \r\nL 26.21875 42 \r\nQ 34.765625 42 39.03125 45.53125 \r\nQ 43.3125 49.078125 43.3125 56.203125 \r\nQ 43.3125 62.59375 39.796875 65.984375 \r\nQ 36.28125 69.390625 29.6875 69.390625 \r\nQ 23.09375 69.390625 19.453125 66.265625 \r\nQ 15.828125 63.140625 15.1875 56.984375 \r\nL 9.71875 56.984375 \r\nz\r\n\" id=\"DejaVuSerif-51\"/>\r\n      </defs>\r\n      <g transform=\"translate(19.12 85.571787)scale(0.08 -0.08)\">\r\n       <use transform=\"translate(0 0.7125)\" xlink:href=\"#DejaVuSerif-49\"/>\r\n       <use transform=\"translate(63.623047 0.7125)\" xlink:href=\"#DejaVuSerif-48\"/>\r\n       <use transform=\"translate(128.154453 37.046875)scale(0.7)\" xlink:href=\"#DejaVuSerif-8722\"/>\r\n       <use transform=\"translate(186.806797 37.046875)scale(0.7)\" xlink:href=\"#DejaVuSerif-51\"/>\r\n      </g>\r\n     </g>\r\n    </g>\r\n    <g id=\"ytick_4\">\r\n     <g id=\"line2d_7\">\r\n      <g>\r\n       <use style=\"stroke:#000000;stroke-width:0.8;\" x=\"44.84\" xlink:href=\"#made12c59af\" y=\"52.485683\"/>\r\n      </g>\r\n     </g>\r\n     <g id=\"text_8\">\r\n      <!-- $\\mathdefault{10^{-2}}$ -->\r\n      <defs>\r\n       <path d=\"M 12.796875 55.515625 \r\nL 7.328125 55.515625 \r\nL 7.328125 68.5 \r\nQ 12.546875 71.296875 17.84375 72.75 \r\nQ 23.140625 74.21875 28.21875 74.21875 \r\nQ 39.59375 74.21875 46.1875 68.703125 \r\nQ 52.78125 63.1875 52.78125 53.71875 \r\nQ 52.78125 43.015625 37.84375 28.125 \r\nQ 36.671875 27 36.078125 26.421875 \r\nL 17.671875 8.015625 \r\nL 48.09375 8.015625 \r\nL 48.09375 17 \r\nL 53.8125 17 \r\nL 53.8125 0 \r\nL 6.78125 0 \r\nL 6.78125 5.328125 \r\nL 28.90625 27.390625 \r\nQ 36.234375 34.71875 39.359375 40.84375 \r\nQ 42.484375 46.96875 42.484375 53.71875 \r\nQ 42.484375 61.078125 38.640625 65.234375 \r\nQ 34.8125 69.390625 28.078125 69.390625 \r\nQ 21.09375 69.390625 17.28125 65.921875 \r\nQ 13.484375 62.453125 12.796875 55.515625 \r\nz\r\n\" id=\"DejaVuSerif-50\"/>\r\n      </defs>\r\n      <g transform=\"translate(19.12 55.525058)scale(0.08 -0.08)\">\r\n       <use transform=\"translate(0 0.7125)\" xlink:href=\"#DejaVuSerif-49\"/>\r\n       <use transform=\"translate(63.623047 0.7125)\" xlink:href=\"#DejaVuSerif-48\"/>\r\n       <use transform=\"translate(128.154453 37.046875)scale(0.7)\" xlink:href=\"#DejaVuSerif-8722\"/>\r\n       <use transform=\"translate(186.806797 37.046875)scale(0.7)\" xlink:href=\"#DejaVuSerif-50\"/>\r\n      </g>\r\n     </g>\r\n    </g>\r\n    <g id=\"ytick_5\">\r\n     <g id=\"line2d_8\">\r\n      <g>\r\n       <use style=\"stroke:#000000;stroke-width:0.8;\" x=\"44.84\" xlink:href=\"#made12c59af\" y=\"22.438954\"/>\r\n      </g>\r\n     </g>\r\n     <g id=\"text_9\">\r\n      <!-- $\\mathdefault{10^{-1}}$ -->\r\n      <g transform=\"translate(19.12 25.478329)scale(0.08 -0.08)\">\r\n       <use transform=\"translate(0 0.7125)\" xlink:href=\"#DejaVuSerif-49\"/>\r\n       <use transform=\"translate(63.623047 0.7125)\" xlink:href=\"#DejaVuSerif-48\"/>\r\n       <use transform=\"translate(128.154453 37.046875)scale(0.7)\" xlink:href=\"#DejaVuSerif-8722\"/>\r\n       <use transform=\"translate(186.806797 37.046875)scale(0.7)\" xlink:href=\"#DejaVuSerif-49\"/>\r\n      </g>\r\n     </g>\r\n    </g>\r\n    <g id=\"ytick_6\">\r\n     <g id=\"line2d_9\">\r\n      <defs>\r\n       <path d=\"M 0 0 \r\nL -2 0 \r\n\" id=\"mcbd4d74eb0\" style=\"stroke:#000000;stroke-width:0.6;\"/>\r\n      </defs>\r\n      <g>\r\n       <use style=\"stroke:#000000;stroke-width:0.6;\" x=\"44.84\" xlink:href=\"#mcbd4d74eb0\" y=\"163.627631\"/>\r\n      </g>\r\n     </g>\r\n    </g>\r\n    <g id=\"ytick_7\">\r\n     <g id=\"line2d_10\">\r\n      <g>\r\n       <use style=\"stroke:#000000;stroke-width:0.6;\" x=\"44.84\" xlink:href=\"#mcbd4d74eb0\" y=\"158.336665\"/>\r\n      </g>\r\n     </g>\r\n    </g>\r\n    <g id=\"ytick_8\">\r\n     <g id=\"line2d_11\">\r\n      <g>\r\n       <use style=\"stroke:#000000;stroke-width:0.6;\" x=\"44.84\" xlink:href=\"#mcbd4d74eb0\" y=\"154.582665\"/>\r\n      </g>\r\n     </g>\r\n    </g>\r\n    <g id=\"ytick_9\">\r\n     <g id=\"line2d_12\">\r\n      <g>\r\n       <use style=\"stroke:#000000;stroke-width:0.6;\" x=\"44.84\" xlink:href=\"#mcbd4d74eb0\" y=\"151.670836\"/>\r\n      </g>\r\n     </g>\r\n    </g>\r\n    <g id=\"ytick_10\">\r\n     <g id=\"line2d_13\">\r\n      <g>\r\n       <use style=\"stroke:#000000;stroke-width:0.6;\" x=\"44.84\" xlink:href=\"#mcbd4d74eb0\" y=\"149.291698\"/>\r\n      </g>\r\n     </g>\r\n    </g>\r\n    <g id=\"ytick_11\">\r\n     <g id=\"line2d_14\">\r\n      <g>\r\n       <use style=\"stroke:#000000;stroke-width:0.6;\" x=\"44.84\" xlink:href=\"#mcbd4d74eb0\" y=\"147.280166\"/>\r\n      </g>\r\n     </g>\r\n    </g>\r\n    <g id=\"ytick_12\">\r\n     <g id=\"line2d_15\">\r\n      <g>\r\n       <use style=\"stroke:#000000;stroke-width:0.6;\" x=\"44.84\" xlink:href=\"#mcbd4d74eb0\" y=\"145.537698\"/>\r\n      </g>\r\n     </g>\r\n    </g>\r\n    <g id=\"ytick_13\">\r\n     <g id=\"line2d_16\">\r\n      <g>\r\n       <use style=\"stroke:#000000;stroke-width:0.6;\" x=\"44.84\" xlink:href=\"#mcbd4d74eb0\" y=\"144.000732\"/>\r\n      </g>\r\n     </g>\r\n    </g>\r\n    <g id=\"ytick_14\">\r\n     <g id=\"line2d_17\">\r\n      <g>\r\n       <use style=\"stroke:#000000;stroke-width:0.6;\" x=\"44.84\" xlink:href=\"#mcbd4d74eb0\" y=\"133.580902\"/>\r\n      </g>\r\n     </g>\r\n    </g>\r\n    <g id=\"ytick_15\">\r\n     <g id=\"line2d_18\">\r\n      <g>\r\n       <use style=\"stroke:#000000;stroke-width:0.6;\" x=\"44.84\" xlink:href=\"#mcbd4d74eb0\" y=\"128.289936\"/>\r\n      </g>\r\n     </g>\r\n    </g>\r\n    <g id=\"ytick_16\">\r\n     <g id=\"line2d_19\">\r\n      <g>\r\n       <use style=\"stroke:#000000;stroke-width:0.6;\" x=\"44.84\" xlink:href=\"#mcbd4d74eb0\" y=\"124.535936\"/>\r\n      </g>\r\n     </g>\r\n    </g>\r\n    <g id=\"ytick_17\">\r\n     <g id=\"line2d_20\">\r\n      <g>\r\n       <use style=\"stroke:#000000;stroke-width:0.6;\" x=\"44.84\" xlink:href=\"#mcbd4d74eb0\" y=\"121.624107\"/>\r\n      </g>\r\n     </g>\r\n    </g>\r\n    <g id=\"ytick_18\">\r\n     <g id=\"line2d_21\">\r\n      <g>\r\n       <use style=\"stroke:#000000;stroke-width:0.6;\" x=\"44.84\" xlink:href=\"#mcbd4d74eb0\" y=\"119.24497\"/>\r\n      </g>\r\n     </g>\r\n    </g>\r\n    <g id=\"ytick_19\">\r\n     <g id=\"line2d_22\">\r\n      <g>\r\n       <use style=\"stroke:#000000;stroke-width:0.6;\" x=\"44.84\" xlink:href=\"#mcbd4d74eb0\" y=\"117.233437\"/>\r\n      </g>\r\n     </g>\r\n    </g>\r\n    <g id=\"ytick_20\">\r\n     <g id=\"line2d_23\">\r\n      <g>\r\n       <use style=\"stroke:#000000;stroke-width:0.6;\" x=\"44.84\" xlink:href=\"#mcbd4d74eb0\" y=\"115.490969\"/>\r\n      </g>\r\n     </g>\r\n    </g>\r\n    <g id=\"ytick_21\">\r\n     <g id=\"line2d_24\">\r\n      <g>\r\n       <use style=\"stroke:#000000;stroke-width:0.6;\" x=\"44.84\" xlink:href=\"#mcbd4d74eb0\" y=\"113.954003\"/>\r\n      </g>\r\n     </g>\r\n    </g>\r\n    <g id=\"ytick_22\">\r\n     <g id=\"line2d_25\">\r\n      <g>\r\n       <use style=\"stroke:#000000;stroke-width:0.6;\" x=\"44.84\" xlink:href=\"#mcbd4d74eb0\" y=\"103.534174\"/>\r\n      </g>\r\n     </g>\r\n    </g>\r\n    <g id=\"ytick_23\">\r\n     <g id=\"line2d_26\">\r\n      <g>\r\n       <use style=\"stroke:#000000;stroke-width:0.6;\" x=\"44.84\" xlink:href=\"#mcbd4d74eb0\" y=\"98.243207\"/>\r\n      </g>\r\n     </g>\r\n    </g>\r\n    <g id=\"ytick_24\">\r\n     <g id=\"line2d_27\">\r\n      <g>\r\n       <use style=\"stroke:#000000;stroke-width:0.6;\" x=\"44.84\" xlink:href=\"#mcbd4d74eb0\" y=\"94.489207\"/>\r\n      </g>\r\n     </g>\r\n    </g>\r\n    <g id=\"ytick_25\">\r\n     <g id=\"line2d_28\">\r\n      <g>\r\n       <use style=\"stroke:#000000;stroke-width:0.6;\" x=\"44.84\" xlink:href=\"#mcbd4d74eb0\" y=\"91.577378\"/>\r\n      </g>\r\n     </g>\r\n    </g>\r\n    <g id=\"ytick_26\">\r\n     <g id=\"line2d_29\">\r\n      <g>\r\n       <use style=\"stroke:#000000;stroke-width:0.6;\" x=\"44.84\" xlink:href=\"#mcbd4d74eb0\" y=\"89.198241\"/>\r\n      </g>\r\n     </g>\r\n    </g>\r\n    <g id=\"ytick_27\">\r\n     <g id=\"line2d_30\">\r\n      <g>\r\n       <use style=\"stroke:#000000;stroke-width:0.6;\" x=\"44.84\" xlink:href=\"#mcbd4d74eb0\" y=\"87.186709\"/>\r\n      </g>\r\n     </g>\r\n    </g>\r\n    <g id=\"ytick_28\">\r\n     <g id=\"line2d_31\">\r\n      <g>\r\n       <use style=\"stroke:#000000;stroke-width:0.6;\" x=\"44.84\" xlink:href=\"#mcbd4d74eb0\" y=\"85.44424\"/>\r\n      </g>\r\n     </g>\r\n    </g>\r\n    <g id=\"ytick_29\">\r\n     <g id=\"line2d_32\">\r\n      <g>\r\n       <use style=\"stroke:#000000;stroke-width:0.6;\" x=\"44.84\" xlink:href=\"#mcbd4d74eb0\" y=\"83.907274\"/>\r\n      </g>\r\n     </g>\r\n    </g>\r\n    <g id=\"ytick_30\">\r\n     <g id=\"line2d_33\">\r\n      <g>\r\n       <use style=\"stroke:#000000;stroke-width:0.6;\" x=\"44.84\" xlink:href=\"#mcbd4d74eb0\" y=\"73.487445\"/>\r\n      </g>\r\n     </g>\r\n    </g>\r\n    <g id=\"ytick_31\">\r\n     <g id=\"line2d_34\">\r\n      <g>\r\n       <use style=\"stroke:#000000;stroke-width:0.6;\" x=\"44.84\" xlink:href=\"#mcbd4d74eb0\" y=\"68.196479\"/>\r\n      </g>\r\n     </g>\r\n    </g>\r\n    <g id=\"ytick_32\">\r\n     <g id=\"line2d_35\">\r\n      <g>\r\n       <use style=\"stroke:#000000;stroke-width:0.6;\" x=\"44.84\" xlink:href=\"#mcbd4d74eb0\" y=\"64.442478\"/>\r\n      </g>\r\n     </g>\r\n    </g>\r\n    <g id=\"ytick_33\">\r\n     <g id=\"line2d_36\">\r\n      <g>\r\n       <use style=\"stroke:#000000;stroke-width:0.6;\" x=\"44.84\" xlink:href=\"#mcbd4d74eb0\" y=\"61.530649\"/>\r\n      </g>\r\n     </g>\r\n    </g>\r\n    <g id=\"ytick_34\">\r\n     <g id=\"line2d_37\">\r\n      <g>\r\n       <use style=\"stroke:#000000;stroke-width:0.6;\" x=\"44.84\" xlink:href=\"#mcbd4d74eb0\" y=\"59.151512\"/>\r\n      </g>\r\n     </g>\r\n    </g>\r\n    <g id=\"ytick_35\">\r\n     <g id=\"line2d_38\">\r\n      <g>\r\n       <use style=\"stroke:#000000;stroke-width:0.6;\" x=\"44.84\" xlink:href=\"#mcbd4d74eb0\" y=\"57.13998\"/>\r\n      </g>\r\n     </g>\r\n    </g>\r\n    <g id=\"ytick_36\">\r\n     <g id=\"line2d_39\">\r\n      <g>\r\n       <use style=\"stroke:#000000;stroke-width:0.6;\" x=\"44.84\" xlink:href=\"#mcbd4d74eb0\" y=\"55.397512\"/>\r\n      </g>\r\n     </g>\r\n    </g>\r\n    <g id=\"ytick_37\">\r\n     <g id=\"line2d_40\">\r\n      <g>\r\n       <use style=\"stroke:#000000;stroke-width:0.6;\" x=\"44.84\" xlink:href=\"#mcbd4d74eb0\" y=\"53.860546\"/>\r\n      </g>\r\n     </g>\r\n    </g>\r\n    <g id=\"ytick_38\">\r\n     <g id=\"line2d_41\">\r\n      <g>\r\n       <use style=\"stroke:#000000;stroke-width:0.6;\" x=\"44.84\" xlink:href=\"#mcbd4d74eb0\" y=\"43.440716\"/>\r\n      </g>\r\n     </g>\r\n    </g>\r\n    <g id=\"ytick_39\">\r\n     <g id=\"line2d_42\">\r\n      <g>\r\n       <use style=\"stroke:#000000;stroke-width:0.6;\" x=\"44.84\" xlink:href=\"#mcbd4d74eb0\" y=\"38.14975\"/>\r\n      </g>\r\n     </g>\r\n    </g>\r\n    <g id=\"ytick_40\">\r\n     <g id=\"line2d_43\">\r\n      <g>\r\n       <use style=\"stroke:#000000;stroke-width:0.6;\" x=\"44.84\" xlink:href=\"#mcbd4d74eb0\" y=\"34.39575\"/>\r\n      </g>\r\n     </g>\r\n    </g>\r\n    <g id=\"ytick_41\">\r\n     <g id=\"line2d_44\">\r\n      <g>\r\n       <use style=\"stroke:#000000;stroke-width:0.6;\" x=\"44.84\" xlink:href=\"#mcbd4d74eb0\" y=\"31.483921\"/>\r\n      </g>\r\n     </g>\r\n    </g>\r\n    <g id=\"ytick_42\">\r\n     <g id=\"line2d_45\">\r\n      <g>\r\n       <use style=\"stroke:#000000;stroke-width:0.6;\" x=\"44.84\" xlink:href=\"#mcbd4d74eb0\" y=\"29.104783\"/>\r\n      </g>\r\n     </g>\r\n    </g>\r\n    <g id=\"ytick_43\">\r\n     <g id=\"line2d_46\">\r\n      <g>\r\n       <use style=\"stroke:#000000;stroke-width:0.6;\" x=\"44.84\" xlink:href=\"#mcbd4d74eb0\" y=\"27.093251\"/>\r\n      </g>\r\n     </g>\r\n    </g>\r\n    <g id=\"ytick_44\">\r\n     <g id=\"line2d_47\">\r\n      <g>\r\n       <use style=\"stroke:#000000;stroke-width:0.6;\" x=\"44.84\" xlink:href=\"#mcbd4d74eb0\" y=\"25.350783\"/>\r\n      </g>\r\n     </g>\r\n    </g>\r\n    <g id=\"ytick_45\">\r\n     <g id=\"line2d_48\">\r\n      <g>\r\n       <use style=\"stroke:#000000;stroke-width:0.6;\" x=\"44.84\" xlink:href=\"#mcbd4d74eb0\" y=\"23.813817\"/>\r\n      </g>\r\n     </g>\r\n    </g>\r\n    <g id=\"ytick_46\">\r\n     <g id=\"line2d_49\">\r\n      <g>\r\n       <use style=\"stroke:#000000;stroke-width:0.6;\" x=\"44.84\" xlink:href=\"#mcbd4d74eb0\" y=\"13.393987\"/>\r\n      </g>\r\n     </g>\r\n    </g>\r\n    <g id=\"ytick_47\">\r\n     <g id=\"line2d_50\">\r\n      <g>\r\n       <use style=\"stroke:#000000;stroke-width:0.6;\" x=\"44.84\" xlink:href=\"#mcbd4d74eb0\" y=\"8.103021\"/>\r\n      </g>\r\n     </g>\r\n    </g>\r\n    <g id=\"text_10\">\r\n     <!-- $E_{VQE} - E_{exact}$ -->\r\n     <defs>\r\n      <path d=\"M 16.890625 72.90625 \r\nL 62.984375 72.90625 \r\nL 61.375 64.59375 \r\nL 25.09375 64.59375 \r\nL 20.90625 43.015625 \r\nL 55.71875 43.015625 \r\nL 54.109375 34.71875 \r\nL 19.28125 34.71875 \r\nL 14.203125 8.296875 \r\nL 51.3125 8.296875 \r\nL 49.703125 0 \r\nL 2.6875 0 \r\nz\r\n\" id=\"DejaVuSans-Oblique-69\"/>\r\n      <path d=\"M 20.609375 0 \r\nL 7.8125 72.90625 \r\nL 17.484375 72.90625 \r\nL 28.078125 10.203125 \r\nL 63.484375 72.90625 \r\nL 74.21875 72.90625 \r\nL 32.078125 0 \r\nz\r\n\" id=\"DejaVuSans-Oblique-86\"/>\r\n      <path d=\"M 36.078125 -1.3125 \r\nQ 35.546875 -1.375 34.953125 -1.390625 \r\nQ 34.375 -1.421875 33.203125 -1.421875 \r\nQ 19.53125 -1.421875 11.8125 6.421875 \r\nQ 4.109375 14.265625 4.109375 28.078125 \r\nQ 4.109375 36.234375 7.0625 44.4375 \r\nQ 10.015625 52.640625 15.28125 59.1875 \r\nQ 21.390625 66.703125 29.03125 70.453125 \r\nQ 36.671875 74.21875 45.90625 74.21875 \r\nQ 59.28125 74.21875 66.984375 66.328125 \r\nQ 74.703125 58.453125 74.703125 44.828125 \r\nQ 74.703125 30.125 66.640625 17.921875 \r\nQ 58.59375 5.71875 45.609375 0.6875 \r\nL 55.515625 -12.890625 \r\nL 44.484375 -12.890625 \r\nz\r\nM 45.609375 66.21875 \r\nQ 37.5 66.21875 31.296875 62.28125 \r\nQ 25.09375 58.34375 20.515625 50.296875 \r\nQ 17.578125 45.171875 16.03125 39.40625 \r\nQ 14.5 33.640625 14.5 27.78125 \r\nQ 14.5 17.625 19.359375 12.109375 \r\nQ 24.21875 6.59375 33.109375 6.59375 \r\nQ 41.109375 6.59375 47.375 10.5625 \r\nQ 53.65625 14.546875 58.109375 22.40625 \r\nQ 61.078125 27.6875 62.640625 33.46875 \r\nQ 64.203125 39.265625 64.203125 45.015625 \r\nQ 64.203125 55.125 59.3125 60.671875 \r\nQ 54.4375 66.21875 45.609375 66.21875 \r\nz\r\n\" id=\"DejaVuSans-Oblique-81\"/>\r\n      <path d=\"M 10.59375 35.5 \r\nL 73.1875 35.5 \r\nL 73.1875 27.203125 \r\nL 10.59375 27.203125 \r\nz\r\n\" id=\"DejaVuSans-8722\"/>\r\n      <path d=\"M 48.09375 32.234375 \r\nQ 48.25 33.015625 48.3125 33.84375 \r\nQ 48.390625 34.671875 48.390625 35.5 \r\nQ 48.390625 41.453125 44.890625 44.921875 \r\nQ 41.40625 48.390625 35.40625 48.390625 \r\nQ 28.71875 48.390625 23.578125 44.15625 \r\nQ 18.453125 39.9375 15.828125 32.171875 \r\nz\r\nM 55.90625 25.203125 \r\nL 14.109375 25.203125 \r\nQ 13.8125 23.34375 13.71875 22.265625 \r\nQ 13.625 21.1875 13.625 20.40625 \r\nQ 13.625 13.625 17.796875 9.90625 \r\nQ 21.96875 6.203125 29.59375 6.203125 \r\nQ 35.453125 6.203125 40.671875 7.515625 \r\nQ 45.90625 8.84375 50.390625 11.375 \r\nL 48.6875 2.484375 \r\nQ 43.84375 0.53125 38.6875 -0.4375 \r\nQ 33.546875 -1.421875 28.21875 -1.421875 \r\nQ 16.84375 -1.421875 10.71875 4.015625 \r\nQ 4.59375 9.46875 4.59375 19.484375 \r\nQ 4.59375 28.03125 7.640625 35.375 \r\nQ 10.6875 42.71875 16.609375 48.484375 \r\nQ 20.40625 52.09375 25.65625 54.046875 \r\nQ 30.90625 56 36.8125 56 \r\nQ 46.09375 56 51.578125 50.4375 \r\nQ 57.078125 44.875 57.078125 35.5 \r\nQ 57.078125 33.25 56.78125 30.6875 \r\nQ 56.5 28.125 55.90625 25.203125 \r\nz\r\n\" id=\"DejaVuSans-Oblique-101\"/>\r\n      <path d=\"M 60.015625 54.6875 \r\nL 34.90625 27.875 \r\nL 50.296875 0 \r\nL 39.984375 0 \r\nL 28.421875 21.6875 \r\nL 8.296875 0 \r\nL -2.59375 0 \r\nL 24.3125 28.8125 \r\nL 10.015625 54.6875 \r\nL 20.3125 54.6875 \r\nL 30.8125 34.90625 \r\nL 49.125 54.6875 \r\nz\r\n\" id=\"DejaVuSans-Oblique-120\"/>\r\n      <path d=\"M 53.71875 31.203125 \r\nL 47.609375 0 \r\nL 38.625 0 \r\nL 40.28125 8.296875 \r\nQ 36.328125 3.421875 31.265625 1 \r\nQ 26.21875 -1.421875 20.015625 -1.421875 \r\nQ 13.03125 -1.421875 8.5625 2.84375 \r\nQ 4.109375 7.125 4.109375 13.8125 \r\nQ 4.109375 23.390625 11.75 28.953125 \r\nQ 19.390625 34.515625 32.8125 34.515625 \r\nL 45.3125 34.515625 \r\nL 45.796875 36.921875 \r\nQ 45.90625 37.3125 45.953125 37.765625 \r\nQ 46 38.234375 46 39.203125 \r\nQ 46 43.5625 42.453125 45.96875 \r\nQ 38.921875 48.390625 32.515625 48.390625 \r\nQ 28.125 48.390625 23.5 47.265625 \r\nQ 18.890625 46.140625 14.015625 43.890625 \r\nL 15.578125 52.203125 \r\nQ 20.65625 54.109375 25.515625 55.046875 \r\nQ 30.375 56 34.90625 56 \r\nQ 44.578125 56 49.625 51.796875 \r\nQ 54.6875 47.609375 54.6875 39.59375 \r\nQ 54.6875 37.984375 54.4375 35.8125 \r\nQ 54.203125 33.640625 53.71875 31.203125 \r\nz\r\nM 44 27.484375 \r\nL 35.015625 27.484375 \r\nQ 23.96875 27.484375 18.671875 24.53125 \r\nQ 13.375 21.578125 13.375 15.375 \r\nQ 13.375 11.078125 16.078125 8.640625 \r\nQ 18.796875 6.203125 23.578125 6.203125 \r\nQ 30.90625 6.203125 36.375 11.453125 \r\nQ 41.84375 16.703125 43.609375 25.484375 \r\nz\r\n\" id=\"DejaVuSans-Oblique-97\"/>\r\n      <path d=\"M 53.609375 52.59375 \r\nL 51.8125 43.703125 \r\nQ 48.578125 46.046875 44.9375 47.21875 \r\nQ 41.3125 48.390625 37.40625 48.390625 \r\nQ 33.109375 48.390625 29.21875 46.875 \r\nQ 25.34375 45.359375 22.703125 42.578125 \r\nQ 18.5 38.328125 16.203125 32.609375 \r\nQ 13.921875 26.90625 13.921875 20.796875 \r\nQ 13.921875 13.421875 17.609375 9.8125 \r\nQ 21.296875 6.203125 28.8125 6.203125 \r\nQ 32.515625 6.203125 36.6875 7.328125 \r\nQ 40.875 8.453125 45.40625 10.6875 \r\nL 43.703125 1.8125 \r\nQ 39.796875 0.203125 35.671875 -0.609375 \r\nQ 31.546875 -1.421875 27.203125 -1.421875 \r\nQ 16.3125 -1.421875 10.453125 4.015625 \r\nQ 4.59375 9.46875 4.59375 19.578125 \r\nQ 4.59375 28.078125 7.640625 35.234375 \r\nQ 10.6875 42.390625 16.703125 48.09375 \r\nQ 20.796875 52 26.3125 54 \r\nQ 31.84375 56 38.375 56 \r\nQ 42.1875 56 45.9375 55.140625 \r\nQ 49.703125 54.296875 53.609375 52.59375 \r\nz\r\n\" id=\"DejaVuSans-Oblique-99\"/>\r\n      <path d=\"M 42.28125 54.6875 \r\nL 40.921875 47.703125 \r\nL 23 47.703125 \r\nL 17.1875 18.015625 \r\nQ 16.890625 16.359375 16.75 15.234375 \r\nQ 16.609375 14.109375 16.609375 13.484375 \r\nQ 16.609375 10.359375 18.484375 8.9375 \r\nQ 20.359375 7.515625 24.515625 7.515625 \r\nL 33.59375 7.515625 \r\nL 32.078125 0 \r\nL 23.484375 0 \r\nQ 15.484375 0 11.546875 3.125 \r\nQ 7.625 6.25 7.625 12.59375 \r\nQ 7.625 13.71875 7.765625 15.0625 \r\nQ 7.90625 16.40625 8.203125 18.015625 \r\nL 14.015625 47.703125 \r\nL 6.390625 47.703125 \r\nL 7.8125 54.6875 \r\nL 15.28125 54.6875 \r\nL 18.3125 70.21875 \r\nL 27.296875 70.21875 \r\nL 24.3125 54.6875 \r\nz\r\n\" id=\"DejaVuSans-Oblique-116\"/>\r\n     </defs>\r\n     <g transform=\"translate(13.04 112.58)rotate(-90)scale(0.08 -0.08)\">\r\n      <use transform=\"translate(0 0.09375)\" xlink:href=\"#DejaVuSans-Oblique-69\"/>\r\n      <use transform=\"translate(63.183594 -16.3125)scale(0.7)\" xlink:href=\"#DejaVuSans-Oblique-86\"/>\r\n      <use transform=\"translate(111.069336 -16.3125)scale(0.7)\" xlink:href=\"#DejaVuSans-Oblique-81\"/>\r\n      <use transform=\"translate(166.166992 -16.3125)scale(0.7)\" xlink:href=\"#DejaVuSans-Oblique-69\"/>\r\n      <use transform=\"translate(232.612305 0.09375)\" xlink:href=\"#DejaVuSans-8722\"/>\r\n      <use transform=\"translate(335.883789 0.09375)\" xlink:href=\"#DejaVuSans-Oblique-69\"/>\r\n      <use transform=\"translate(399.067383 -16.3125)scale(0.7)\" xlink:href=\"#DejaVuSans-Oblique-101\"/>\r\n      <use transform=\"translate(442.133789 -16.3125)scale(0.7)\" xlink:href=\"#DejaVuSans-Oblique-120\"/>\r\n      <use transform=\"translate(483.55957 -16.3125)scale(0.7)\" xlink:href=\"#DejaVuSans-Oblique-97\"/>\r\n      <use transform=\"translate(526.455078 -16.3125)scale(0.7)\" xlink:href=\"#DejaVuSans-Oblique-99\"/>\r\n      <use transform=\"translate(564.941406 -16.3125)scale(0.7)\" xlink:href=\"#DejaVuSans-Oblique-116\"/>\r\n     </g>\r\n    </g>\r\n   </g>\r\n   <g id=\"line2d_51\">\r\n    <path clip-path=\"url(#pf799e42bea)\" d=\"M 52.333802 14.612727 \r\nL 82.309008 16.099331 \r\nL 112.284215 104.058033 \r\nL 142.259421 99.657277 \r\nL 172.234628 153.57839 \r\nL 202.209835 162.867273 \r\n\" style=\"fill:none;stroke:#1f77b4;stroke-linecap:square;stroke-width:2;\"/>\r\n   </g>\r\n   <g id=\"patch_3\">\r\n    <path d=\"M 44.84 170.28 \r\nL 44.84 7.2 \r\n\" style=\"fill:none;stroke:#000000;stroke-linecap:square;stroke-linejoin:miter;stroke-width:1.2;\"/>\r\n   </g>\r\n   <g id=\"patch_4\">\r\n    <path d=\"M 209.703636 170.28 \r\nL 209.703636 7.2 \r\n\" style=\"fill:none;stroke:#000000;stroke-linecap:square;stroke-linejoin:miter;stroke-width:1.2;\"/>\r\n   </g>\r\n   <g id=\"patch_5\">\r\n    <path d=\"M 44.84 170.28 \r\nL 209.703636 170.28 \r\n\" style=\"fill:none;stroke:#000000;stroke-linecap:square;stroke-linejoin:miter;stroke-width:1.2;\"/>\r\n   </g>\r\n   <g id=\"patch_6\">\r\n    <path d=\"M 44.84 7.2 \r\nL 209.703636 7.2 \r\n\" style=\"fill:none;stroke:#000000;stroke-linecap:square;stroke-linejoin:miter;stroke-width:1.2;\"/>\r\n   </g>\r\n  </g>\r\n  <g id=\"axes_2\">\r\n   <g id=\"patch_7\">\r\n    <path d=\"M 242.676364 170.28 \r\nL 407.54 170.28 \r\nL 407.54 7.2 \r\nL 242.676364 7.2 \r\nz\r\n\" style=\"fill:#ffffff;\"/>\r\n   </g>\r\n   <g id=\"matplotlib.axis_3\">\r\n    <g id=\"xtick_4\">\r\n     <g id=\"line2d_52\">\r\n      <g>\r\n       <use style=\"stroke:#000000;stroke-width:0.8;\" x=\"254.257693\" xlink:href=\"#m7df88d9f90\" y=\"170.28\"/>\r\n      </g>\r\n     </g>\r\n     <g id=\"text_11\">\r\n      <!-- 50 -->\r\n      <g transform=\"translate(249.167693 183.35875)scale(0.08 -0.08)\">\r\n       <use xlink:href=\"#DejaVuSerif-53\"/>\r\n       <use x=\"63.623047\" xlink:href=\"#DejaVuSerif-48\"/>\r\n      </g>\r\n     </g>\r\n    </g>\r\n    <g id=\"xtick_5\">\r\n     <g id=\"line2d_53\">\r\n      <g>\r\n       <use style=\"stroke:#000000;stroke-width:0.8;\" x=\"288.320428\" xlink:href=\"#m7df88d9f90\" y=\"170.28\"/>\r\n      </g>\r\n     </g>\r\n     <g id=\"text_12\">\r\n      <!-- 100 -->\r\n      <g transform=\"translate(280.685428 183.35875)scale(0.08 -0.08)\">\r\n       <use xlink:href=\"#DejaVuSerif-49\"/>\r\n       <use x=\"63.623047\" xlink:href=\"#DejaVuSerif-48\"/>\r\n       <use x=\"127.246094\" xlink:href=\"#DejaVuSerif-48\"/>\r\n      </g>\r\n     </g>\r\n    </g>\r\n    <g id=\"xtick_6\">\r\n     <g id=\"line2d_54\">\r\n      <g>\r\n       <use style=\"stroke:#000000;stroke-width:0.8;\" x=\"322.383163\" xlink:href=\"#m7df88d9f90\" y=\"170.28\"/>\r\n      </g>\r\n     </g>\r\n     <g id=\"text_13\">\r\n      <!-- 150 -->\r\n      <g transform=\"translate(314.748163 183.35875)scale(0.08 -0.08)\">\r\n       <use xlink:href=\"#DejaVuSerif-49\"/>\r\n       <use x=\"63.623047\" xlink:href=\"#DejaVuSerif-53\"/>\r\n       <use x=\"127.246094\" xlink:href=\"#DejaVuSerif-48\"/>\r\n      </g>\r\n     </g>\r\n    </g>\r\n    <g id=\"xtick_7\">\r\n     <g id=\"line2d_55\">\r\n      <g>\r\n       <use style=\"stroke:#000000;stroke-width:0.8;\" x=\"356.445898\" xlink:href=\"#m7df88d9f90\" y=\"170.28\"/>\r\n      </g>\r\n     </g>\r\n     <g id=\"text_14\">\r\n      <!-- 200 -->\r\n      <g transform=\"translate(348.810898 183.35875)scale(0.08 -0.08)\">\r\n       <use xlink:href=\"#DejaVuSerif-50\"/>\r\n       <use x=\"63.623047\" xlink:href=\"#DejaVuSerif-48\"/>\r\n       <use x=\"127.246094\" xlink:href=\"#DejaVuSerif-48\"/>\r\n      </g>\r\n     </g>\r\n    </g>\r\n    <g id=\"xtick_8\">\r\n     <g id=\"line2d_56\">\r\n      <g>\r\n       <use style=\"stroke:#000000;stroke-width:0.8;\" x=\"390.508633\" xlink:href=\"#m7df88d9f90\" y=\"170.28\"/>\r\n      </g>\r\n     </g>\r\n     <g id=\"text_15\">\r\n      <!-- 250 -->\r\n      <g transform=\"translate(382.873633 183.35875)scale(0.08 -0.08)\">\r\n       <use xlink:href=\"#DejaVuSerif-50\"/>\r\n       <use x=\"63.623047\" xlink:href=\"#DejaVuSerif-53\"/>\r\n       <use x=\"127.246094\" xlink:href=\"#DejaVuSerif-48\"/>\r\n      </g>\r\n     </g>\r\n    </g>\r\n    <g id=\"text_16\">\r\n     <!-- CNOTS -->\r\n     <defs>\r\n      <path d=\"M 70.515625 19.28125 \r\nQ 67.28125 9.078125 59.6875 3.828125 \r\nQ 52.09375 -1.421875 40.484375 -1.421875 \r\nQ 33.34375 -1.421875 27.234375 1.015625 \r\nQ 21.140625 3.46875 16.40625 8.203125 \r\nQ 10.9375 13.671875 8.265625 20.625 \r\nQ 5.609375 27.59375 5.609375 36.375 \r\nQ 5.609375 53.375 15.421875 63.796875 \r\nQ 25.25 74.21875 41.3125 74.21875 \r\nQ 47.265625 74.21875 54 72.65625 \r\nQ 60.75 71.09375 68.5 67.921875 \r\nL 68.5 51.125 \r\nL 62.984375 51.125 \r\nQ 61.1875 60.296875 55.734375 64.640625 \r\nQ 50.296875 69 40.484375 69 \r\nQ 28.8125 69 22.796875 60.71875 \r\nQ 16.796875 52.4375 16.796875 36.375 \r\nQ 16.796875 20.359375 22.796875 12.078125 \r\nQ 28.8125 3.8125 40.484375 3.8125 \r\nQ 48.640625 3.8125 53.90625 7.6875 \r\nQ 59.1875 11.578125 61.53125 19.28125 \r\nz\r\n\" id=\"DejaVuSerif-67\"/>\r\n      <path d=\"M 4.890625 0 \r\nL 4.890625 5.171875 \r\nL 14.703125 5.171875 \r\nL 14.703125 67.671875 \r\nL 4.890625 67.671875 \r\nL 4.890625 72.90625 \r\nL 23.578125 72.90625 \r\nL 67.28125 15.375 \r\nL 67.28125 67.671875 \r\nL 57.515625 67.671875 \r\nL 57.515625 72.90625 \r\nL 83.109375 72.90625 \r\nL 83.109375 67.671875 \r\nL 73.296875 67.671875 \r\nL 73.296875 -1.421875 \r\nL 67.390625 -1.421875 \r\nL 20.703125 60.015625 \r\nL 20.703125 5.171875 \r\nL 30.515625 5.171875 \r\nL 30.515625 0 \r\nz\r\n\" id=\"DejaVuSerif-78\"/>\r\n      <path d=\"M 41.015625 3.8125 \r\nQ 52.984375 3.8125 59.078125 12.03125 \r\nQ 65.1875 20.265625 65.1875 36.375 \r\nQ 65.1875 52.546875 59.078125 60.765625 \r\nQ 52.984375 69 41.015625 69 \r\nQ 29 69 22.890625 60.765625 \r\nQ 16.796875 52.546875 16.796875 36.375 \r\nQ 16.796875 20.265625 22.890625 12.03125 \r\nQ 29 3.8125 41.015625 3.8125 \r\nz\r\nM 41.015625 -1.421875 \r\nQ 33.59375 -1.421875 27.359375 1.015625 \r\nQ 21.140625 3.46875 16.40625 8.203125 \r\nQ 10.9375 13.671875 8.265625 20.609375 \r\nQ 5.609375 27.546875 5.609375 36.375 \r\nQ 5.609375 45.21875 8.265625 52.171875 \r\nQ 10.9375 59.125 16.40625 64.59375 \r\nQ 21.1875 69.390625 27.34375 71.796875 \r\nQ 33.5 74.21875 41.015625 74.21875 \r\nQ 56.890625 74.21875 66.65625 63.8125 \r\nQ 76.421875 53.421875 76.421875 36.375 \r\nQ 76.421875 27.640625 73.734375 20.625 \r\nQ 71.046875 13.625 65.578125 8.203125 \r\nQ 60.796875 3.421875 54.640625 1 \r\nQ 48.484375 -1.421875 41.015625 -1.421875 \r\nz\r\n\" id=\"DejaVuSerif-79\"/>\r\n      <path d=\"M 19.09375 0 \r\nL 19.09375 5.171875 \r\nL 28.421875 5.171875 \r\nL 28.421875 67.09375 \r\nL 6.984375 67.09375 \r\nL 6.984375 55.71875 \r\nL 0.984375 55.71875 \r\nL 0.984375 72.90625 \r\nL 65.71875 72.90625 \r\nL 65.71875 55.71875 \r\nL 59.71875 55.71875 \r\nL 59.71875 67.09375 \r\nL 38.28125 67.09375 \r\nL 38.28125 5.171875 \r\nL 47.609375 5.171875 \r\nL 47.609375 0 \r\nz\r\n\" id=\"DejaVuSerif-84\"/>\r\n      <path d=\"M 9.28125 3.515625 \r\nL 9.28125 20.125 \r\nL 14.890625 20.0625 \r\nQ 15.140625 11.765625 19.703125 7.78125 \r\nQ 24.265625 3.8125 33.59375 3.8125 \r\nQ 42.28125 3.8125 46.84375 7.25 \r\nQ 51.421875 10.6875 51.421875 17.28125 \r\nQ 51.421875 22.5625 48.65625 25.390625 \r\nQ 45.90625 28.21875 37.015625 30.90625 \r\nL 27.390625 33.796875 \r\nQ 16.9375 36.96875 12.671875 41.703125 \r\nQ 8.40625 46.4375 8.40625 54.6875 \r\nQ 8.40625 63.96875 14.984375 69.09375 \r\nQ 21.578125 74.21875 33.5 74.21875 \r\nQ 38.578125 74.21875 44.625 73.109375 \r\nQ 50.6875 72.015625 57.515625 69.921875 \r\nL 57.515625 54.390625 \r\nL 52 54.390625 \r\nQ 51.171875 62.109375 46.84375 65.546875 \r\nQ 42.53125 69 33.6875 69 \r\nQ 25.984375 69 21.953125 65.84375 \r\nQ 17.921875 62.703125 17.921875 56.6875 \r\nQ 17.921875 51.46875 20.9375 48.484375 \r\nQ 23.96875 45.515625 33.796875 42.578125 \r\nL 42.828125 39.890625 \r\nQ 52.734375 36.921875 56.953125 32.296875 \r\nQ 61.1875 27.6875 61.1875 19.921875 \r\nQ 61.1875 9.328125 54.390625 3.953125 \r\nQ 47.609375 -1.421875 34.1875 -1.421875 \r\nQ 28.171875 -1.421875 21.9375 -0.1875 \r\nQ 15.71875 1.03125 9.28125 3.515625 \r\nz\r\n\" id=\"DejaVuSerif-83\"/>\r\n     </defs>\r\n     <g transform=\"translate(309.860057 195.10125)scale(0.08 -0.08)\">\r\n      <use xlink:href=\"#DejaVuSerif-67\"/>\r\n      <use x=\"76.513672\" xlink:href=\"#DejaVuSerif-78\"/>\r\n      <use x=\"164.013672\" xlink:href=\"#DejaVuSerif-79\"/>\r\n      <use x=\"245.996094\" xlink:href=\"#DejaVuSerif-84\"/>\r\n      <use x=\"312.695312\" xlink:href=\"#DejaVuSerif-83\"/>\r\n     </g>\r\n    </g>\r\n   </g>\r\n   <g id=\"matplotlib.axis_4\">\r\n    <g id=\"ytick_48\">\r\n     <g id=\"line2d_57\">\r\n      <g>\r\n       <use style=\"stroke:#000000;stroke-width:0.8;\" x=\"242.676364\" xlink:href=\"#made12c59af\" y=\"142.625869\"/>\r\n      </g>\r\n     </g>\r\n     <g id=\"text_17\">\r\n      <!-- $\\mathdefault{10^{-5}}$ -->\r\n      <g transform=\"translate(216.956364 145.665244)scale(0.08 -0.08)\">\r\n       <use transform=\"translate(0 0.63125)\" xlink:href=\"#DejaVuSerif-49\"/>\r\n       <use transform=\"translate(63.623047 0.63125)\" xlink:href=\"#DejaVuSerif-48\"/>\r\n       <use transform=\"translate(128.154453 36.965625)scale(0.7)\" xlink:href=\"#DejaVuSerif-8722\"/>\r\n       <use transform=\"translate(186.806797 36.965625)scale(0.7)\" xlink:href=\"#DejaVuSerif-53\"/>\r\n      </g>\r\n     </g>\r\n    </g>\r\n    <g id=\"ytick_49\">\r\n     <g id=\"line2d_58\">\r\n      <g>\r\n       <use style=\"stroke:#000000;stroke-width:0.8;\" x=\"242.676364\" xlink:href=\"#made12c59af\" y=\"112.57914\"/>\r\n      </g>\r\n     </g>\r\n     <g id=\"text_18\">\r\n      <!-- $\\mathdefault{10^{-4}}$ -->\r\n      <g transform=\"translate(216.956364 115.618515)scale(0.08 -0.08)\">\r\n       <use transform=\"translate(0 0.7125)\" xlink:href=\"#DejaVuSerif-49\"/>\r\n       <use transform=\"translate(63.623047 0.7125)\" xlink:href=\"#DejaVuSerif-48\"/>\r\n       <use transform=\"translate(128.154453 37.046875)scale(0.7)\" xlink:href=\"#DejaVuSerif-8722\"/>\r\n       <use transform=\"translate(186.806797 37.046875)scale(0.7)\" xlink:href=\"#DejaVuSerif-52\"/>\r\n      </g>\r\n     </g>\r\n    </g>\r\n    <g id=\"ytick_50\">\r\n     <g id=\"line2d_59\">\r\n      <g>\r\n       <use style=\"stroke:#000000;stroke-width:0.8;\" x=\"242.676364\" xlink:href=\"#made12c59af\" y=\"82.532412\"/>\r\n      </g>\r\n     </g>\r\n     <g id=\"text_19\">\r\n      <!-- $\\mathdefault{10^{-3}}$ -->\r\n      <g transform=\"translate(216.956364 85.571787)scale(0.08 -0.08)\">\r\n       <use transform=\"translate(0 0.7125)\" xlink:href=\"#DejaVuSerif-49\"/>\r\n       <use transform=\"translate(63.623047 0.7125)\" xlink:href=\"#DejaVuSerif-48\"/>\r\n       <use transform=\"translate(128.154453 37.046875)scale(0.7)\" xlink:href=\"#DejaVuSerif-8722\"/>\r\n       <use transform=\"translate(186.806797 37.046875)scale(0.7)\" xlink:href=\"#DejaVuSerif-51\"/>\r\n      </g>\r\n     </g>\r\n    </g>\r\n    <g id=\"ytick_51\">\r\n     <g id=\"line2d_60\">\r\n      <g>\r\n       <use style=\"stroke:#000000;stroke-width:0.8;\" x=\"242.676364\" xlink:href=\"#made12c59af\" y=\"52.485683\"/>\r\n      </g>\r\n     </g>\r\n     <g id=\"text_20\">\r\n      <!-- $\\mathdefault{10^{-2}}$ -->\r\n      <g transform=\"translate(216.956364 55.525058)scale(0.08 -0.08)\">\r\n       <use transform=\"translate(0 0.7125)\" xlink:href=\"#DejaVuSerif-49\"/>\r\n       <use transform=\"translate(63.623047 0.7125)\" xlink:href=\"#DejaVuSerif-48\"/>\r\n       <use transform=\"translate(128.154453 37.046875)scale(0.7)\" xlink:href=\"#DejaVuSerif-8722\"/>\r\n       <use transform=\"translate(186.806797 37.046875)scale(0.7)\" xlink:href=\"#DejaVuSerif-50\"/>\r\n      </g>\r\n     </g>\r\n    </g>\r\n    <g id=\"ytick_52\">\r\n     <g id=\"line2d_61\">\r\n      <g>\r\n       <use style=\"stroke:#000000;stroke-width:0.8;\" x=\"242.676364\" xlink:href=\"#made12c59af\" y=\"22.438954\"/>\r\n      </g>\r\n     </g>\r\n     <g id=\"text_21\">\r\n      <!-- $\\mathdefault{10^{-1}}$ -->\r\n      <g transform=\"translate(216.956364 25.478329)scale(0.08 -0.08)\">\r\n       <use transform=\"translate(0 0.7125)\" xlink:href=\"#DejaVuSerif-49\"/>\r\n       <use transform=\"translate(63.623047 0.7125)\" xlink:href=\"#DejaVuSerif-48\"/>\r\n       <use transform=\"translate(128.154453 37.046875)scale(0.7)\" xlink:href=\"#DejaVuSerif-8722\"/>\r\n       <use transform=\"translate(186.806797 37.046875)scale(0.7)\" xlink:href=\"#DejaVuSerif-49\"/>\r\n      </g>\r\n     </g>\r\n    </g>\r\n    <g id=\"ytick_53\">\r\n     <g id=\"line2d_62\">\r\n      <g>\r\n       <use style=\"stroke:#000000;stroke-width:0.6;\" x=\"242.676364\" xlink:href=\"#mcbd4d74eb0\" y=\"163.627631\"/>\r\n      </g>\r\n     </g>\r\n    </g>\r\n    <g id=\"ytick_54\">\r\n     <g id=\"line2d_63\">\r\n      <g>\r\n       <use style=\"stroke:#000000;stroke-width:0.6;\" x=\"242.676364\" xlink:href=\"#mcbd4d74eb0\" y=\"158.336665\"/>\r\n      </g>\r\n     </g>\r\n    </g>\r\n    <g id=\"ytick_55\">\r\n     <g id=\"line2d_64\">\r\n      <g>\r\n       <use style=\"stroke:#000000;stroke-width:0.6;\" x=\"242.676364\" xlink:href=\"#mcbd4d74eb0\" y=\"154.582665\"/>\r\n      </g>\r\n     </g>\r\n    </g>\r\n    <g id=\"ytick_56\">\r\n     <g id=\"line2d_65\">\r\n      <g>\r\n       <use style=\"stroke:#000000;stroke-width:0.6;\" x=\"242.676364\" xlink:href=\"#mcbd4d74eb0\" y=\"151.670836\"/>\r\n      </g>\r\n     </g>\r\n    </g>\r\n    <g id=\"ytick_57\">\r\n     <g id=\"line2d_66\">\r\n      <g>\r\n       <use style=\"stroke:#000000;stroke-width:0.6;\" x=\"242.676364\" xlink:href=\"#mcbd4d74eb0\" y=\"149.291698\"/>\r\n      </g>\r\n     </g>\r\n    </g>\r\n    <g id=\"ytick_58\">\r\n     <g id=\"line2d_67\">\r\n      <g>\r\n       <use style=\"stroke:#000000;stroke-width:0.6;\" x=\"242.676364\" xlink:href=\"#mcbd4d74eb0\" y=\"147.280166\"/>\r\n      </g>\r\n     </g>\r\n    </g>\r\n    <g id=\"ytick_59\">\r\n     <g id=\"line2d_68\">\r\n      <g>\r\n       <use style=\"stroke:#000000;stroke-width:0.6;\" x=\"242.676364\" xlink:href=\"#mcbd4d74eb0\" y=\"145.537698\"/>\r\n      </g>\r\n     </g>\r\n    </g>\r\n    <g id=\"ytick_60\">\r\n     <g id=\"line2d_69\">\r\n      <g>\r\n       <use style=\"stroke:#000000;stroke-width:0.6;\" x=\"242.676364\" xlink:href=\"#mcbd4d74eb0\" y=\"144.000732\"/>\r\n      </g>\r\n     </g>\r\n    </g>\r\n    <g id=\"ytick_61\">\r\n     <g id=\"line2d_70\">\r\n      <g>\r\n       <use style=\"stroke:#000000;stroke-width:0.6;\" x=\"242.676364\" xlink:href=\"#mcbd4d74eb0\" y=\"133.580902\"/>\r\n      </g>\r\n     </g>\r\n    </g>\r\n    <g id=\"ytick_62\">\r\n     <g id=\"line2d_71\">\r\n      <g>\r\n       <use style=\"stroke:#000000;stroke-width:0.6;\" x=\"242.676364\" xlink:href=\"#mcbd4d74eb0\" y=\"128.289936\"/>\r\n      </g>\r\n     </g>\r\n    </g>\r\n    <g id=\"ytick_63\">\r\n     <g id=\"line2d_72\">\r\n      <g>\r\n       <use style=\"stroke:#000000;stroke-width:0.6;\" x=\"242.676364\" xlink:href=\"#mcbd4d74eb0\" y=\"124.535936\"/>\r\n      </g>\r\n     </g>\r\n    </g>\r\n    <g id=\"ytick_64\">\r\n     <g id=\"line2d_73\">\r\n      <g>\r\n       <use style=\"stroke:#000000;stroke-width:0.6;\" x=\"242.676364\" xlink:href=\"#mcbd4d74eb0\" y=\"121.624107\"/>\r\n      </g>\r\n     </g>\r\n    </g>\r\n    <g id=\"ytick_65\">\r\n     <g id=\"line2d_74\">\r\n      <g>\r\n       <use style=\"stroke:#000000;stroke-width:0.6;\" x=\"242.676364\" xlink:href=\"#mcbd4d74eb0\" y=\"119.24497\"/>\r\n      </g>\r\n     </g>\r\n    </g>\r\n    <g id=\"ytick_66\">\r\n     <g id=\"line2d_75\">\r\n      <g>\r\n       <use style=\"stroke:#000000;stroke-width:0.6;\" x=\"242.676364\" xlink:href=\"#mcbd4d74eb0\" y=\"117.233437\"/>\r\n      </g>\r\n     </g>\r\n    </g>\r\n    <g id=\"ytick_67\">\r\n     <g id=\"line2d_76\">\r\n      <g>\r\n       <use style=\"stroke:#000000;stroke-width:0.6;\" x=\"242.676364\" xlink:href=\"#mcbd4d74eb0\" y=\"115.490969\"/>\r\n      </g>\r\n     </g>\r\n    </g>\r\n    <g id=\"ytick_68\">\r\n     <g id=\"line2d_77\">\r\n      <g>\r\n       <use style=\"stroke:#000000;stroke-width:0.6;\" x=\"242.676364\" xlink:href=\"#mcbd4d74eb0\" y=\"113.954003\"/>\r\n      </g>\r\n     </g>\r\n    </g>\r\n    <g id=\"ytick_69\">\r\n     <g id=\"line2d_78\">\r\n      <g>\r\n       <use style=\"stroke:#000000;stroke-width:0.6;\" x=\"242.676364\" xlink:href=\"#mcbd4d74eb0\" y=\"103.534174\"/>\r\n      </g>\r\n     </g>\r\n    </g>\r\n    <g id=\"ytick_70\">\r\n     <g id=\"line2d_79\">\r\n      <g>\r\n       <use style=\"stroke:#000000;stroke-width:0.6;\" x=\"242.676364\" xlink:href=\"#mcbd4d74eb0\" y=\"98.243207\"/>\r\n      </g>\r\n     </g>\r\n    </g>\r\n    <g id=\"ytick_71\">\r\n     <g id=\"line2d_80\">\r\n      <g>\r\n       <use style=\"stroke:#000000;stroke-width:0.6;\" x=\"242.676364\" xlink:href=\"#mcbd4d74eb0\" y=\"94.489207\"/>\r\n      </g>\r\n     </g>\r\n    </g>\r\n    <g id=\"ytick_72\">\r\n     <g id=\"line2d_81\">\r\n      <g>\r\n       <use style=\"stroke:#000000;stroke-width:0.6;\" x=\"242.676364\" xlink:href=\"#mcbd4d74eb0\" y=\"91.577378\"/>\r\n      </g>\r\n     </g>\r\n    </g>\r\n    <g id=\"ytick_73\">\r\n     <g id=\"line2d_82\">\r\n      <g>\r\n       <use style=\"stroke:#000000;stroke-width:0.6;\" x=\"242.676364\" xlink:href=\"#mcbd4d74eb0\" y=\"89.198241\"/>\r\n      </g>\r\n     </g>\r\n    </g>\r\n    <g id=\"ytick_74\">\r\n     <g id=\"line2d_83\">\r\n      <g>\r\n       <use style=\"stroke:#000000;stroke-width:0.6;\" x=\"242.676364\" xlink:href=\"#mcbd4d74eb0\" y=\"87.186709\"/>\r\n      </g>\r\n     </g>\r\n    </g>\r\n    <g id=\"ytick_75\">\r\n     <g id=\"line2d_84\">\r\n      <g>\r\n       <use style=\"stroke:#000000;stroke-width:0.6;\" x=\"242.676364\" xlink:href=\"#mcbd4d74eb0\" y=\"85.44424\"/>\r\n      </g>\r\n     </g>\r\n    </g>\r\n    <g id=\"ytick_76\">\r\n     <g id=\"line2d_85\">\r\n      <g>\r\n       <use style=\"stroke:#000000;stroke-width:0.6;\" x=\"242.676364\" xlink:href=\"#mcbd4d74eb0\" y=\"83.907274\"/>\r\n      </g>\r\n     </g>\r\n    </g>\r\n    <g id=\"ytick_77\">\r\n     <g id=\"line2d_86\">\r\n      <g>\r\n       <use style=\"stroke:#000000;stroke-width:0.6;\" x=\"242.676364\" xlink:href=\"#mcbd4d74eb0\" y=\"73.487445\"/>\r\n      </g>\r\n     </g>\r\n    </g>\r\n    <g id=\"ytick_78\">\r\n     <g id=\"line2d_87\">\r\n      <g>\r\n       <use style=\"stroke:#000000;stroke-width:0.6;\" x=\"242.676364\" xlink:href=\"#mcbd4d74eb0\" y=\"68.196479\"/>\r\n      </g>\r\n     </g>\r\n    </g>\r\n    <g id=\"ytick_79\">\r\n     <g id=\"line2d_88\">\r\n      <g>\r\n       <use style=\"stroke:#000000;stroke-width:0.6;\" x=\"242.676364\" xlink:href=\"#mcbd4d74eb0\" y=\"64.442478\"/>\r\n      </g>\r\n     </g>\r\n    </g>\r\n    <g id=\"ytick_80\">\r\n     <g id=\"line2d_89\">\r\n      <g>\r\n       <use style=\"stroke:#000000;stroke-width:0.6;\" x=\"242.676364\" xlink:href=\"#mcbd4d74eb0\" y=\"61.530649\"/>\r\n      </g>\r\n     </g>\r\n    </g>\r\n    <g id=\"ytick_81\">\r\n     <g id=\"line2d_90\">\r\n      <g>\r\n       <use style=\"stroke:#000000;stroke-width:0.6;\" x=\"242.676364\" xlink:href=\"#mcbd4d74eb0\" y=\"59.151512\"/>\r\n      </g>\r\n     </g>\r\n    </g>\r\n    <g id=\"ytick_82\">\r\n     <g id=\"line2d_91\">\r\n      <g>\r\n       <use style=\"stroke:#000000;stroke-width:0.6;\" x=\"242.676364\" xlink:href=\"#mcbd4d74eb0\" y=\"57.13998\"/>\r\n      </g>\r\n     </g>\r\n    </g>\r\n    <g id=\"ytick_83\">\r\n     <g id=\"line2d_92\">\r\n      <g>\r\n       <use style=\"stroke:#000000;stroke-width:0.6;\" x=\"242.676364\" xlink:href=\"#mcbd4d74eb0\" y=\"55.397512\"/>\r\n      </g>\r\n     </g>\r\n    </g>\r\n    <g id=\"ytick_84\">\r\n     <g id=\"line2d_93\">\r\n      <g>\r\n       <use style=\"stroke:#000000;stroke-width:0.6;\" x=\"242.676364\" xlink:href=\"#mcbd4d74eb0\" y=\"53.860546\"/>\r\n      </g>\r\n     </g>\r\n    </g>\r\n    <g id=\"ytick_85\">\r\n     <g id=\"line2d_94\">\r\n      <g>\r\n       <use style=\"stroke:#000000;stroke-width:0.6;\" x=\"242.676364\" xlink:href=\"#mcbd4d74eb0\" y=\"43.440716\"/>\r\n      </g>\r\n     </g>\r\n    </g>\r\n    <g id=\"ytick_86\">\r\n     <g id=\"line2d_95\">\r\n      <g>\r\n       <use style=\"stroke:#000000;stroke-width:0.6;\" x=\"242.676364\" xlink:href=\"#mcbd4d74eb0\" y=\"38.14975\"/>\r\n      </g>\r\n     </g>\r\n    </g>\r\n    <g id=\"ytick_87\">\r\n     <g id=\"line2d_96\">\r\n      <g>\r\n       <use style=\"stroke:#000000;stroke-width:0.6;\" x=\"242.676364\" xlink:href=\"#mcbd4d74eb0\" y=\"34.39575\"/>\r\n      </g>\r\n     </g>\r\n    </g>\r\n    <g id=\"ytick_88\">\r\n     <g id=\"line2d_97\">\r\n      <g>\r\n       <use style=\"stroke:#000000;stroke-width:0.6;\" x=\"242.676364\" xlink:href=\"#mcbd4d74eb0\" y=\"31.483921\"/>\r\n      </g>\r\n     </g>\r\n    </g>\r\n    <g id=\"ytick_89\">\r\n     <g id=\"line2d_98\">\r\n      <g>\r\n       <use style=\"stroke:#000000;stroke-width:0.6;\" x=\"242.676364\" xlink:href=\"#mcbd4d74eb0\" y=\"29.104783\"/>\r\n      </g>\r\n     </g>\r\n    </g>\r\n    <g id=\"ytick_90\">\r\n     <g id=\"line2d_99\">\r\n      <g>\r\n       <use style=\"stroke:#000000;stroke-width:0.6;\" x=\"242.676364\" xlink:href=\"#mcbd4d74eb0\" y=\"27.093251\"/>\r\n      </g>\r\n     </g>\r\n    </g>\r\n    <g id=\"ytick_91\">\r\n     <g id=\"line2d_100\">\r\n      <g>\r\n       <use style=\"stroke:#000000;stroke-width:0.6;\" x=\"242.676364\" xlink:href=\"#mcbd4d74eb0\" y=\"25.350783\"/>\r\n      </g>\r\n     </g>\r\n    </g>\r\n    <g id=\"ytick_92\">\r\n     <g id=\"line2d_101\">\r\n      <g>\r\n       <use style=\"stroke:#000000;stroke-width:0.6;\" x=\"242.676364\" xlink:href=\"#mcbd4d74eb0\" y=\"23.813817\"/>\r\n      </g>\r\n     </g>\r\n    </g>\r\n    <g id=\"ytick_93\">\r\n     <g id=\"line2d_102\">\r\n      <g>\r\n       <use style=\"stroke:#000000;stroke-width:0.6;\" x=\"242.676364\" xlink:href=\"#mcbd4d74eb0\" y=\"13.393987\"/>\r\n      </g>\r\n     </g>\r\n    </g>\r\n    <g id=\"ytick_94\">\r\n     <g id=\"line2d_103\">\r\n      <g>\r\n       <use style=\"stroke:#000000;stroke-width:0.6;\" x=\"242.676364\" xlink:href=\"#mcbd4d74eb0\" y=\"8.103021\"/>\r\n      </g>\r\n     </g>\r\n    </g>\r\n   </g>\r\n   <g id=\"line2d_104\">\r\n    <path clip-path=\"url(#p8e50329fb2)\" d=\"M 250.170165 14.612727 \r\nL 280.145372 16.099331 \r\nL 310.120579 104.058033 \r\nL 340.095785 99.657277 \r\nL 370.070992 153.57839 \r\nL 400.046198 162.867273 \r\n\" style=\"fill:none;stroke:#1f77b4;stroke-linecap:square;stroke-width:2;\"/>\r\n   </g>\r\n   <g id=\"patch_8\">\r\n    <path d=\"M 242.676364 170.28 \r\nL 242.676364 7.2 \r\n\" style=\"fill:none;stroke:#000000;stroke-linecap:square;stroke-linejoin:miter;stroke-width:1.2;\"/>\r\n   </g>\r\n   <g id=\"patch_9\">\r\n    <path d=\"M 407.54 170.28 \r\nL 407.54 7.2 \r\n\" style=\"fill:none;stroke:#000000;stroke-linecap:square;stroke-linejoin:miter;stroke-width:1.2;\"/>\r\n   </g>\r\n   <g id=\"patch_10\">\r\n    <path d=\"M 242.676364 170.28 \r\nL 407.54 170.28 \r\n\" style=\"fill:none;stroke:#000000;stroke-linecap:square;stroke-linejoin:miter;stroke-width:1.2;\"/>\r\n   </g>\r\n   <g id=\"patch_11\">\r\n    <path d=\"M 242.676364 7.2 \r\nL 407.54 7.2 \r\n\" style=\"fill:none;stroke:#000000;stroke-linecap:square;stroke-linejoin:miter;stroke-width:1.2;\"/>\r\n   </g>\r\n  </g>\r\n </g>\r\n <defs>\r\n  <clipPath id=\"pf799e42bea\">\r\n   <rect height=\"163.08\" width=\"164.863636\" x=\"44.84\" y=\"7.2\"/>\r\n  </clipPath>\r\n  <clipPath id=\"p8e50329fb2\">\r\n   <rect height=\"163.08\" width=\"164.863636\" x=\"242.676364\" y=\"7.2\"/>\r\n  </clipPath>\r\n </defs>\r\n</svg>\r\n",
      "image/png": "[encoded data removed]"
     },
     "metadata": {}
    }
   ],
   "source": [
    "import matplotlib.pyplot as plt\n",
    "\n",
    "plt.rcParams['font.family'] = 'serif'\n",
    "plt.rcParams['font.serif'] = ['Palatino'] + plt.rcParams['font.serif']\n",
    "plt.rc('axes', linewidth=1.2)\n",
    "plt.rc('xtick', labelsize=8)\n",
    "plt.rc('ytick', labelsize=8)\n",
    "plt.rc('axes', labelsize=8)\n",
    "plt.tight_layout()\n",
    "\n",
    "params = [3,6,9,12,15,18]\n",
    "cnots = [44 * x/3 for x in params]\n",
    "es = [-3.15868112, -3.17829569, -3.34065549, -3.34057843, -3.3408433, -3.3408455]\n",
    "E = -3.34084762 \n",
    "diff = [abs(E - x) for x in es]\n",
    "\n",
    "fig, ax = plt.subplots(1, 2, figsize=(6.5, 3))\n",
    "\n",
    "ax[0].plot(params, diff, linewidth=2)\n",
    "ax[0].set_yscale('log')\n",
    "ax[0].set_ylabel('$E_{VQE} - E_{exact}$')\n",
    "ax[0].set_xlabel('Variational parameters')\n",
    "\n",
    "ax[1].plot(cnots, diff, linewidth=2)\n",
    "ax[1].set_yscale('log')\n",
    "ax[1].set_xlabel('CNOTS')\n",
    "\n",
    "plt.savefig('converge.png', dpi=300, transparent=False, bbox_inches='tight')"
   ]
  },
  {
   "cell_type": "code",
   "execution_count": 21,
   "metadata": {},
   "outputs": [
    {
     "output_type": "execute_result",
     "data": {
      "text/plain": [
       "[0.18216650000000012,\n",
       " 0.1625519299999998,\n",
       " 0.00019212999999984604,\n",
       " 0.00026919000000003024,\n",
       " 4.319999999946589e-06,\n",
       " 2.1199999999943486e-06,\n",
       " 4.160000000030806e-06]"
      ]
     },
     "metadata": {},
     "execution_count": 21
    }
   ],
   "source": [
    "diff"
   ]
  },
  {
   "cell_type": "code",
   "execution_count": 19,
   "metadata": {},
   "outputs": [],
   "source": [
    "symbols = [sympy.Symbol('p{}'.format(i)) for i in range(3)]\n",
    "\n",
    "def expectation(x):\n",
    "    \"\"\"\n",
    "    Expectation value for parameters, x\n",
    "    \"\"\"\n",
    "    c = var_ansatz(symbols)\n",
    "    resolver = cirq.ParamResolver({'p{}'.format(i):x[i] for i in range(3)})\n",
    "    resolved_c = cirq.resolve_parameters(c, resolver)\n",
    "    res = QulacsSimulatorGpu().simulate(resolved_c)\n",
    "    return hamiltonian.expectation_from_wavefunction(res._final_simulator_state, qb_map).real\n",
    "\n",
    "def scipy_minimize(x):\n",
    "    \"\"\"\n",
    "    Minimizes expectation value using parameters found in greedy search as starting point\n",
    "    Powell's conjugate direction method\n",
    "    \"\"\"\n",
    "    return minimize(expectation, x, method='Powell')\n",
    "\n",
    "def greedy_noisy_search(initial_state):\n",
    "    \"\"\"\n",
    "    Slightly perturb the values of the points, accepting whenever this results in a lower energy\n",
    "    Total of 150 evaulations of the energy\n",
    "    Change step size after 30 evaluations based on number of acceptances in previous trial group\n",
    "    \"\"\"\n",
    "    params = initial_state\n",
    "    min_energy = expectation(initial_state)\n",
    "\n",
    "    def random_point(dim, step):\n",
    "        \"\"\"\n",
    "        Generates a random point on the perimeter of a circle with radius, step\n",
    "        \"\"\"\n",
    "        coords = [random.gauss(0, 1) for i in range(dim)]\n",
    "        norm = math.sqrt(sum([i**2 for i in coords]))\n",
    "        coords = [(i / norm) * step for i in coords]\n",
    "        return coords\n",
    "\n",
    "    step = 0.1\n",
    "    acceptances = 0\n",
    "\n",
    "    # Five groups of 30 trials\n",
    "    for i in range(5):\n",
    "        acceptances = 0\n",
    "        for j in range(30):\n",
    "            \n",
    "            # Slightly perturb the values of the points\n",
    "            coords = random_point(len(initial_state), step)\n",
    "            temp_params = [sum(x) for x in zip(params, coords)]\n",
    "            \n",
    "            # Calculate expectation value with new parameters\n",
    "            temp_energy = expectation(temp_params)\n",
    "            \n",
    "            # Greedily accept parameters that result in lower energy\n",
    "            if (temp_energy < min_energy):\n",
    "                min_energy = temp_energy\n",
    "                params = temp_params\n",
    "                acceptances += 1\n",
    "        # Update step size\n",
    "        step *= (acceptances / 15)\n",
    "\n",
    "    return {'x': params, 'energy': min_energy, 'step': step}\n",
    "\n",
    "def global_variational(initial_params=[]):\n",
    "    \"\"\"\n",
    "    Complete a round of greedy and Powell's optimization for six randomly chosen points\n",
    "    Further optimizes the best point\n",
    "    \"\"\"\n",
    "    points = [np.random.rand(3)*0.5 for i in range(6)]\n",
    "    greedy_results = [greedy_noisy_search(x) for x in points]\n",
    "    print(\"Done with greedy search\")\n",
    "    # change it to only optimize the lowest three energies\n",
    "    # results = [scipy_minimize(i['x']) for i in sorted(greedy_results, key=lambda x:x['x'])[:5]]\n",
    "    results = [scipy_minimize(i['x']) for i in greedy_results]\n",
    "    print(\"Done with Powell's\")\n",
    "    res = min(results, key=lambda x:x.fun)\n",
    "    print(res)\n",
    "    # For the chosen point, we continue optimizing until we cannot find improvement\n",
    "    res_copy = res\n",
    "    energy = res_copy.fun\n",
    "    while (True):\n",
    "        result = greedy_noisy_search(res_copy.x)\n",
    "        temp_res = scipy_minimize(result['x'])\n",
    "        temp_energy = temp_res.fun\n",
    "        print(temp_energy)\n",
    "\n",
    "        # Optimizing will usually find an energy ~1e-6 lower\n",
    "        # Stop it eventually\n",
    "        tolerance = 0.01\n",
    "        if (abs(temp_energy - energy) > tolerance):\n",
    "            res_copy = temp_res\n",
    "            energy = temp_energy\n",
    "        else:\n",
    "            break\n",
    "    return res_copy"
   ]
  },
  {
   "cell_type": "code",
   "execution_count": 20,
   "metadata": {
    "tags": []
   },
   "outputs": [
    {
     "output_type": "stream",
     "name": "stdout",
     "text": "Done with greedy search\nDone with Powell's\n   direc: array([[-0.49553824,  0.00926581, -0.00590371],\n       [-0.4242824 ,  0.03369534,  0.02649956],\n       [-0.32769075,  0.00294815,  0.00694866]])\n     fun: array(-3.15853231)\n message: 'Optimization terminated successfully.'\n    nfev: 232\n     nit: 6\n  status: 0\n success: True\n       x: array([-2.92331396,  0.70766059, -0.06968298])\n-3.1586708193334303\n   direc: array([[-0.49553824,  0.00926581, -0.00590371],\n       [-0.4242824 ,  0.03369534,  0.02649956],\n       [-0.32769075,  0.00294815,  0.00694866]])\n     fun: array(-3.15853231)\n message: 'Optimization terminated successfully.'\n    nfev: 232\n     nit: 6\n  status: 0\n success: True\n       x: array([-2.92331396,  0.70766059, -0.06968298])\n"
    }
   ],
   "source": [
    "res = global_variational()\n",
    "print(res)"
   ]
  },
  {
   "cell_type": "code",
   "execution_count": null,
   "metadata": {},
   "outputs": [],
   "source": []
  }
 ],
 "metadata": {
  "kernelspec": {
   "display_name": "Python 3",
   "language": "python",
   "name": "python3"
  },
  "language_info": {
   "codemirror_mode": {
    "name": "ipython",
    "version": 3
   },
   "file_extension": ".py",
   "mimetype": "text/x-python",
   "name": "python",
   "nbconvert_exporter": "python",
   "pygments_lexer": "ipython3",
   "version": "3.6.7-final"
  }
 },
 "nbformat": 4,
 "nbformat_minor": 4
}