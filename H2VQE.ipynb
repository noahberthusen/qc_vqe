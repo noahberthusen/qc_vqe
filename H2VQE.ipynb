{
 "cells": [
  {
   "cell_type": "code",
   "execution_count": 1,
   "metadata": {},
   "outputs": [],
   "source": [
    "from pyquil import Program, get_qc\n",
    "from pyquil.gates import *\n",
    "import pyquil.api as api\n",
    "from pyquil.paulis import *\n",
    "import numpy as np\n",
    "import math"
   ]
  },
  {
   "cell_type": "code",
   "execution_count": 2,
   "metadata": {},
   "outputs": [],
   "source": [
    "qvm = api.QVMConnection()"
   ]
  },
  {
   "cell_type": "markdown",
   "metadata": {},
   "source": [
    "Let us order the basis as follows: |0, up; 1, up; 0, down; 1, down>. This reduces the number of Jordan-Wigner strings needed as spin is conserved in a hopping process. We create the ground state of the non-interacting model in the function: gs_U_0"
   ]
  },
  {
   "cell_type": "code",
   "execution_count": 10,
   "metadata": {},
   "outputs": [
    {
     "name": "stdout",
     "output_type": "stream",
     "text": [
      "(-0.5+0j)*X0*X1 + (-0.5+0j)*X2*X3 + (-0.5+0j)*Y0*Y1 + (-0.5+0j)*Y2*Y3 + (2.25+0j)*I + (-1.25+0j)*Z0 + (-1.25+0j)*Z2 + (0.25+0j)*Z0*Z2\n"
     ]
    }
   ],
   "source": [
    "# hopping term: a_p^dagger a_q\n",
    "t = 1\n",
    "hamt = (-t / 2) * (sX(0)*sX(1) + sX(2)*sX(3) + sY(0)*sY(1) + sY(2)*sY(3))\n",
    "\n",
    "# interaction term: a_p^dagger a_q^dagger a_q a_p\n",
    "U1 = 1\n",
    "U2 = 0\n",
    "hamU = (U1 / 4) * (sI(3) - sZ(0) - sZ(2) + sZ(0)*sZ(2))\n",
    "hamU += (U2 / 4) * (sI(0) - sZ(1) - sZ(3) + sZ(1)*sZ(3))\n",
    "\n",
    "# number term: a_p^dagger a_p\n",
    "e1 = 2\n",
    "e2 = 0\n",
    "hame = (e1 / 2) * (2*sI() - sZ(0) - sZ(2))\n",
    "hame += (e2 / 2) * (2*sI() - sZ(1) - sZ(3))\n",
    "\n",
    "hamiltonian = hamt + hamU + hame\n",
    "print(hamiltonian)"
   ]
  },
  {
   "cell_type": "code",
   "execution_count": 11,
   "metadata": {},
   "outputs": [],
   "source": [
    "from grove.pyvqe.vqe import VQE\n",
    "from scipy.optimize import minimize\n",
    "import numpy as np\n",
    "\n",
    "vqe_inst = VQE(minimizer=minimize, minimizer_kwargs={'method': 'nelder-mead'})"
   ]
  },
  {
   "cell_type": "code",
   "execution_count": 12,
   "metadata": {},
   "outputs": [
    {
     "data": {
      "text/plain": [
       "array([-0.81082103, -0.41421356, -0.41421356,  0.        ,  1.69722436,\n",
       "        1.69722436,  2.        ,  2.        ,  2.        ,  2.19688678,\n",
       "        2.41421356,  2.41421356,  5.        ,  5.30277564,  5.30277564,\n",
       "        5.61393425])"
      ]
     },
     "execution_count": 12,
     "metadata": {},
     "output_type": "execute_result"
    }
   ],
   "source": [
    "from qucochemistry.utils import pyquilpauli_to_qubitop\n",
    "from openfermion.transforms import get_sparse_operator\n",
    "h = get_sparse_operator(pyquilpauli_to_qubitop(hamiltonian))\n",
    "np.savetxt('h.txt', np.real(h.todense()), '%-2d', ', ')\n",
    "if h.shape[0] > 1024:\n",
    "    [w, _] = sp.sparse.linalg.eigsh(h, k=1)\n",
    "else:\n",
    "    [w, _] = np.linalg.eigh(h.todense())\n",
    "w"
   ]
  },
  {
   "cell_type": "markdown",
   "metadata": {},
   "source": [
    "Let us now find this state using VQE. For this, we prepare the initial state within the sector |Sz=0, N=2> (total Sz and total number of particles being 0 and 2, respectively. For example, we can pick the state |1001>. This corresponds to an up particle on site 0 and a down particle on site 1. Later, we can pick the state |1010>, which correponds to both particles being at site 1. This is not connected to the four states that make up the ground state (in an equal superposition) by the hopping Hamiltonian, so we want to see whether we can still find the GS using Hamiltonian VQE."
   ]
  },
  {
   "cell_type": "code",
   "execution_count": 15,
   "metadata": {},
   "outputs": [],
   "source": [
    "def var_ansatz(params):\n",
    "    S = 2\n",
    "    p = Program()\n",
    "    \n",
    "    # put initial state in the sector\n",
    "    \n",
    "    # Product state -- 1/sqrt(2) (|1001> + |0110>)\n",
    "    p.inst(H(0))\n",
    "    p.inst(CNOT(0, 1))\n",
    "    p.inst(CNOT(1, 2))\n",
    "    p.inst(X(1))\n",
    "    p.inst(CNOT(2, 3))\n",
    "    p.inst(X(2))\n",
    "    \n",
    "    # |1001>\n",
    "    #p.inst(X(0))\n",
    "    #p.inst(X(3))\n",
    "    \n",
    "    # HF state -- 1/2 (|0101> + |0110> + |1001> + |1010>)\n",
    "    \"\"\"\n",
    "    p.inst(H(0))\n",
    "    p.inst(H(2))\n",
    "    p.inst(CNOT(0, 1))\n",
    "    p.inst(CNOT(2, 3))\n",
    "    p.inst(X(0))\n",
    "    p.inst(X(2))\n",
    "    \"\"\"   \n",
    "    for i in range(S):\n",
    "        # building U_u\n",
    "        p.inst(RZ(U1*params[3*i]/4, 0))\n",
    "        p.inst(RZ(U2*params[3*i]/4, 1))\n",
    "        p.inst(RZ(U1*params[3*i]/4, 2))\n",
    "        p.inst(RZ(U2*params[3*i]/4, 3))\n",
    "        p.inst(CNOT(0, 2))\n",
    "        p.inst(RZ(-U1*params[3*i]/4, 2))\n",
    "        p.inst(CNOT(0, 2))\n",
    "        p.inst(CNOT(1, 3))\n",
    "        p.inst(RZ(-U2*params[3*i]/4, 3))\n",
    "        p.inst(CNOT(1, 3))\n",
    "        \n",
    "        #building U_\\epsilon\n",
    "        p.inst(RZ(e2*params[3*i+2], 1))\n",
    "        p.inst(RZ(e2*params[3*i+2], 3))\n",
    "        p.inst(RZ(e1*params[3*i+2], 0))\n",
    "        p.inst(RZ(e1*params[3*i+2], 2))\n",
    "        \n",
    "        # building U_t\n",
    "        p.inst(H(0))\n",
    "        p.inst(H(1))\n",
    "        p.inst(H(2))\n",
    "        p.inst(H(3))\n",
    "        p.inst(CNOT(0, 1))\n",
    "        p.inst(CNOT(2, 3))\n",
    "        p.inst(RZ(params[3*i+1], 1))\n",
    "        p.inst(RZ(params[3*i+1], 3))\n",
    "        p.inst(CNOT(0, 1))\n",
    "        p.inst(CNOT(2, 3))\n",
    "        p.inst(H(0))\n",
    "        p.inst(H(1))\n",
    "        p.inst(H(2))\n",
    "        p.inst(H(3))\n",
    "        p.inst(RX(-np.pi/2, 0))\n",
    "        p.inst(RX(-np.pi/2, 1))\n",
    "        p.inst(RX(-np.pi/2, 2))\n",
    "        p.inst(RX(-np.pi/2, 3))\n",
    "        p.inst(CNOT(0, 1))\n",
    "        p.inst(CNOT(2, 3))\n",
    "        p.inst(RZ(params[3*i+1], 1))\n",
    "        p.inst(RZ(params[3*i+1], 3))\n",
    "        p.inst(CNOT(0, 1))\n",
    "        p.inst(CNOT(2, 3))\n",
    "        p.inst(RX(-np.pi/2, 0))\n",
    "        p.inst(RX(-np.pi/2, 1))\n",
    "        p.inst(RX(-np.pi/2, 2))\n",
    "        p.inst(RX(-np.pi/2, 3))\n",
    "        \n",
    "        # building U_u\n",
    "        p.inst(RZ(U1*params[3*i]/4, 0))\n",
    "        p.inst(RZ(U2*params[3*i]/4, 1))\n",
    "        p.inst(RZ(U1*params[3*i]/4, 2))\n",
    "        p.inst(RZ(U2*params[3*i]/4, 3))\n",
    "        p.inst(CNOT(0, 2))\n",
    "        p.inst(RZ(-U1*params[3*i]/4, 2))\n",
    "        p.inst(CNOT(0, 2))\n",
    "        p.inst(CNOT(1, 3))\n",
    "        p.inst(RZ(-U2*params[3*i]/4, 3))\n",
    "        p.inst(CNOT(1, 3))\n",
    "        \n",
    "    return p"
   ]
  },
  {
   "cell_type": "code",
   "execution_count": 16,
   "metadata": {},
   "outputs": [],
   "source": [
    "#initial angle\n",
    "#initial_params = np.zeros(6)\n",
    "#result = vqe_inst.vqe_run(var_ansatz, hamiltonian, initial_params, None, qvm=qvm)\n",
    "#result"
   ]
  },
  {
   "cell_type": "code",
   "execution_count": 17,
   "metadata": {},
   "outputs": [],
   "source": [
    "from scipy.optimize import minimize\n",
    "import random\n",
    "\n",
    "def expectation(x):\n",
    "    \"\"\"\n",
    "    Expectation value for parameters, x\n",
    "    \"\"\"\n",
    "    return vqe_inst.expectation(var_ansatz(x), hamiltonian, None, qvm)\n",
    "\n",
    "def scipy_minimize(x):\n",
    "    \"\"\"\n",
    "    Minimizes expectation value using parameters found in greedy search as starting point\n",
    "    Powell's conjugate direction method\n",
    "    \"\"\"\n",
    "    return minimize(expectation, x, method='powell')\n",
    "\n",
    "def greedy_noisy_search(initial_state):\n",
    "    \"\"\"\n",
    "    Slightly perturb the values of the points, accepting whenever this results in a lower energy\n",
    "    Total of 150 evaulations of the energy\n",
    "    Change step size after 30 evaluations based on number of acceptances in previous trial group\n",
    "    \"\"\"\n",
    "    params = initial_state\n",
    "    min_energy = vqe_inst.expectation(var_ansatz(initial_state), hamiltonian, None, qvm)\n",
    "\n",
    "    def random_point(dim, step):\n",
    "        \"\"\"\n",
    "        Generates a random point on the perimeter of a circle with radius, step\n",
    "        \"\"\"\n",
    "        coords = [random.gauss(0, 1) for i in range(dim)]\n",
    "        norm = math.sqrt(sum([i**2 for i in coords]))\n",
    "        coords = [(i / norm) * step for i in coords]\n",
    "        return coords\n",
    "\n",
    "    step = 0.1\n",
    "    acceptances = 0\n",
    "\n",
    "    # Five groups of 30 trials\n",
    "    for i in range(5):\n",
    "        acceptances = 0\n",
    "        for j in range(30):\n",
    "            \n",
    "            # Slightly perturb the values of the points\n",
    "            coords = random_point(len(initial_state), step)\n",
    "            temp_params = [sum(x) for x in zip(params, coords)]\n",
    "            \n",
    "            # Calculate expectation value with new parameters\n",
    "            temp_energy = vqe_inst.expectation(var_ansatz(temp_params), hamiltonian, None, qvm)\n",
    "            \n",
    "            # Greedily accept parameters that result in lower energy\n",
    "            if (temp_energy < min_energy):\n",
    "                min_energy = temp_energy\n",
    "                params = temp_params\n",
    "                acceptances += 1\n",
    "        # Update step size\n",
    "        step *= (acceptances / 15)\n",
    "\n",
    "    return {'x': params, 'energy': min_energy, 'step': step}\n",
    "\n",
    "def global_variational(S):\n",
    "    \"\"\"\n",
    "    Complete a round of greedy and Powell's optimization for six randomly chosen points\n",
    "    Further optimizes the best point\n",
    "    \"\"\"    \n",
    "    points = [np.random.rand(S*3)*0.2 for i in range(6)]\n",
    "    greedy_results = [greedy_noisy_search(x) for x in points]\n",
    "    print(\"Done with greedy search\")\n",
    "    results = [scipy_minimize(i['x']) for i in greedy_results]\n",
    "    print(\"Done with Powell's\")\n",
    "    res = min(results, key=lambda x:x.fun)\n",
    "    print(res)\n",
    "    # For the chosen point, we continue optimizing until we cannot find improvement\n",
    "    res_copy = res\n",
    "    energy = res_copy.fun\n",
    "    while (True):\n",
    "        result = greedy_noisy_search(res_copy.x)\n",
    "        temp_res = scipy_minimize(result['x'])\n",
    "        temp_energy = temp_res.fun\n",
    "        print(temp_energy)\n",
    "\n",
    "        # Optimizing will usually find an energy ~1e-6 lower\n",
    "        # Stop it eventually\n",
    "        tolerance = 0.00001\n",
    "        if (abs(temp_energy - energy) > tolerance):\n",
    "            res_copy = temp_res\n",
    "            energy = temp_energy\n",
    "        else:\n",
    "            break\n",
    "    return res_copy"
   ]
  },
  {
   "cell_type": "code",
   "execution_count": 18,
   "metadata": {},
   "outputs": [
    {
     "name": "stdout",
     "output_type": "stream",
     "text": [
      "Done with greedy search\n",
      "Done with Powell's\n",
      "   direc: array([[ 8.40280784e-01,  4.67511713e-02, -1.79834286e-01,\n",
      "        -2.56765476e-02, -2.51732222e-02, -1.24536582e-01],\n",
      "       [ 0.00000000e+00,  1.00000000e+00,  0.00000000e+00,\n",
      "         0.00000000e+00,  0.00000000e+00,  0.00000000e+00],\n",
      "       [ 0.00000000e+00,  0.00000000e+00,  1.00000000e+00,\n",
      "         0.00000000e+00,  0.00000000e+00,  0.00000000e+00],\n",
      "       [ 0.00000000e+00,  0.00000000e+00,  0.00000000e+00,\n",
      "         1.00000000e+00,  0.00000000e+00,  0.00000000e+00],\n",
      "       [ 0.00000000e+00,  0.00000000e+00,  0.00000000e+00,\n",
      "         0.00000000e+00,  1.00000000e+00,  0.00000000e+00],\n",
      "       [ 2.71486285e-02, -1.87956720e-03,  3.01779925e-01,\n",
      "         2.96976778e-02, -9.62803701e-04, -1.57395192e-02]])\n",
      "     fun: array(-0.81082073)\n",
      " message: 'Optimization terminated successfully.'\n",
      "    nfev: 362\n",
      "     nit: 5\n",
      "  status: 0\n",
      " success: True\n",
      "       x: array([ 4.61926922,  0.43949439,  2.96444532,  2.36603482, -0.7320164 ,\n",
      "       -0.44460682])\n",
      "-0.8108209748465123\n",
      "   direc: array([[ 8.40280784e-01,  4.67511713e-02, -1.79834286e-01,\n",
      "        -2.56765476e-02, -2.51732222e-02, -1.24536582e-01],\n",
      "       [ 0.00000000e+00,  1.00000000e+00,  0.00000000e+00,\n",
      "         0.00000000e+00,  0.00000000e+00,  0.00000000e+00],\n",
      "       [ 0.00000000e+00,  0.00000000e+00,  1.00000000e+00,\n",
      "         0.00000000e+00,  0.00000000e+00,  0.00000000e+00],\n",
      "       [ 0.00000000e+00,  0.00000000e+00,  0.00000000e+00,\n",
      "         1.00000000e+00,  0.00000000e+00,  0.00000000e+00],\n",
      "       [ 0.00000000e+00,  0.00000000e+00,  0.00000000e+00,\n",
      "         0.00000000e+00,  1.00000000e+00,  0.00000000e+00],\n",
      "       [ 2.71486285e-02, -1.87956720e-03,  3.01779925e-01,\n",
      "         2.96976778e-02, -9.62803701e-04, -1.57395192e-02]])\n",
      "     fun: array(-0.81082073)\n",
      " message: 'Optimization terminated successfully.'\n",
      "    nfev: 362\n",
      "     nit: 5\n",
      "  status: 0\n",
      " success: True\n",
      "       x: array([ 4.61926922,  0.43949439,  2.96444532,  2.36603482, -0.7320164 ,\n",
      "       -0.44460682])\n"
     ]
    }
   ],
   "source": [
    "# make sure to change this S to match the one in the ansatz\n",
    "S = 2\n",
    "res = global_variational(S)\n",
    "print(res)"
   ]
  },
  {
   "cell_type": "code",
   "execution_count": 65,
   "metadata": {},
   "outputs": [],
   "source": [
    "def op(s1, s2):\n",
    "    # returns a PauliSum representing a_s1^daggar a_s2\n",
    "    def sigma_plus(s):\n",
    "        # returns sigma^+ operator on side s\n",
    "        # sigma^+ = 1/2(X + iY)\n",
    "        return PauliTerm('X', s, 0.5) + PauliTerm('Y', s, complex(0.0+0.5j))\n",
    "    def sigma_minus(s):\n",
    "        # returns sigma^- operator on side s\n",
    "        # sigma^- = 1/2(X - iY)\n",
    "        return PauliTerm('X', s, 0.5) - PauliTerm('Y', s, complex(0.0+0.5j))\n",
    "    \n",
    "    # for all sites in between site one (s1) and site two (s2), multiply by sigma z\n",
    "    z = sI()\n",
    "    for i in range(s1+1, s2):\n",
    "        z *= PauliTerm('Z', i)\n",
    "        \n",
    "    return sigma_minus(s1) * z * sigma_plus(s2)"
   ]
  },
  {
   "cell_type": "code",
   "execution_count": 66,
   "metadata": {},
   "outputs": [],
   "source": [
    "# building the single particle density matrix (spdm) \n",
    "spdm = np.zeros((4,4))\n",
    "for i in range(4):\n",
    "    for k in range(4):\n",
    "        # building an operator and vqe for each i, j        \n",
    "        # element (j, i) in the spdm is a_i^dagger a_j\n",
    "        spdm[k, i] = vqe_inst.expectation(var_ansatz(result.x), op(i, k), None, qvm)"
   ]
  },
  {
   "cell_type": "code",
   "execution_count": 67,
   "metadata": {},
   "outputs": [
    {
     "name": "stdout",
     "output_type": "stream",
     "text": [
      "[[ 0.4   0.49 -0.   -0.  ]\n",
      " [ 0.49  0.6  -0.   -0.  ]\n",
      " [ 0.   -0.    0.4   0.49]\n",
      " [ 0.   -0.    0.49  0.6 ]]\n"
     ]
    }
   ],
   "source": [
    "print(np.around(spdm, decimals=2))"
   ]
  }
 ],
 "metadata": {
  "kernelspec": {
   "display_name": "Python 3",
   "language": "python",
   "name": "python3"
  },
  "language_info": {
   "codemirror_mode": {
    "name": "ipython",
    "version": 3
   },
   "file_extension": ".py",
   "mimetype": "text/x-python",
   "name": "python",
   "nbconvert_exporter": "python",
   "pygments_lexer": "ipython3",
   "version": "3.7.3"
  }
 },
 "nbformat": 4,
 "nbformat_minor": 4
}
