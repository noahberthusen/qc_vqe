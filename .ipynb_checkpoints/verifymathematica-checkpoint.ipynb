{
 "cells": [
  {
   "cell_type": "code",
   "execution_count": 19,
   "metadata": {},
   "outputs": [],
   "source": [
    "from pyquil import Program, get_qc\n",
    "from pyquil.gates import *\n",
    "import pyquil.api as api\n",
    "from pyquil.paulis import *\n",
    "import numpy as np\n",
    "import math"
   ]
  },
  {
   "cell_type": "code",
   "execution_count": 25,
   "metadata": {},
   "outputs": [
    {
     "data": {
      "text/plain": [
       "pyquil.api._quantum_computer.QuantumComputer"
      ]
     },
     "execution_count": 25,
     "metadata": {},
     "output_type": "execute_result"
    }
   ],
   "source": [
    "qvm = api.QVMConnection()"
   ]
  },
  {
   "cell_type": "markdown",
   "metadata": {},
   "source": [
    "Let us order the basis as follows: |0, up; 1, up; 0, down; 1, down>. This reduces the number of Jordan-Wigner strings needed as spin is conserved in a hopping process. We create the ground state of the non-interacting model in the function: gs_U_0"
   ]
  },
  {
   "cell_type": "code",
   "execution_count": 122,
   "metadata": {},
   "outputs": [
    {
     "name": "stdout",
     "output_type": "stream",
     "text": [
      "(-0.5+0j)*X0*X1 + (-0.5+0j)*X2*X3 + (-0.5+0j)*Y0*Y1 + (-0.5+0j)*Y2*Y3\n"
     ]
    }
   ],
   "source": [
    "# hopping term: a_p^dagger a_q\n",
    "t = 1\n",
    "hamt = (-t / 2) * (sX(0)*sX(1) + sX(2)*sX(3) + sY(0)*sY(1) + sY(2)*sY(3))\n",
    "\n",
    "# interaction term: a_p^dagger a_q^dagger a_q a_p\n",
    "U1 = 0\n",
    "U2 = 0\n",
    "hamU = (U1 / 4) * (sI(3) - sZ(0) - sZ(2) + sZ(0)*sZ(2))\n",
    "hamU += (U2 / 4) * (sI(0) - sZ(1) - sZ(3) + sZ(1)*sZ(3))\n",
    "\n",
    "# number term: a_p^dagger a_p\n",
    "e0 = 0\n",
    "e1 = 0\n",
    "hame = (e0 / 2) * (2*sI() - sZ(0) - sZ(2))\n",
    "hame += (e1 / 2) * (2*sI() - sZ(1) - sZ(3))\n",
    "\n",
    "hamiltonian = hamt + hamU + hame\n",
    "print(hamiltonian)"
   ]
  },
  {
   "cell_type": "code",
   "execution_count": 123,
   "metadata": {},
   "outputs": [],
   "source": [
    "from grove.pyvqe.vqe import VQE\n",
    "from scipy.optimize import minimize\n",
    "import numpy as np\n",
    "\n",
    "vqe_inst = VQE(minimizer=minimize, minimizer_kwargs={'method': 'nelder-mead'})"
   ]
  },
  {
   "cell_type": "markdown",
   "metadata": {},
   "source": [
    "Let us now find this state using VQE. For this, we prepare the initial state within the sector |Sz=0, N=2> (total Sz and total number of particles being 0 and 2, respectively. For example, we can pick the state |1001>. This corresponds to an up particle on site 0 and a down particle on site 1. Later, we can pick the state |1010>, which correponds to both particles being at site 1. This is not connected to the four states that make up the ground state (in an equal superposition) by the hopping Hamiltonian, so we want to see whether we can still find the GS using Hamiltonian VQE."
   ]
  },
  {
   "cell_type": "code",
   "execution_count": 128,
   "metadata": {},
   "outputs": [],
   "source": [
    "def var_ansatz(params):\n",
    "    S = 1\n",
    "    p = Program()\n",
    "    \n",
    "    # put initial state in the sector\n",
    "    \n",
    "    #p.inst(H(0))\n",
    "    #p.inst(CNOT(0, 1))\n",
    "    #p.inst(CNOT(1, 2))\n",
    "    #p.inst(X(1))\n",
    "    #p.inst(CNOT(2, 3))\n",
    "    #p.inst(X(2))\n",
    "    \n",
    "    p.inst(X(0))\n",
    "    p.inst(X(3))\n",
    "    \n",
    "    #p.inst(H(0))\n",
    "    #p.inst(H(2))\n",
    "    #p.inst(CNOT(0, 1))\n",
    "    #p.inst(CNOT(2, 3))\n",
    "    #p.inst(X(0))\n",
    "    #p.inst(X(2))\n",
    "        \n",
    "    for i in range(S):\n",
    "        # building U_u\n",
    "        p += U_ansatz(2, params[2*i])\n",
    "        \"\"\"\n",
    "        p.inst(RZ(U1*params[2*i]/4, 0))\n",
    "        p.inst(RZ(U2*params[2*i]/4, 1))\n",
    "        p.inst(RZ(U1*params[2*i]/4, 2))\n",
    "        p.inst(RZ(U2*params[2*i]/4, 3))\n",
    "        p.inst(CNOT(0, 2))\n",
    "        p.inst(RZ(-U1*params[2*i]/4, 2))\n",
    "        p.inst(CNOT(0, 2))\n",
    "        p.inst(CNOT(1, 3))\n",
    "        p.inst(RZ(-U2*params[2*i]/4, 3))\n",
    "        p.inst(CNOT(1, 3))\n",
    "        \"\"\"\n",
    "        \n",
    "        # building U_t\n",
    "        p += t_ansatz(0, 1, params[2*i+1])\n",
    "        p += t_ansatz(2, 3, params[2*i+1])\n",
    "        \"\"\"\n",
    "        p.inst(H(0))\n",
    "        p.inst(H(1))\n",
    "        p.inst(H(2))\n",
    "        p.inst(H(3))\n",
    "        p.inst(CNOT(0, 1))\n",
    "        p.inst(CNOT(2, 3))\n",
    "        p.inst(RZ(params[2*i+1], 1))\n",
    "        p.inst(RZ(params[2*i+1], 3))\n",
    "        p.inst(CNOT(0, 1))\n",
    "        p.inst(CNOT(2, 3))\n",
    "        p.inst(H(0))\n",
    "        p.inst(H(1))\n",
    "        p.inst(H(2))\n",
    "        p.inst(H(3))\n",
    "        p.inst(RX(-np.pi/2, 0))\n",
    "        p.inst(RX(-np.pi/2, 1))\n",
    "        p.inst(RX(-np.pi/2, 2))\n",
    "        p.inst(RX(-np.pi/2, 3))\n",
    "        p.inst(CNOT(0, 1))\n",
    "        p.inst(CNOT(2, 3))\n",
    "        p.inst(RZ(params[2*i+1], 1))\n",
    "        p.inst(RZ(params[2*i+1], 3))\n",
    "        p.inst(CNOT(0, 1))\n",
    "        p.inst(CNOT(2, 3))\n",
    "        p.inst(RX(-np.pi/2, 0))\n",
    "        p.inst(RX(-np.pi/2, 1))\n",
    "        p.inst(RX(-np.pi/2, 2))\n",
    "        p.inst(RX(-np.pi/2, 3))\n",
    "        \"\"\"\n",
    "        \n",
    "        # building U_u\n",
    "        p += U_ansatz(2, params[2*i])\n",
    "        \"\"\"\n",
    "        p.inst(RZ(U1*params[2*i]/4, 0))\n",
    "        p.inst(RZ(U2*params[2*i]/4, 1))\n",
    "        p.inst(RZ(U1*params[2*i]/4, 2))\n",
    "        p.inst(RZ(U2*params[2*i]/4, 3))\n",
    "        p.inst(CNOT(0, 2))\n",
    "        p.inst(RZ(-U1*params[2*i]/4, 2))\n",
    "        p.inst(CNOT(0, 2))\n",
    "        p.inst(CNOT(1, 3))\n",
    "        p.inst(RZ(-U2*params[2*i]/4, 3))\n",
    "        p.inst(CNOT(1, 3))\n",
    "        \"\"\"\n",
    "    return p"
   ]
  },
  {
   "cell_type": "code",
   "execution_count": 129,
   "metadata": {},
   "outputs": [
    {
     "name": "stdout",
     "output_type": "stream",
     "text": [
      "WARNING: Fast method for expectation will be used. Noise\n",
      "                     models will be ineffective\n"
     ]
    },
    {
     "data": {
      "text/plain": [
       "{'x': array([3.14161481, 0.39270075]), 'fun': -0.9999999999164377}"
      ]
     },
     "execution_count": 129,
     "metadata": {},
     "output_type": "execute_result"
    }
   ],
   "source": [
    "#initial angle\n",
    "initial_params = np.zeros(2)\n",
    "result = vqe_inst.vqe_run(var_ansatz, hamiltonian, initial_params, None, qvm=qvm)\n",
    "result"
   ]
  },
  {
   "cell_type": "code",
   "execution_count": 79,
   "metadata": {},
   "outputs": [],
   "source": [
    "def U_ansatz(n, param):\n",
    "    p = Program()\n",
    "    \n",
    "    for i in range(n):\n",
    "        p.inst(RZ(param/4, i))\n",
    "        p.inst(RZ(param/4, i+n))\n",
    "        p.inst(CNOT(i, i+n))\n",
    "        p.inst(RZ(-param/4, i+n))\n",
    "        p.inst(CNOT(i, i+n))\n",
    "        \n",
    "    return p"
   ]
  },
  {
   "cell_type": "code",
   "execution_count": 119,
   "metadata": {},
   "outputs": [],
   "source": [
    "def t_ansatz(s1, s2, param):\n",
    "    p = Program()\n",
    "    \n",
    "    for i in range(s1+1, s2):\n",
    "        if (i == s2-1):\n",
    "            p.inst(CZ(i, i+1))\n",
    "        else:\n",
    "            p.inst(CNOT(i, i+1))\n",
    "    \n",
    "    p.inst(H(s1))\n",
    "    p.inst(H(s2))\n",
    "    p.inst(CNOT(s1, s2))\n",
    "    p.inst(RZ(param, s2))\n",
    "    p.inst(CNOT(s1, s2))\n",
    "    p.inst(H(s1))\n",
    "    p.inst(H(s2))\n",
    "    p.inst(RX(-np.pi/2, s1))\n",
    "    p.inst(RX(-np.pi/2, s2))\n",
    "    p.inst(CNOT(s1, s2))\n",
    "    p.inst(RZ(param, s2))\n",
    "    p.inst(CNOT(s1, s2))\n",
    "    p.inst(RX(-np.pi/2, s1))\n",
    "    p.inst(RX(-np.pi/2, s2))  \n",
    "    \n",
    "    for i in reversed(range(s1+1, s2)):\n",
    "        if (i == s2-1):\n",
    "            p.inst(CZ(i, i+1))\n",
    "        else:\n",
    "            p.inst(CNOT(i, i+1))\n",
    "    \n",
    "    return p"
   ]
  },
  {
   "cell_type": "code",
   "execution_count": 66,
   "metadata": {},
   "outputs": [
    {
     "data": {
      "text/plain": [
       "array([-4.23606798, -3.5       , -3.5       , -3.        , -3.        ,\n",
       "       -3.        , -2.5       , -2.5       , -2.        , -1.5       ,\n",
       "       -1.5       , -1.        , -0.5       , -0.5       ,  0.        ,\n",
       "        0.23606798])"
      ]
     },
     "execution_count": 66,
     "metadata": {},
     "output_type": "execute_result"
    }
   ],
   "source": [
    "from qucochemistry.utils import pyquilpauli_to_qubitop\n",
    "from openfermion.transforms import get_sparse_operator\n",
    "h = get_sparse_operator(pyquilpauli_to_qubitop(hamiltonian))\n",
    "np.savetxt('h.txt', np.real(h.todense()), '%-2d', ', ')\n",
    "if h.shape[0] > 1024:\n",
    "    [w, _] = sp.sparse.linalg.eigsh(h, k=1)\n",
    "else:\n",
    "    [w, _] = np.linalg.eigh(h.todense())\n",
    "w"
   ]
  },
  {
   "cell_type": "code",
   "execution_count": 11,
   "metadata": {},
   "outputs": [],
   "source": [
    "def op(s1, s2):\n",
    "    # returns a PauliSum representing a_s1^daggar a_s2\n",
    "    def sigma_plus(s):\n",
    "        # returns sigma^+ operator on side s\n",
    "        # sigma^+ = 1/2(X + iY)\n",
    "        return PauliTerm('X', s, 0.5) + PauliTerm('Y', s, complex(0.0+0.5j))\n",
    "    def sigma_minus(s):\n",
    "        # returns sigma^- operator on side s\n",
    "        # sigma^- = 1/2(X - iY)\n",
    "        return PauliTerm('X', s, 0.5) - PauliTerm('Y', s, complex(0.0+0.5j))\n",
    "    \n",
    "    # for all sites in between site one (s1) and site two (s2), multiply by sigma z\n",
    "    z = sI()\n",
    "    for i in range(s1+1, s2):\n",
    "        z *= PauliTerm('Z', i)\n",
    "        \n",
    "    return sigma_minus(s1) * z * sigma_plus(s2)"
   ]
  },
  {
   "cell_type": "code",
   "execution_count": 12,
   "metadata": {},
   "outputs": [],
   "source": [
    "# building the single particle density matrix (spdm) \n",
    "spdm = np.zeros((4,4))\n",
    "for i in range(4):\n",
    "    for k in range(4):\n",
    "        # building an operator and vqe for each i, j        \n",
    "        # element (j, i) in the spdm is a_i^dagger a_j\n",
    "        spdm[k, i] = vqe_inst.expectation(var_ansatz(result.x), op(i, k), None, qvm)"
   ]
  },
  {
   "cell_type": "code",
   "execution_count": 13,
   "metadata": {},
   "outputs": [
    {
     "name": "stdout",
     "output_type": "stream",
     "text": [
      "[[ 0.4   0.49 -0.   -0.  ]\n",
      " [ 0.49  0.6  -0.   -0.  ]\n",
      " [ 0.   -0.    0.4   0.49]\n",
      " [ 0.   -0.    0.49  0.6 ]]\n"
     ]
    }
   ],
   "source": [
    "print(np.around(spdm, decimals=2))"
   ]
  },
  {
   "cell_type": "code",
   "execution_count": null,
   "metadata": {},
   "outputs": [],
   "source": [
    "print(exponentiate_commuting_pauli_sum(hamU)(1.0))"
   ]
  },
  {
   "cell_type": "code",
   "execution_count": null,
   "metadata": {},
   "outputs": [],
   "source": []
  }
 ],
 "metadata": {
  "kernelspec": {
   "display_name": "Python 3",
   "language": "python",
   "name": "python3"
  },
  "language_info": {
   "codemirror_mode": {
    "name": "ipython",
    "version": 3
   },
   "file_extension": ".py",
   "mimetype": "text/x-python",
   "name": "python",
   "nbconvert_exporter": "python",
   "pygments_lexer": "ipython3",
   "version": "3.7.3"
  }
 },
 "nbformat": 4,
 "nbformat_minor": 4
}
