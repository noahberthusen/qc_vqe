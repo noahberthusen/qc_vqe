{
 "cells": [
  {
   "cell_type": "code",
   "execution_count": 1,
   "metadata": {},
   "outputs": [],
   "source": [
    "from pyquil import Program\n",
    "from pyquil.gates import *\n",
    "import pyquil.api as api\n",
    "from pyquil.paulis import *\n",
    "import numpy as np\n",
    "import math"
   ]
  },
  {
   "cell_type": "code",
   "execution_count": 2,
   "metadata": {},
   "outputs": [],
   "source": [
    "qvm = api.QVMConnection()"
   ]
  },
  {
   "cell_type": "markdown",
   "metadata": {},
   "source": [
    "Let us order the basis as follows: |0, up; 1, up; 0, down; 1, down>. This reduces the number of Jordan-Wigner strings needed as spin is conserved in a hopping process. We create the ground state of the non-interacting model in the function: gs_U_0"
   ]
  },
  {
   "cell_type": "code",
   "execution_count": 13,
   "metadata": {},
   "outputs": [
    {
     "name": "stdout",
     "output_type": "stream",
     "text": [
      "(1+0j)*I + (-0.5+0j)*Z0 + (-0.5+0j)*Z2 + (0.5+0j)*Z0*Z2 + (-0.5+0j)*Z1 + (-0.5+0j)*Z3 + (0.5+0j)*Z1*Z3 + (-0.5+0j)*X0*X1 + (-0.5+0j)*X2*X3 + (-0.5+0j)*Y0*Y1 + (-0.5+0j)*Y2*Y3\n"
     ]
    }
   ],
   "source": [
    "# hopping term: a_p^dagger a_q a_q^dagger a_p\n",
    "t = 1\n",
    "hamt = (-t / 2) * (sX(0)*sX(1) + sX(2)*sX(3) + sY(0)*sY(1) + sY(2)*sY(3))\n",
    "\n",
    "# interaction term: a_p^dagger a_q^dagger a_q a_p\n",
    "U1 = 2\n",
    "U2 = 2\n",
    "hamU = (U1 / 4) * (sI(3) - sZ(0) - sZ(2) + sZ(0)*sZ(2))\n",
    "hamU += (U2 / 4) * (sI(0) - sZ(1) - sZ(3) + sZ(1)*sZ(3))\n",
    "\n",
    "# number term: a_p^dagger a_p\n",
    "e0 = 0\n",
    "e1 = 0\n",
    "hame = (e0 / 2) * (sI() - sZ(0) - sZ(2))\n",
    "hame += (e1 / 2) * (sI() - sZ(1) - sZ(3))\n",
    "\n",
    "hamiltonian = hamU + hamt + hame\n",
    "print(hamiltonian)"
   ]
  },
  {
   "cell_type": "code",
   "execution_count": 12,
   "metadata": {},
   "outputs": [
    {
     "data": {
      "text/plain": [
       "array([-1.23606798e+00, -1.00000000e+00, -1.00000000e+00,  0.00000000e+00,\n",
       "        0.00000000e+00,  0.00000000e+00,  2.16255982e-16,  1.00000000e+00,\n",
       "        1.00000000e+00,  1.00000000e+00])"
      ]
     },
     "execution_count": 12,
     "metadata": {},
     "output_type": "execute_result"
    }
   ],
   "source": [
    "from qucochemistry.utils import pyquilpauli_to_qubitop\n",
    "from openfermion.transforms import get_sparse_operator\n",
    "\n",
    "# Use exact diagonalization on the qubit hamiltonian to get the ground state energy\n",
    "# It is sometimes not the lowest energy in the list below because we are restricted to the half filling sector\n",
    "h = get_sparse_operator(pyquilpauli_to_qubitop(hamiltonian))\n",
    "if h.shape[0] > 1024:\n",
    "    [w, _] = sp.sparse.linalg.eigsh(h, k=1)\n",
    "else:\n",
    "    [w, _] = np.linalg.eigh(h.todense())\n",
    "w[0:10]"
   ]
  },
  {
   "cell_type": "code",
   "execution_count": 8,
   "metadata": {},
   "outputs": [],
   "source": [
    "def U(n):\n",
    "    # Builds the interaction term using Pauli matrices\n",
    "    # a_p^dagger a_q^dagger a_q a_p\n",
    "    U = 1\n",
    "    \n",
    "    hamiltonian = ZERO()\n",
    "    for i in range(n):\n",
    "        hamiltonian += PauliTerm('I', i, 0.25*U) - PauliTerm('Z', i, 0.25*U) - PauliTerm('Z', i+n, 0.25*U) + PauliTerm('Z', i, 0.25*U)*sZ(i+n)\n",
    "    return hamiltonian\n",
    "\n",
    "def t(n):\n",
    "    # Builds hopping term using Pauli matrices\n",
    "    def h_op(s1, s2):\n",
    "        # returns a PauliSum representing a_s1^dagger a_s2    \n",
    "        # for all sites in between site one (s1) and site two (s2), multiply by sigma z\n",
    "        z = sI()\n",
    "        for i in range(s1+1, s2):\n",
    "            z *= PauliTerm('Z', i)\n",
    "        \n",
    "        return PauliTerm('X', s1, -0.5) * z * sX(s2) + PauliTerm('Y', s1, -0.5) * z * sY(s2)\n",
    "    hamiltonian = ZERO()\n",
    "    for i in range(n):\n",
    "        # BROKEN\n",
    "        hamiltonian += h_op(2*i, (2*i)+1)\n",
    "    return hamiltonian"
   ]
  },
  {
   "cell_type": "code",
   "execution_count": 9,
   "metadata": {},
   "outputs": [],
   "source": [
    "from grove.pyvqe.vqe import VQE\n",
    "from scipy.optimize import minimize\n",
    "import numpy as np\n",
    "\n",
    "vqe_inst = VQE(minimizer=minimize,\n",
    "               minimizer_kwargs={'method': 'nelder-mead'})"
   ]
  },
  {
   "cell_type": "markdown",
   "metadata": {},
   "source": [
    "Let us now find this state using VQE. For this, we prepare the initial state within the sector |Sz=0, N=2> (total Sz and total number of particles being 0 and 2, respectively. For example, we can pick the state |1001>. This corresponds to an up particle on site 0 and a down particle on site 1. Later, we can pick the state |1010>, which correponds to both particles being at site 1. This is not connected to the four states that make up the ground state (in an equal superposition) by the hopping Hamiltonian, so we want to see whether we can still find the GS using Hamiltonian VQE."
   ]
  },
  {
   "cell_type": "code",
   "execution_count": 10,
   "metadata": {},
   "outputs": [],
   "source": [
    "def var_ansatz(params):\n",
    "    S = 1\n",
    "    p = Program()\n",
    "    \n",
    "    # put initial state in the sector\n",
    "    # variational HF state\n",
    "    #p.inst(RY(params[0], 0))\n",
    "    #p.inst(RY(params[1], 2))\n",
    "    #p.inst(CNOT(0, 1))\n",
    "    #p.inst(CNOT(2, 3))\n",
    "    #p.inst(X(0))\n",
    "    #p.inst(X(2))\n",
    "    \n",
    "    for i in range(S):\n",
    "        # building U_u\n",
    "        p.inst(RZ(params[2 + 2*i]/2, 0))\n",
    "        p.inst(RZ(params[2 + 2*i]/2, 1))\n",
    "        p.inst(RZ(params[2 + 2*i]/2, 2))\n",
    "        p.inst(RZ(params[2 + 2*i]/2, 3))\n",
    "        p.inst(CNOT(0, 2))\n",
    "        p.inst(RZ(-params[2 + 2*i]/2, 2))\n",
    "        p.inst(CNOT(0, 2))\n",
    "        p.inst(CNOT(1, 3))\n",
    "        p.inst(RZ(-params[2 + 2*i]/2, 3))\n",
    "        p.inst(CNOT(1, 3))\n",
    "\n",
    "        # building U_t\n",
    "        p.inst(H(0))\n",
    "        p.inst(H(1))\n",
    "        p.inst(H(2))\n",
    "        p.inst(H(3))\n",
    "        p.inst(CNOT(0, 1))\n",
    "        p.inst(CNOT(2, 3))\n",
    "        p.inst(RZ(params[2 + 2*i+1], 1))\n",
    "        p.inst(RZ(params[2 + 2*i+1], 3))\n",
    "        p.inst(CNOT(0, 1))\n",
    "        p.inst(CNOT(2, 3))\n",
    "        p.inst(H(0))\n",
    "        p.inst(H(1))\n",
    "        p.inst(H(2))\n",
    "        p.inst(H(3))\n",
    "        p.inst(Y(0))\n",
    "        p.inst(Y(1))\n",
    "        p.inst(Y(2))\n",
    "        p.inst(Y(3))\n",
    "        p.inst(CNOT(0, 1))\n",
    "        p.inst(CNOT(2, 3))\n",
    "        p.inst(RZ(params[2 + 2*i+1], 1))\n",
    "        p.inst(RZ(params[2 + 2*i+1], 3))\n",
    "        p.inst(CNOT(0, 1))\n",
    "        p.inst(CNOT(2, 3))\n",
    "        p.inst(Y(0))\n",
    "        p.inst(Y(1))\n",
    "        p.inst(Y(2))\n",
    "        p.inst(Y(3))\n",
    "    return p"
   ]
  },
  {
   "cell_type": "code",
   "execution_count": 12,
   "metadata": {},
   "outputs": [
    {
     "name": "stdout",
     "output_type": "stream",
     "text": [
      "WARNING: Fast method for expectation will be used. Noise\n",
      "                     models will be ineffective\n"
     ]
    },
    {
     "ename": "IndexError",
     "evalue": "index 2 is out of bounds for axis 0 with size 2",
     "output_type": "error",
     "traceback": [
      "\u001b[0;31m---------------------------------------------------------------------------\u001b[0m",
      "\u001b[0;31mIndexError\u001b[0m                                Traceback (most recent call last)",
      "\u001b[0;32m<ipython-input-12-7554344bbb68>\u001b[0m in \u001b[0;36m<module>\u001b[0;34m\u001b[0m\n\u001b[1;32m      1\u001b[0m \u001b[0;31m#initial angle\u001b[0m\u001b[0;34m\u001b[0m\u001b[0;34m\u001b[0m\u001b[0;34m\u001b[0m\u001b[0m\n\u001b[1;32m      2\u001b[0m \u001b[0minitial_params\u001b[0m \u001b[0;34m=\u001b[0m \u001b[0mnp\u001b[0m\u001b[0;34m.\u001b[0m\u001b[0mzeros\u001b[0m\u001b[0;34m(\u001b[0m\u001b[0;36m2\u001b[0m\u001b[0;34m)\u001b[0m\u001b[0;34m\u001b[0m\u001b[0;34m\u001b[0m\u001b[0m\n\u001b[0;32m----> 3\u001b[0;31m \u001b[0mresult\u001b[0m \u001b[0;34m=\u001b[0m \u001b[0mvqe_inst\u001b[0m\u001b[0;34m.\u001b[0m\u001b[0mvqe_run\u001b[0m\u001b[0;34m(\u001b[0m\u001b[0mvar_ansatz\u001b[0m\u001b[0;34m,\u001b[0m \u001b[0mhamiltonian\u001b[0m\u001b[0;34m,\u001b[0m \u001b[0minitial_params\u001b[0m\u001b[0;34m,\u001b[0m \u001b[0mqvm\u001b[0m\u001b[0;34m=\u001b[0m\u001b[0mqvm\u001b[0m\u001b[0;34m)\u001b[0m\u001b[0;34m\u001b[0m\u001b[0;34m\u001b[0m\u001b[0m\n\u001b[0m\u001b[1;32m      4\u001b[0m \u001b[0mresult\u001b[0m\u001b[0;34m\u001b[0m\u001b[0;34m\u001b[0m\u001b[0m\n",
      "\u001b[0;32m~/.local/lib/python3.7/site-packages/grove/pyvqe/vqe.py\u001b[0m in \u001b[0;36mvqe_run\u001b[0;34m(self, variational_state_evolve, hamiltonian, initial_params, gate_noise, measurement_noise, jacobian, qvm, disp, samples, return_all)\u001b[0m\n\u001b[1;32m    170\u001b[0m             \u001b[0mself\u001b[0m\u001b[0;34m.\u001b[0m\u001b[0mminimizer_kwargs\u001b[0m\u001b[0;34m[\u001b[0m\u001b[0;34m'jac'\u001b[0m\u001b[0;34m]\u001b[0m \u001b[0;34m=\u001b[0m \u001b[0mjacobian\u001b[0m\u001b[0;34m\u001b[0m\u001b[0;34m\u001b[0m\u001b[0m\n\u001b[1;32m    171\u001b[0m \u001b[0;34m\u001b[0m\u001b[0m\n\u001b[0;32m--> 172\u001b[0;31m         \u001b[0mresult\u001b[0m \u001b[0;34m=\u001b[0m \u001b[0mself\u001b[0m\u001b[0;34m.\u001b[0m\u001b[0mminimizer\u001b[0m\u001b[0;34m(\u001b[0m\u001b[0;34m*\u001b[0m\u001b[0margs\u001b[0m\u001b[0;34m,\u001b[0m \u001b[0;34m**\u001b[0m\u001b[0mself\u001b[0m\u001b[0;34m.\u001b[0m\u001b[0mminimizer_kwargs\u001b[0m\u001b[0;34m)\u001b[0m\u001b[0;34m\u001b[0m\u001b[0;34m\u001b[0m\u001b[0m\n\u001b[0m\u001b[1;32m    173\u001b[0m \u001b[0;34m\u001b[0m\u001b[0m\n\u001b[1;32m    174\u001b[0m         \u001b[0;32mif\u001b[0m \u001b[0mhasattr\u001b[0m\u001b[0;34m(\u001b[0m\u001b[0mresult\u001b[0m\u001b[0;34m,\u001b[0m \u001b[0;34m'status'\u001b[0m\u001b[0;34m)\u001b[0m\u001b[0;34m:\u001b[0m\u001b[0;34m\u001b[0m\u001b[0;34m\u001b[0m\u001b[0m\n",
      "\u001b[0;32m~/.local/lib/python3.7/site-packages/scipy/optimize/_minimize.py\u001b[0m in \u001b[0;36mminimize\u001b[0;34m(fun, x0, args, method, jac, hess, hessp, bounds, constraints, tol, callback, options)\u001b[0m\n\u001b[1;32m    587\u001b[0m                       callback=callback, **options)\n\u001b[1;32m    588\u001b[0m     \u001b[0;32melif\u001b[0m \u001b[0mmeth\u001b[0m \u001b[0;34m==\u001b[0m \u001b[0;34m'nelder-mead'\u001b[0m\u001b[0;34m:\u001b[0m\u001b[0;34m\u001b[0m\u001b[0;34m\u001b[0m\u001b[0m\n\u001b[0;32m--> 589\u001b[0;31m         \u001b[0;32mreturn\u001b[0m \u001b[0m_minimize_neldermead\u001b[0m\u001b[0;34m(\u001b[0m\u001b[0mfun\u001b[0m\u001b[0;34m,\u001b[0m \u001b[0mx0\u001b[0m\u001b[0;34m,\u001b[0m \u001b[0margs\u001b[0m\u001b[0;34m,\u001b[0m \u001b[0mcallback\u001b[0m\u001b[0;34m,\u001b[0m \u001b[0;34m**\u001b[0m\u001b[0moptions\u001b[0m\u001b[0;34m)\u001b[0m\u001b[0;34m\u001b[0m\u001b[0;34m\u001b[0m\u001b[0m\n\u001b[0m\u001b[1;32m    590\u001b[0m     \u001b[0;32melif\u001b[0m \u001b[0mmeth\u001b[0m \u001b[0;34m==\u001b[0m \u001b[0;34m'powell'\u001b[0m\u001b[0;34m:\u001b[0m\u001b[0;34m\u001b[0m\u001b[0;34m\u001b[0m\u001b[0m\n\u001b[1;32m    591\u001b[0m         \u001b[0;32mreturn\u001b[0m \u001b[0m_minimize_powell\u001b[0m\u001b[0;34m(\u001b[0m\u001b[0mfun\u001b[0m\u001b[0;34m,\u001b[0m \u001b[0mx0\u001b[0m\u001b[0;34m,\u001b[0m \u001b[0margs\u001b[0m\u001b[0;34m,\u001b[0m \u001b[0mcallback\u001b[0m\u001b[0;34m,\u001b[0m \u001b[0;34m**\u001b[0m\u001b[0moptions\u001b[0m\u001b[0;34m)\u001b[0m\u001b[0;34m\u001b[0m\u001b[0;34m\u001b[0m\u001b[0m\n",
      "\u001b[0;32m~/.local/lib/python3.7/site-packages/scipy/optimize/optimize.py\u001b[0m in \u001b[0;36m_minimize_neldermead\u001b[0;34m(func, x0, args, callback, maxiter, maxfev, disp, return_all, initial_simplex, xatol, fatol, adaptive, **unknown_options)\u001b[0m\n\u001b[1;32m    557\u001b[0m \u001b[0;34m\u001b[0m\u001b[0m\n\u001b[1;32m    558\u001b[0m     \u001b[0;32mfor\u001b[0m \u001b[0mk\u001b[0m \u001b[0;32min\u001b[0m \u001b[0mrange\u001b[0m\u001b[0;34m(\u001b[0m\u001b[0mN\u001b[0m \u001b[0;34m+\u001b[0m \u001b[0;36m1\u001b[0m\u001b[0;34m)\u001b[0m\u001b[0;34m:\u001b[0m\u001b[0;34m\u001b[0m\u001b[0;34m\u001b[0m\u001b[0m\n\u001b[0;32m--> 559\u001b[0;31m         \u001b[0mfsim\u001b[0m\u001b[0;34m[\u001b[0m\u001b[0mk\u001b[0m\u001b[0;34m]\u001b[0m \u001b[0;34m=\u001b[0m \u001b[0mfunc\u001b[0m\u001b[0;34m(\u001b[0m\u001b[0msim\u001b[0m\u001b[0;34m[\u001b[0m\u001b[0mk\u001b[0m\u001b[0;34m]\u001b[0m\u001b[0;34m)\u001b[0m\u001b[0;34m\u001b[0m\u001b[0;34m\u001b[0m\u001b[0m\n\u001b[0m\u001b[1;32m    560\u001b[0m \u001b[0;34m\u001b[0m\u001b[0m\n\u001b[1;32m    561\u001b[0m     \u001b[0mind\u001b[0m \u001b[0;34m=\u001b[0m \u001b[0mnumpy\u001b[0m\u001b[0;34m.\u001b[0m\u001b[0margsort\u001b[0m\u001b[0;34m(\u001b[0m\u001b[0mfsim\u001b[0m\u001b[0;34m)\u001b[0m\u001b[0;34m\u001b[0m\u001b[0;34m\u001b[0m\u001b[0m\n",
      "\u001b[0;32m~/.local/lib/python3.7/site-packages/scipy/optimize/optimize.py\u001b[0m in \u001b[0;36mfunction_wrapper\u001b[0;34m(*wrapper_args)\u001b[0m\n\u001b[1;32m    298\u001b[0m     \u001b[0;32mdef\u001b[0m \u001b[0mfunction_wrapper\u001b[0m\u001b[0;34m(\u001b[0m\u001b[0;34m*\u001b[0m\u001b[0mwrapper_args\u001b[0m\u001b[0;34m)\u001b[0m\u001b[0;34m:\u001b[0m\u001b[0;34m\u001b[0m\u001b[0;34m\u001b[0m\u001b[0m\n\u001b[1;32m    299\u001b[0m         \u001b[0mncalls\u001b[0m\u001b[0;34m[\u001b[0m\u001b[0;36m0\u001b[0m\u001b[0;34m]\u001b[0m \u001b[0;34m+=\u001b[0m \u001b[0;36m1\u001b[0m\u001b[0;34m\u001b[0m\u001b[0;34m\u001b[0m\u001b[0m\n\u001b[0;32m--> 300\u001b[0;31m         \u001b[0;32mreturn\u001b[0m \u001b[0mfunction\u001b[0m\u001b[0;34m(\u001b[0m\u001b[0;34m*\u001b[0m\u001b[0;34m(\u001b[0m\u001b[0mwrapper_args\u001b[0m \u001b[0;34m+\u001b[0m \u001b[0margs\u001b[0m\u001b[0;34m)\u001b[0m\u001b[0;34m)\u001b[0m\u001b[0;34m\u001b[0m\u001b[0;34m\u001b[0m\u001b[0m\n\u001b[0m\u001b[1;32m    301\u001b[0m \u001b[0;34m\u001b[0m\u001b[0m\n\u001b[1;32m    302\u001b[0m     \u001b[0;32mreturn\u001b[0m \u001b[0mncalls\u001b[0m\u001b[0;34m,\u001b[0m \u001b[0mfunction_wrapper\u001b[0m\u001b[0;34m\u001b[0m\u001b[0;34m\u001b[0m\u001b[0m\n",
      "\u001b[0;32m~/.local/lib/python3.7/site-packages/grove/pyvqe/vqe.py\u001b[0m in \u001b[0;36mobjective_function\u001b[0;34m(params)\u001b[0m\n\u001b[1;32m    142\u001b[0m             \u001b[0;34m:\u001b[0m\u001b[0;32mreturn\u001b[0m\u001b[0;34m:\u001b[0m \u001b[0;34m(\u001b[0m\u001b[0mfloat\u001b[0m\u001b[0;34m)\u001b[0m \u001b[0mexpectation\u001b[0m \u001b[0mvalue\u001b[0m\u001b[0;34m\u001b[0m\u001b[0;34m\u001b[0m\u001b[0m\n\u001b[1;32m    143\u001b[0m             \"\"\"\n\u001b[0;32m--> 144\u001b[0;31m             \u001b[0mpyquil_prog\u001b[0m \u001b[0;34m=\u001b[0m \u001b[0mvariational_state_evolve\u001b[0m\u001b[0;34m(\u001b[0m\u001b[0mparams\u001b[0m\u001b[0;34m)\u001b[0m\u001b[0;34m\u001b[0m\u001b[0;34m\u001b[0m\u001b[0m\n\u001b[0m\u001b[1;32m    145\u001b[0m             \u001b[0mmean_value\u001b[0m \u001b[0;34m=\u001b[0m \u001b[0mself\u001b[0m\u001b[0;34m.\u001b[0m\u001b[0mexpectation\u001b[0m\u001b[0;34m(\u001b[0m\u001b[0mpyquil_prog\u001b[0m\u001b[0;34m,\u001b[0m \u001b[0mhamiltonian\u001b[0m\u001b[0;34m,\u001b[0m \u001b[0msamples\u001b[0m\u001b[0;34m,\u001b[0m \u001b[0mqvm\u001b[0m\u001b[0;34m)\u001b[0m\u001b[0;34m\u001b[0m\u001b[0;34m\u001b[0m\u001b[0m\n\u001b[1;32m    146\u001b[0m             \u001b[0mself\u001b[0m\u001b[0;34m.\u001b[0m\u001b[0m_current_expectation\u001b[0m \u001b[0;34m=\u001b[0m \u001b[0mmean_value\u001b[0m  \u001b[0;31m# store for printing\u001b[0m\u001b[0;34m\u001b[0m\u001b[0;34m\u001b[0m\u001b[0m\n",
      "\u001b[0;32m<ipython-input-10-5cecd8e3ee62>\u001b[0m in \u001b[0;36mvar_ansatz\u001b[0;34m(params)\u001b[0m\n\u001b[1;32m     14\u001b[0m     \u001b[0;32mfor\u001b[0m \u001b[0mi\u001b[0m \u001b[0;32min\u001b[0m \u001b[0mrange\u001b[0m\u001b[0;34m(\u001b[0m\u001b[0mS\u001b[0m\u001b[0;34m)\u001b[0m\u001b[0;34m:\u001b[0m\u001b[0;34m\u001b[0m\u001b[0;34m\u001b[0m\u001b[0m\n\u001b[1;32m     15\u001b[0m         \u001b[0;31m# building U_u\u001b[0m\u001b[0;34m\u001b[0m\u001b[0;34m\u001b[0m\u001b[0;34m\u001b[0m\u001b[0m\n\u001b[0;32m---> 16\u001b[0;31m         \u001b[0mp\u001b[0m\u001b[0;34m.\u001b[0m\u001b[0minst\u001b[0m\u001b[0;34m(\u001b[0m\u001b[0mRZ\u001b[0m\u001b[0;34m(\u001b[0m\u001b[0mparams\u001b[0m\u001b[0;34m[\u001b[0m\u001b[0;36m2\u001b[0m \u001b[0;34m+\u001b[0m \u001b[0;36m2\u001b[0m\u001b[0;34m*\u001b[0m\u001b[0mi\u001b[0m\u001b[0;34m]\u001b[0m\u001b[0;34m/\u001b[0m\u001b[0;36m2\u001b[0m\u001b[0;34m,\u001b[0m \u001b[0;36m0\u001b[0m\u001b[0;34m)\u001b[0m\u001b[0;34m)\u001b[0m\u001b[0;34m\u001b[0m\u001b[0;34m\u001b[0m\u001b[0m\n\u001b[0m\u001b[1;32m     17\u001b[0m         \u001b[0mp\u001b[0m\u001b[0;34m.\u001b[0m\u001b[0minst\u001b[0m\u001b[0;34m(\u001b[0m\u001b[0mRZ\u001b[0m\u001b[0;34m(\u001b[0m\u001b[0mparams\u001b[0m\u001b[0;34m[\u001b[0m\u001b[0;36m2\u001b[0m \u001b[0;34m+\u001b[0m \u001b[0;36m2\u001b[0m\u001b[0;34m*\u001b[0m\u001b[0mi\u001b[0m\u001b[0;34m]\u001b[0m\u001b[0;34m/\u001b[0m\u001b[0;36m2\u001b[0m\u001b[0;34m,\u001b[0m \u001b[0;36m1\u001b[0m\u001b[0;34m)\u001b[0m\u001b[0;34m)\u001b[0m\u001b[0;34m\u001b[0m\u001b[0;34m\u001b[0m\u001b[0m\n\u001b[1;32m     18\u001b[0m         \u001b[0mp\u001b[0m\u001b[0;34m.\u001b[0m\u001b[0minst\u001b[0m\u001b[0;34m(\u001b[0m\u001b[0mRZ\u001b[0m\u001b[0;34m(\u001b[0m\u001b[0mparams\u001b[0m\u001b[0;34m[\u001b[0m\u001b[0;36m2\u001b[0m \u001b[0;34m+\u001b[0m \u001b[0;36m2\u001b[0m\u001b[0;34m*\u001b[0m\u001b[0mi\u001b[0m\u001b[0;34m]\u001b[0m\u001b[0;34m/\u001b[0m\u001b[0;36m2\u001b[0m\u001b[0;34m,\u001b[0m \u001b[0;36m2\u001b[0m\u001b[0;34m)\u001b[0m\u001b[0;34m)\u001b[0m\u001b[0;34m\u001b[0m\u001b[0;34m\u001b[0m\u001b[0m\n",
      "\u001b[0;31mIndexError\u001b[0m: index 2 is out of bounds for axis 0 with size 2"
     ]
    }
   ],
   "source": [
    "#initial angle\n",
    "initial_params = np.zeros(2)\n",
    "result = vqe_inst.vqe_run(var_ansatz, hamiltonian, initial_params, qvm=qvm)\n",
    "result"
   ]
  },
  {
   "cell_type": "code",
   "execution_count": 21,
   "metadata": {},
   "outputs": [],
   "source": [
    "def op(s1, s2):\n",
    "    # returns a PauliSum representing a_s1^daggar a_s2\n",
    "    def sigma_plus(s):\n",
    "        # returns sigma^+ operator on side s\n",
    "        # sigma^+ = 1/2(X + iY)\n",
    "        return PauliTerm('X', s, 0.5) + PauliTerm('Y', s, complex(0.0+0.5j))\n",
    "    def sigma_minus(s):\n",
    "        # returns sigma^- operator on side s\n",
    "        # sigma^- = 1/2(X - iY)\n",
    "        return PauliTerm('X', s, 0.5) - PauliTerm('Y', s, complex(0.0+0.5j))\n",
    "    \n",
    "    # for all sites in between site one (s1) and site two (s2), multiply by sigma z\n",
    "    z = sI()\n",
    "    for i in range(s1+1, s2):\n",
    "        z *= PauliTerm('Z', i)\n",
    "        \n",
    "    return sigma_minus(s1) * z * sigma_plus(s2)"
   ]
  },
  {
   "cell_type": "code",
   "execution_count": 22,
   "metadata": {},
   "outputs": [],
   "source": [
    "# building the single particle density matrix (spdm) \n",
    "spdm = np.zeros((4,4))\n",
    "for i in range(4):\n",
    "    for k in range(4):\n",
    "        # building an operator and vqe for each i, j        \n",
    "        # element (j, i) in the spdm is a_i^dagger a_j\n",
    "        spdm[k, i] = vqe_inst.expectation(var_ansatz(result.x), op(i, k), None, qvm)"
   ]
  },
  {
   "cell_type": "code",
   "execution_count": 23,
   "metadata": {},
   "outputs": [
    {
     "name": "stdout",
     "output_type": "stream",
     "text": [
      "[[0.5  0.49 0.   0.  ]\n",
      " [0.49 0.5  0.   0.  ]\n",
      " [0.   0.   0.5  0.49]\n",
      " [0.   0.   0.49 0.5 ]]\n"
     ]
    }
   ],
   "source": [
    "print(np.around(spdm, decimals=2))"
   ]
  },
  {
   "cell_type": "code",
   "execution_count": null,
   "metadata": {},
   "outputs": [],
   "source": []
  }
 ],
 "metadata": {
  "kernelspec": {
   "display_name": "Python 3",
   "language": "python",
   "name": "python3"
  },
  "language_info": {
   "codemirror_mode": {
    "name": "ipython",
    "version": 3
   },
   "file_extension": ".py",
   "mimetype": "text/x-python",
   "name": "python",
   "nbconvert_exporter": "python",
   "pygments_lexer": "ipython3",
   "version": "3.7.3"
  }
 },
 "nbformat": 4,
 "nbformat_minor": 4
}
