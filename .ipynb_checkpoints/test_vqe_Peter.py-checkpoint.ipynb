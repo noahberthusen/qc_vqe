{
 "cells": [
  {
   "cell_type": "code",
   "execution_count": 1,
   "metadata": {},
   "outputs": [],
   "source": [
    "from pyquil import Program\n",
    "from pyquil.gates import *\n",
    "import pyquil.api as api\n",
    "from pyquil.paulis import *\n",
    "import numpy as np\n",
    "import math"
   ]
  },
  {
   "cell_type": "code",
   "execution_count": 2,
   "metadata": {},
   "outputs": [],
   "source": [
    "qvm = api.QVMConnection()"
   ]
  },
  {
   "cell_type": "markdown",
   "metadata": {},
   "source": [
    "Let us order the basis as follows: |0, up; 1, up; 0, down; 1, down>. This reduces the number of Jordan-Wigner strings needed as spin is conserved in a hopping process. We create the ground state of the non-interacting model in the function: gs_U_0"
   ]
  },
  {
   "cell_type": "code",
   "execution_count": 3,
   "metadata": {},
   "outputs": [],
   "source": [
    "def gs_U_0():\n",
    "    p = Program()\n",
    "    p.inst(H(0))\n",
    "    p.inst(H(2))\n",
    "    p.inst(CNOT(0, 1))\n",
    "    p.inst(CNOT(2, 3))\n",
    "    p.inst(X(0))\n",
    "    p.inst(X(2))\n",
    "    return p"
   ]
  },
  {
   "cell_type": "code",
   "execution_count": 53,
   "metadata": {},
   "outputs": [
    {
     "name": "stdout",
     "output_type": "stream",
     "text": [
      "(-0.5+0j)*X0*X1 + (-0.5+0j)*X2*X3 + (-0.5+0j)*Y0*Y1 + (-0.5+0j)*Y2*Y3 + (0.25+0j)*I + (-0.25+0j)*Z1 + (-0.25+0j)*Z3 + (0.25+0j)*Z1*Z3\n"
     ]
    }
   ],
   "source": [
    "t = 1\n",
    "hamiltonian = PauliSum([PauliTerm('X', 0, -0.5*t)*sX(1), PauliTerm('X', 2, -0.5*t)*sX(3), PauliTerm('Y', 0, -0.5*t)*sY(1), PauliTerm('Y', 2, -0.5*t)*sY(3)])\n",
    "\n",
    "# interaction term: a_p^dagger a_q^dagger a_q a_p\n",
    "U = 0\n",
    "U2 = 1\n",
    "hamiltonian += (PauliTerm('I', 0, 0.25*U)-PauliTerm('Z', 0, 0.25*U)-PauliTerm('Z',2,0.25*U)+ PauliTerm('Z',0,0.25*U)*sZ(2))\n",
    "hamiltonian += (PauliTerm('I', 1, 0.25*U2)-PauliTerm('Z', 1, 0.25*U2)-PauliTerm('Z',3,0.25*U2)+ PauliTerm('Z',1,0.25*U2)*sZ(3))\n",
    "print(hamiltonian)"
   ]
  },
  {
   "cell_type": "code",
   "execution_count": 54,
   "metadata": {},
   "outputs": [],
   "source": [
    "from grove.pyvqe.vqe import VQE\n",
    "from scipy.optimize import minimize\n",
    "import numpy as np\n",
    "\n",
    "vqe_inst = VQE(minimizer=minimize,\n",
    "               minimizer_kwargs={'method': 'nelder-mead'})"
   ]
  },
  {
   "cell_type": "code",
   "execution_count": 55,
   "metadata": {},
   "outputs": [
    {
     "name": "stdout",
     "output_type": "stream",
     "text": [
      "[[0.70710678+0.j         0.        +0.70710678j]\n",
      " [0.        +0.70710678j 0.70710678+0.j        ]]\n",
      "[[0.70710678-0.j         0.        -0.70710678j]\n",
      " [0.        -0.70710678j 0.70710678-0.j        ]]\n"
     ]
    }
   ],
   "source": [
    "from pyquil.quil import DefGate\n",
    "from pyquil.quilatom import Parameter, quil_exp\n",
    "\n",
    "yb = np.array([[1/math.sqrt(2)+0j, complex(0, 1/math.sqrt(2))],\n",
    "               [complex(0, 1/math.sqrt(2)), 1/math.sqrt(2)+0j]])\n",
    "yb_definition = DefGate(\"YB\", yb)\n",
    "YB = yb_definition.get_constructor()\n",
    "\n",
    "ybd = yb.conj().T\n",
    "ybd_definition = DefGate(\"YBD\", ybd)\n",
    "YBD = ybd_definition.get_constructor()\n",
    "\n",
    "theta = Parameter('theta')\n",
    "zr = np.array([[quil_exp(1j * theta/2), 0],\n",
    "               [0, quil_exp(1j * -theta/2)]])\n",
    "zr_definition = DefGate('ZR', zr, [theta])\n",
    "ZR = zr_definition.get_constructor()\n",
    "\n",
    "print(yb)\n",
    "print(ybd)"
   ]
  },
  {
   "cell_type": "markdown",
   "metadata": {},
   "source": [
    "Let us now find this state using VQE. For this, we prepare the initial state within the sector |Sz=0, N=2> (total Sz and total number of particles being 0 and 2, respectively. For example, we can pick the state |1001>. This corresponds to an up particle on site 0 and a down particle on site 1. Later, we can pick the state |1010>, which correponds to both particles being at site 1. This is not connected to the four states that make up the ground state (in an equal superposition) by the hopping Hamiltonian, so we want to see whether we can still find the GS using Hamiltonian VQE."
   ]
  },
  {
   "cell_type": "code",
   "execution_count": 64,
   "metadata": {},
   "outputs": [],
   "source": [
    "def var_ansatz(params):\n",
    "    S = 2\n",
    "    p = Program()\n",
    "    \n",
    "    # add new YB and YBD and ZR gate\n",
    "    p += yb_definition\n",
    "    p += ybd_definition\n",
    "    p += zr_definition\n",
    "    \n",
    "    # put initial state in the sector\n",
    "    p.inst(H(0))\n",
    "    p.inst(CNOT(0, 1))\n",
    "    p.inst(CNOT(1, 2))\n",
    "    p.inst(CNOT(2, 3))\n",
    "    p.inst(X(1))\n",
    "    p.inst(X(2))\n",
    "    \n",
    "    for i in range(S):\n",
    "        # building U_u\n",
    "        p.inst(ZR(params[2*i]/2)(0))\n",
    "        p.inst(ZR(params[2*i]/2)(1))\n",
    "        p.inst(ZR(params[2*i]/2)(2))\n",
    "        p.inst(ZR(params[2*i]/2)(3))\n",
    "        p.inst(CNOT(0, 2))\n",
    "        p.inst(ZR(-params[2*i]/2)(2))\n",
    "        p.inst(CNOT(0, 2))\n",
    "        p.inst(CNOT(1, 3))\n",
    "        p.inst(ZR(-params[2*i]/2)(3))\n",
    "        p.inst(CNOT(1, 3))\n",
    "\n",
    "        # building U_t\n",
    "        p.inst(H(0))\n",
    "        p.inst(H(1))\n",
    "        p.inst(H(2))\n",
    "        p.inst(H(3))\n",
    "        p.inst(CNOT(0, 1))\n",
    "        p.inst(CNOT(2, 3))\n",
    "        p.inst(ZR(params[2*i+1])(1))\n",
    "        p.inst(ZR(params[2*i+1])(3))\n",
    "        p.inst(CNOT(0, 1))\n",
    "        p.inst(CNOT(2, 3))\n",
    "        p.inst(H(0))\n",
    "        p.inst(H(1))\n",
    "        p.inst(H(2))\n",
    "        p.inst(H(3))\n",
    "        p.inst(YB(0))\n",
    "        p.inst(YB(1))\n",
    "        p.inst(YB(2))\n",
    "        p.inst(YB(3))\n",
    "        p.inst(CNOT(0, 1))\n",
    "        p.inst(CNOT(2, 3))\n",
    "        p.inst(ZR(params[2*i+1])(1))\n",
    "        p.inst(ZR(params[2*i+1])(3))\n",
    "        p.inst(CNOT(0, 1))\n",
    "        p.inst(CNOT(2, 3))\n",
    "        p.inst(YBD(0))\n",
    "        p.inst(YBD(1))\n",
    "        p.inst(YBD(2))\n",
    "        p.inst(YBD(3))\n",
    "    return p"
   ]
  },
  {
   "cell_type": "code",
   "execution_count": 65,
   "metadata": {},
   "outputs": [
    {
     "name": "stdout",
     "output_type": "stream",
     "text": [
      "WARNING: Fast method for expectation will be used. Noise\n",
      "                     models will be ineffective\n"
     ]
    },
    {
     "data": {
      "text/plain": [
       "{'x': array([-1.54764226,  0.41855052,  1.50151941,  0.93243577]),\n",
       " 'fun': -1.7655644350287376}"
      ]
     },
     "execution_count": 65,
     "metadata": {},
     "output_type": "execute_result"
    }
   ],
   "source": [
    "#initial angle\n",
    "initial_params = np.zeros(4)\n",
    "result = vqe_inst.vqe_run(var_ansatz, hamiltonian, initial_params, qvm=qvm)\n",
    "result"
   ]
  },
  {
   "cell_type": "code",
   "execution_count": 9,
   "metadata": {},
   "outputs": [],
   "source": [
    "def op(s1, s2):\n",
    "    # returns a PauliSum representing a_s1^daggar a_s2\n",
    "    def sigma_plus(s):\n",
    "        # returns sigma^+ operator on side s\n",
    "        # sigma^+ = 1/2(X + iY)\n",
    "        return PauliTerm('X', s, 0.5) + PauliTerm('Y', s, complex(0.0+0.5j))\n",
    "    def sigma_minus(s):\n",
    "        # returns sigma^- operator on side s\n",
    "        # sigma^- = 1/2(X - iY)\n",
    "        return PauliTerm('X', s, 0.5) - PauliTerm('Y', s, complex(0.0+0.5j))\n",
    "    \n",
    "    # for all sites in between site one (s1) and site two (s2), multiply by sigma z\n",
    "    z = sI()\n",
    "    for i in range(s1+1, s2):\n",
    "        z *= PauliTerm('Z', i)\n",
    "        \n",
    "    return sigma_minus(s1) * z * sigma_plus(s2)"
   ]
  },
  {
   "cell_type": "code",
   "execution_count": 10,
   "metadata": {},
   "outputs": [],
   "source": [
    "# building the single particle density matrix (spdm) \n",
    "spdm = np.zeros((4,4))\n",
    "for i in range(4):\n",
    "    for k in range(4):\n",
    "        # building an operator and vqe for each i, j        \n",
    "        # element (j, i) in the spdm is a_i^dagger a_j\n",
    "        spdm[k, i] = vqe_inst.expectation(var_ansatz(result.x), op(i, k), None, qvm)"
   ]
  },
  {
   "cell_type": "code",
   "execution_count": 11,
   "metadata": {},
   "outputs": [
    {
     "name": "stdout",
     "output_type": "stream",
     "text": [
      "[[0.5 0.  0.  0. ]\n",
      " [0.  0.5 0.  0. ]\n",
      " [0.  0.  0.5 0. ]\n",
      " [0.  0.  0.  0.5]]\n"
     ]
    }
   ],
   "source": [
    "print(np.around(spdm, decimals=2))"
   ]
  },
  {
   "cell_type": "code",
   "execution_count": null,
   "metadata": {},
   "outputs": [],
   "source": []
  }
 ],
 "metadata": {
  "kernelspec": {
   "display_name": "Python 3",
   "language": "python",
   "name": "python3"
  },
  "language_info": {
   "codemirror_mode": {
    "name": "ipython",
    "version": 3
   },
   "file_extension": ".py",
   "mimetype": "text/x-python",
   "name": "python",
   "nbconvert_exporter": "python",
   "pygments_lexer": "ipython3",
   "version": "3.7.3"
  }
 },
 "nbformat": 4,
 "nbformat_minor": 4
}
