{
 "cells": [
  {
   "cell_type": "code",
   "execution_count": 11,
   "metadata": {},
   "outputs": [],
   "source": [
    "from pyquil.quil import Program\n",
    "import pyquil.api as api\n",
    "from pyquil.gates import *\n",
    "from pyquil.paulis import *\n",
    "import numpy as np\n",
    "from grove.pyvqe.vqe import VQE\n",
    "from scipy.optimize import minimize"
   ]
  },
  {
   "cell_type": "code",
   "execution_count": 12,
   "metadata": {},
   "outputs": [],
   "source": [
    "qvm = api.QVMConnection()\n",
    "vqe_inst = VQE(minimizer=minimize, minimizer_kwargs={'method': 'nelder-mead'})"
   ]
  },
  {
   "cell_type": "code",
   "execution_count": 38,
   "metadata": {},
   "outputs": [],
   "source": [
    "hamiltonian = (sI(0) - sZ(0)) + (sI(1) - sZ(1))"
   ]
  },
  {
   "cell_type": "code",
   "execution_count": 39,
   "metadata": {},
   "outputs": [],
   "source": [
    "def ansatz(params):\n",
    "    S = 1\n",
    "    p = Program()\n",
    "    for i in range(S):\n",
    "\n",
    "        # building Uu\n",
    "        for j in range(4):\n",
    "            p += RZ(params[0]/2, j)\n",
    "        p += CZ(0,1)\n",
    "        p += CZ(2,3)\n",
    "        p += RZ(-params[0]/2, 1)\n",
    "        p += RZ(-params[0]/2, 3)\n",
    "        p += CZ(0,1)\n",
    "        p += CZ(2,3)\n",
    "        \n",
    "        # building Ut\n",
    "        p += CZ(2,3)\n",
    "        p += CZ(1,2)\n",
    "        for j in range(4):\n",
    "            p += H(j)\n",
    "        p += CNOT(1,3)\n",
    "        p += CNOT(0,2)\n",
    "        p += RZ(params[1], 2)\n",
    "        p += RZ(params[1], 3)\n",
    "        p += CNOT(1,3)\n",
    "        p += CNOT(0,2)\n",
    "        for j in range(4):\n",
    "            p += H(j)\n",
    "        for j in range(4):\n",
    "            p += Y(j)\n",
    "        p += CNOT(0,2)\n",
    "        p += CNOT(1,3)\n",
    "        p += RZ(params[1], 2)\n",
    "        p += RZ(params[1], 3)\n",
    "        p += CNOT(0,2)\n",
    "        p += CNOT(1,3)\n",
    "        for j in range(4):\n",
    "            p += Y(j)\n",
    "        p += CZ(1,2)\n",
    "        p += CZ(2,3)\n",
    "    \n",
    "    return p"
   ]
  },
  {
   "cell_type": "code",
   "execution_count": 40,
   "metadata": {},
   "outputs": [
    {
     "name": "stdout",
     "output_type": "stream",
     "text": [
      "WARNING: Fast method for expectation will be used. Noise\n",
      "                     models will be ineffective\n"
     ]
    }
   ],
   "source": [
    "#initial angle and S\n",
    "initial_params = [1.0, 1.0]\n",
    "result = vqe_inst.vqe_run(ansatz, hamiltonian, initial_params, None, qvm=qvm)"
   ]
  },
  {
   "cell_type": "code",
   "execution_count": 41,
   "metadata": {},
   "outputs": [
    {
     "name": "stdout",
     "output_type": "stream",
     "text": [
      "{'x': array([1.21299980e+00, 1.03806059e-08]), 'fun': 0.0}\n"
     ]
    }
   ],
   "source": [
    "print(result)"
   ]
  },
  {
   "cell_type": "code",
   "execution_count": null,
   "metadata": {},
   "outputs": [],
   "source": []
  }
 ],
 "metadata": {
  "kernelspec": {
   "display_name": "Python 3",
   "language": "python",
   "name": "python3"
  },
  "language_info": {
   "codemirror_mode": {
    "name": "ipython",
    "version": 3
   },
   "file_extension": ".py",
   "mimetype": "text/x-python",
   "name": "python",
   "nbconvert_exporter": "python",
   "pygments_lexer": "ipython3",
   "version": "3.7.3"
  }
 },
 "nbformat": 4,
 "nbformat_minor": 2
}
