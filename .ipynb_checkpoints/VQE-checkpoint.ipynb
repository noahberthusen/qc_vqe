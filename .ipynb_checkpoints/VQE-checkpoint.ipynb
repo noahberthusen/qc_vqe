{
 "cells": [
  {
   "cell_type": "code",
   "execution_count": 1,
   "metadata": {},
   "outputs": [],
   "source": [
    "from qiskit.aqua.algorithms import VQE, ExactEigensolver\n",
    "import matplotlib.pyplot as plt\n",
    "%matplotlib inline\n",
    "import numpy as np\n",
    "from qiskit.chemistry.aqua_extensions.components.variational_forms import UCCSD\n",
    "from qiskit.aqua.components.variational_forms import RYRZ\n",
    "from qiskit.chemistry.aqua_extensions.components.initial_states import HartreeFock\n",
    "from qiskit.aqua.components.optimizers import COBYLA, SPSA, SLSQP\n",
    "from qiskit import IBMQ, BasicAer, Aer\n",
    "from qiskit.chemistry.drivers import PySCFDriver, UnitsType\n",
    "from qiskit.chemistry import FermionicOperator\n",
    "from qiskit import IBMQ\n",
    "from qiskit.providers.aer import noise\n",
    "from qiskit.aqua import QuantumInstance\n",
    "from qiskit.ignis.mitigation.measurement import CompleteMeasFitter\n",
    "import numpy as np"
   ]
  },
  {
   "cell_type": "code",
   "execution_count": 22,
   "metadata": {},
   "outputs": [],
   "source": [
    "h1e = np.load('h1e.npy')\n",
    "h2e = np.load('h2e.npy')"
   ]
  },
  {
   "cell_type": "code",
   "execution_count": 23,
   "metadata": {},
   "outputs": [
    {
     "name": "stderr",
     "output_type": "stream",
     "text": [
      "/home/noah/.local/lib/python3.7/site-packages/qiskit/aqua/operators/base_operator.py:182: DeprecationWarning: two_qubit_reduced_operator method is deprecated and it will be removed after 0.6. Now it is moved to the `Z2Symmetries` class as a classmethod. Z2Symmeteries.two_qubit_reduction(num_particles)\n",
      "  DeprecationWarning)\n"
     ]
    }
   ],
   "source": [
    "qubitOp = FermionicOperator(h1=h1e, h2=h2e).mapping(map_type='parity')\n",
    "qubitOp = qubitOp.two_qubit_reduced_operator(2)"
   ]
  },
  {
   "cell_type": "code",
   "execution_count": 24,
   "metadata": {},
   "outputs": [],
   "source": [
    "provider = IBMQ.load_account()\n",
    "backend = Aer.get_backend(\"qasm_simulator\")\n",
    "device = provider.get_backend(\"ibmqx2\")\n",
    "coupling_map = device.configuration().coupling_map\n",
    "noise_model = noise.device.basic_device_noise_model(device.properties())\n",
    "quantum_instance = QuantumInstance(backend=backend, shots=2**16, \n",
    "                                   noise_model=noise_model, \n",
    "                                   coupling_map=coupling_map,\n",
    "                                   measurement_error_mitigation_cls=CompleteMeasFitter,\n",
    "                                   cals_matrix_refresh_period=30,)"
   ]
  },
  {
   "cell_type": "code",
   "execution_count": 25,
   "metadata": {},
   "outputs": [
    {
     "name": "stdout",
     "output_type": "stream",
     "text": [
      "Exact Result: -1.6457513110645916\n"
     ]
    },
    {
     "name": "stderr",
     "output_type": "stream",
     "text": [
      "/home/noah/.local/lib/python3.7/site-packages/qiskit/aqua/algorithms/adaptive/vqe/vqe.py:105: DeprecationWarning: operator_mode option is deprecated and it will be removed after 0.6. Now the operator has its own mode, no need extra info to tell the VQE.\n",
      "  \"Now the operator has its own mode, no need extra info to tell the VQE.\", DeprecationWarning)\n"
     ]
    },
    {
     "name": "stdout",
     "output_type": "stream",
     "text": [
      "VQE Result: -1.534832966558451\n"
     ]
    }
   ],
   "source": [
    "exact_solution = ExactEigensolver(qubitOp).run()\n",
    "print(\"Exact Result:\", exact_solution['energy'])\n",
    "optimizer = SPSA(max_trials=100)\n",
    "var_form = RYRZ(qubitOp.num_qubits, depth=1, entanglement=\"linear\")\n",
    "vqe = VQE(qubitOp, var_form, optimizer=optimizer, operator_mode=\"grouped_paulis\")\n",
    "ret = vqe.run(quantum_instance)\n",
    "print(\"VQE Result:\", ret['energy'])"
   ]
  },
  {
   "cell_type": "code",
   "execution_count": null,
   "metadata": {},
   "outputs": [],
   "source": []
  },
  {
   "cell_type": "code",
   "execution_count": null,
   "metadata": {},
   "outputs": [],
   "source": []
  }
 ],
 "metadata": {
  "kernelspec": {
   "display_name": "Python 3",
   "language": "python",
   "name": "python3"
  },
  "language_info": {
   "codemirror_mode": {
    "name": "ipython",
    "version": 3
   },
   "file_extension": ".py",
   "mimetype": "text/x-python",
   "name": "python",
   "nbconvert_exporter": "python",
   "pygments_lexer": "ipython3",
   "version": "3.7.3"
  }
 },
 "nbformat": 4,
 "nbformat_minor": 2
}
