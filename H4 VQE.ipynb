{
 "cells": [
  {
   "cell_type": "code",
   "execution_count": 1,
   "metadata": {},
   "outputs": [],
   "source": [
    "from pyquil import Program\n",
    "from pyquil.gates import *\n",
    "import pyquil.api as api\n",
    "from pyquil.paulis import *\n",
    "import numpy as np\n",
    "import math\n",
    "import random\n",
    "from openfermion.utils import slater_determinant_preparation_circuit"
   ]
  },
  {
   "cell_type": "code",
   "execution_count": 2,
   "metadata": {},
   "outputs": [],
   "source": [
    "qvm = api.QVMConnection()"
   ]
  },
  {
   "cell_type": "code",
   "execution_count": 70,
   "metadata": {},
   "outputs": [],
   "source": [
    "def U(n):\n",
    "    # Builds the interaction term\n",
    "    # a_p^dagger a_q^dagger a_q a_p\n",
    "    U = 1\n",
    "    \n",
    "    hamiltonian = ZERO()\n",
    "    for i in range(n):\n",
    "        hamiltonian += (sI() - sZ(i) - sZ(i+n) + sZ(i)*sZ(i+n))\n",
    "    hamiltonian *= (U / 4)\n",
    "        \n",
    "    return hamiltonian"
   ]
  },
  {
   "cell_type": "code",
   "execution_count": 71,
   "metadata": {},
   "outputs": [
    {
     "name": "stdout",
     "output_type": "stream",
     "text": [
      "(1+0j)*I + (-0.25+0j)*Z0 + (-0.25+0j)*Z4 + (0.25+0j)*Z0*Z4 + (-0.25+0j)*Z1 + (-0.25+0j)*Z5 + (0.25+0j)*Z1*Z5 + (-0.25+0j)*Z2 + (-0.25+0j)*Z6 + (0.25+0j)*Z2*Z6 + (-0.25+0j)*Z3 + (-0.25+0j)*Z7 + (0.25+0j)*Z3*Z7 + (-0.5+0j)*X0*X1 + (-0.5+0j)*Y0*Y1 + (-0.5+0j)*X0*Z1*Z2*X3 + (-0.5+0j)*Y0*Z1*Z2*Y3 + (-0.5+0j)*X1*X2 + (-0.5+0j)*Y1*Y2 + (-0.5+0j)*X2*X3 + (-0.5+0j)*Y2*Y3 + (-0.5+0j)*X4*X5 + (-0.5+0j)*Y4*Y5 + (-0.5+0j)*X4*Z5*Z6*X7 + (-0.5+0j)*Y4*Z5*Z6*Y7 + (-0.5+0j)*X5*X6 + (-0.5+0j)*Y5*Y6 + (-0.5+0j)*X6*X7 + (-0.5+0j)*Y6*Y7\n"
     ]
    }
   ],
   "source": [
    "# hopping term: a_p^dagger a_q\n",
    "t = 1\n",
    "hamt = (sX(0)*sX(1) + sY(0)*sY(1) + sX(0)*sZ(1)*sZ(2)*sX(3) + sY(0)*sZ(1)*sZ(2)*sY(3) + sX(1)*sX(2) + sY(1)*sY(2) + sX(2)*sX(3) + sY(2)*sY(3))\n",
    "hamt += (sX(4)*sX(5) + sY(4)*sY(5) + sX(4)*sZ(5)*sZ(6)*sX(7) + sY(4)*sZ(5)*sZ(6)*sY(7) + sX(5)*sX(6) + sY(5)*sY(6) + sX(6)*sX(7) + sY(6)*sY(7))\n",
    "hamt *= (-t / 2)\n",
    "\n",
    "# interaction term: a_p^dagger a_q^dagger a_q a_p\n",
    "hamU = U(4)\n",
    "\n",
    "hamiltonian = hamU + hamt\n",
    "print(hamiltonian)"
   ]
  },
  {
   "cell_type": "code",
   "execution_count": 72,
   "metadata": {},
   "outputs": [
    {
     "data": {
      "text/plain": [
       "array([-3.78526086, -3.55405387, -3.55405387, -3.55405387, -3.55405387,\n",
       "       -3.34084762, -3.29295138, -3.29295138, -3.29295138, -2.86387634])"
      ]
     },
     "execution_count": 72,
     "metadata": {},
     "output_type": "execute_result"
    }
   ],
   "source": [
    "from qucochemistry.utils import pyquilpauli_to_qubitop\n",
    "from openfermion.transforms import get_sparse_operator\n",
    "h = get_sparse_operator(pyquilpauli_to_qubitop(hamiltonian))\n",
    "if h.shape[0] > 1024:\n",
    "    [w, _] = sp.sparse.linalg.eigsh(h, k=1)\n",
    "else:\n",
    "    [w, _] = np.linalg.eigh(h.todense())\n",
    "w[0:10]"
   ]
  },
  {
   "cell_type": "code",
   "execution_count": 6,
   "metadata": {},
   "outputs": [],
   "source": [
    "from pyquil.quil import DefGate\n",
    "from pyquil.quilatom import Parameter, quil_sin, quil_cos\n",
    "\n",
    "theta = Parameter('theta')\n",
    "cry = np.array([[1,0,0,0],\n",
    "               [0,1,0,0],\n",
    "               [0,0,quil_cos(theta), -quil_sin(theta)],\n",
    "               [0,0,quil_sin(theta), quil_cos(theta)]])\n",
    "\n",
    "cry_definition = DefGate(\"CRY\", cry, [theta])\n",
    "CRY = cry_definition.get_constructor()"
   ]
  },
  {
   "cell_type": "code",
   "execution_count": 7,
   "metadata": {},
   "outputs": [],
   "source": [
    "from grove.pyvqe.vqe import VQE\n",
    "from scipy.optimize import minimize\n",
    "import numpy as np\n",
    "\n",
    "vqe_inst = VQE(minimizer=minimize,\n",
    "               minimizer_kwargs={'method': 'nelder-mead'})"
   ]
  },
  {
   "cell_type": "code",
   "execution_count": 8,
   "metadata": {},
   "outputs": [],
   "source": [
    "def U_ansatz(n, param):\n",
    "    p = Program()\n",
    "    \n",
    "    for i in range(n):\n",
    "        p.inst(RZ(param/4, i))\n",
    "        p.inst(RZ(param/4, i+n))\n",
    "        p.inst(CNOT(i, i+n))\n",
    "        p.inst(RZ(-param/4, i+n))\n",
    "        p.inst(CNOT(i, i+n))\n",
    "        \n",
    "    return p"
   ]
  },
  {
   "cell_type": "code",
   "execution_count": 9,
   "metadata": {},
   "outputs": [],
   "source": [
    "def t_ansatz(s1, s2, param):\n",
    "    p = Program()\n",
    "    \n",
    "    for i in range(s1+1, s2):\n",
    "        if (i == s2-1):\n",
    "            p.inst(CZ(i, i+1))\n",
    "        else:\n",
    "            p.inst(CNOT(i, i+1))\n",
    "    \n",
    "    p.inst(H(s1))\n",
    "    p.inst(H(s2))\n",
    "    p.inst(CNOT(s1, s2))\n",
    "    p.inst(RZ(param, s2))\n",
    "    p.inst(CNOT(s1, s2))\n",
    "    p.inst(H(s1))\n",
    "    p.inst(H(s2))\n",
    "    p.inst(RX(-np.pi/2, s1))\n",
    "    p.inst(RX(-np.pi/2, s2))\n",
    "    p.inst(CNOT(s1, s2))\n",
    "    p.inst(RZ(param, s2))\n",
    "    p.inst(CNOT(s1, s2))\n",
    "    p.inst(RX(-np.pi/2, s1))\n",
    "    p.inst(RX(-np.pi/2, s2))  \n",
    "    \n",
    "    for i in reversed(range(s1+1, s2)):\n",
    "        if (i == s2-1):\n",
    "            p.inst(CZ(i, i+1))\n",
    "        else:\n",
    "            p.inst(CNOT(i, i+1))\n",
    "    \n",
    "    return p"
   ]
  },
  {
   "cell_type": "code",
   "execution_count": 78,
   "metadata": {},
   "outputs": [
    {
     "name": "stdout",
     "output_type": "stream",
     "text": [
      "[((1, 2, 0.7853981633974484, 0.0),), ((0, 1, -1.5707963267948966, 0.0), (2, 3, -1.5707963267948966, 0.0)), ((1, 2, -0.7853981633974484, 0.0),)]\n",
      "DEFGATE CRY(%theta):\n",
      "    1, 0, 0, 0\n",
      "    0, 1, 0, 0\n",
      "    0, 0, COS(%theta), -1*SIN(%theta)\n",
      "    0, 0, SIN(%theta), COS(%theta)\n",
      "\n",
      "X 0\n",
      "X 1\n",
      "X 4\n",
      "X 5\n",
      "CNOT 2 1\n",
      "CRY(0.7853981633974484) 1 2\n",
      "CNOT 2 1\n",
      "RZ(0) 2\n",
      "CNOT 6 5\n",
      "CRY(0.7853981633974484) 5 6\n",
      "CNOT 6 5\n",
      "RZ(0) 6\n",
      "CNOT 1 0\n",
      "CRY(-pi/2) 0 1\n",
      "CNOT 1 0\n",
      "RZ(0) 1\n",
      "CNOT 3 2\n",
      "CRY(-pi/2) 2 3\n",
      "CNOT 3 2\n",
      "RZ(0) 3\n",
      "CNOT 5 4\n",
      "CRY(-pi/2) 4 5\n",
      "CNOT 5 4\n",
      "RZ(0) 5\n",
      "CNOT 7 6\n",
      "CRY(-pi/2) 6 7\n",
      "CNOT 7 6\n",
      "RZ(0) 7\n",
      "CNOT 2 1\n",
      "CRY(-0.7853981633974484) 1 2\n",
      "CNOT 2 1\n",
      "RZ(0) 2\n",
      "CNOT 6 5\n",
      "CRY(-0.7853981633974484) 5 6\n",
      "CNOT 6 5\n",
      "RZ(0) 6\n",
      "\n"
     ]
    }
   ],
   "source": [
    "# hardcoded for now, can change based on N\n",
    "#arr = np.array([[0.5,0.5,0.5,0.5,0,0,0,0],\n",
    "#                [0.5,-0.5,-0.5,0.5, 0,0,0,0],\n",
    "#                [0,0,0,0, 0.5,0.5,0.5,0.5],\n",
    "#                [0,0,0,0, 0.5,-0.5,-0.5,0.5]])\n",
    "#arr = np.array([[0.5,0.5,0.5,0.5,0,0,0,0],\n",
    "#                [0,-1/math.sqrt(2),0,1/math.sqrt(2), 0,0,0,0],\n",
    "#                [0,0,0,0, 0.5,0.5,0.5,0.5],\n",
    "#                [0,0,0,0, 0,-1/math.sqrt(2),0,1/math.sqrt(2)]])\n",
    "#arr = np.array([[0.5,0.5,0.5,0.5],\n",
    "#                [0,-1/math.sqrt(2),0,1/math.sqrt(2)]])  \n",
    "arr = np.array([[0.5,0.5,0.5,0.5],\n",
    "                [0.5,-0.5,-0.5,0.5]])    \n",
    "\n",
    "def slater_determinant(): \n",
    "    givens = slater_determinant_preparation_circuit(arr)\n",
    "\n",
    "    def givens_rotation(tups, spin):\n",
    "        p = Program()\n",
    "\n",
    "        for tup in tups:\n",
    "            # where tup is (j, k, theta, phi)\n",
    "            p.inst(CNOT(tup[1]+4*spin, tup[0]+4*spin))\n",
    "\n",
    "            # controlled-RY\n",
    "            p.inst(CRY(tup[2])(tup[0]+4*spin, tup[1]+4*spin))\n",
    "            \n",
    "            p.inst(CNOT(tup[1]+4*spin, tup[0]+4*spin))\n",
    "            p.inst(RZ(tup[3], tup[1]+4*spin))\n",
    "        \n",
    "        return p\n",
    "    \n",
    "    p = Program()\n",
    "    p += cry_definition\n",
    "    p.inst(X(0))\n",
    "    p.inst(X(1))\n",
    "    p.inst(X(4))\n",
    "    p.inst(X(5))\n",
    "\n",
    "    for rot in givens:\n",
    "        p += givens_rotation(rot, 0)\n",
    "        p += givens_rotation(rot, 1)\n",
    "        \n",
    "    return p\n",
    "print(slater_determinant_preparation_circuit(arr))\n",
    "print(slater_determinant())"
   ]
  },
  {
   "cell_type": "code",
   "execution_count": 79,
   "metadata": {},
   "outputs": [],
   "source": [
    "def var_ansatz(params):\n",
    "    S = 3\n",
    "    p = Program()\n",
    "    \n",
    "    #p += cry_definition\n",
    "    \n",
    "    p += slater_determinant()\n",
    "    \n",
    "    for i in range(S):\n",
    "        # building U_u\n",
    "        p += U_ansatz(4, params[2*i])\n",
    "        \n",
    "        # building U_t\n",
    "        p += t_ansatz(0, 1, params[2*i+1])\n",
    "        p += t_ansatz(0, 3, params[2*i+1])\n",
    "        p += t_ansatz(1, 2, params[2*i+1])\n",
    "        p += t_ansatz(2, 3, params[2*i+1])\n",
    "        p += t_ansatz(4, 5, params[2*i+1])\n",
    "        p += t_ansatz(4, 7, params[2*i+1])\n",
    "        p += t_ansatz(5, 6, params[2*i+1])\n",
    "        p += t_ansatz(6, 7, params[2*i+1])\n",
    "        \n",
    "        # building U_u\n",
    "        p += U_ansatz(4, params[2*i])\n",
    "        \n",
    "    return p"
   ]
  },
  {
   "cell_type": "code",
   "execution_count": 80,
   "metadata": {},
   "outputs": [
    {
     "name": "stdout",
     "output_type": "stream",
     "text": [
      "WARNING: Fast method for expectation will be used. Noise\n",
      "                     models will be ineffective\n"
     ]
    },
    {
     "data": {
      "text/plain": [
       "{'x': array([-0.00595726,  0.74745132, -0.02484807, -0.77242998,  0.02722409,\n",
       "         0.79958091]), 'fun': -2.9995659568061974}"
      ]
     },
     "execution_count": 80,
     "metadata": {},
     "output_type": "execute_result"
    }
   ],
   "source": [
    "#initial angle\n",
    "initial_params = np.zeros(6)\n",
    "result = vqe_inst.vqe_run(var_ansatz, hamiltonian, initial_params, None, qvm=qvm)\n",
    "result"
   ]
  },
  {
   "cell_type": "code",
   "execution_count": 73,
   "metadata": {},
   "outputs": [],
   "source": [
    "def greedy_noisy_search(initial_state):\n",
    "    params = initial_state\n",
    "    min_energy = vqe_inst.expectation(var_ansatz(initial_state), hamiltonian, None, qvm)\n",
    "\n",
    "    def random_point(dim, step):\n",
    "        \"\"\"\n",
    "        Generates a random point on the perimeter of a circle with radius, step\n",
    "        \"\"\"\n",
    "        coords = [random.gauss(0, 1) for i in range(dim)]\n",
    "        norm = math.sqrt(sum([i**2 for i in coords]))\n",
    "        coords = [(i / norm) * step for i in coords]\n",
    "        return coords\n",
    "\n",
    "    step = 0.1\n",
    "    acceptances = 0\n",
    "\n",
    "    for i in range(5):\n",
    "        acceptances = 0\n",
    "        for j in range(30):\n",
    "            coords = random_point(len(initial_state), step)\n",
    "            temp_params = [sum(x) for x in zip(params, coords)]\n",
    "            temp_energy = vqe_inst.expectation(var_ansatz(temp_params), hamiltonian, None, qvm)\n",
    "            if (temp_energy < min_energy):\n",
    "                min_energy = temp_energy\n",
    "                params = temp_params\n",
    "                acceptances += 1\n",
    "        # update step size\n",
    "        step *= (acceptances / 15)\n",
    "\n",
    "    return {'x': params, 'energy': min_energy, 'step': step}"
   ]
  },
  {
   "cell_type": "code",
   "execution_count": 74,
   "metadata": {},
   "outputs": [
    {
     "data": {
      "text/plain": [
       "{'x': [0.9156341115758018,\n",
       "  0.012396492785745866,\n",
       "  0.9384178602082097,\n",
       "  1.5709455094166949,\n",
       "  1.2851480024244715,\n",
       "  0.004509520642591439],\n",
       " 'energy': -2.99920339604366,\n",
       " 'step': 0.005423407407407408}"
      ]
     },
     "execution_count": 74,
     "metadata": {},
     "output_type": "execute_result"
    }
   ],
   "source": [
    "point = greedy_noisy_search(np.random.rand(6))\n",
    "point"
   ]
  },
  {
   "cell_type": "code",
   "execution_count": 75,
   "metadata": {},
   "outputs": [],
   "source": [
    "def expectation(x):\n",
    "    return vqe_inst.expectation(var_ansatz(x), hamiltonian, None, qvm)"
   ]
  },
  {
   "cell_type": "code",
   "execution_count": 76,
   "metadata": {},
   "outputs": [
    {
     "data": {
      "text/plain": [
       "   direc: array([[ 1.00000000e+00,  0.00000000e+00,  0.00000000e+00,\n",
       "         0.00000000e+00,  0.00000000e+00,  0.00000000e+00],\n",
       "       [ 0.00000000e+00,  0.00000000e+00,  0.00000000e+00,\n",
       "         0.00000000e+00,  0.00000000e+00,  1.00000000e+00],\n",
       "       [ 0.00000000e+00,  0.00000000e+00,  1.00000000e+00,\n",
       "         0.00000000e+00,  0.00000000e+00,  0.00000000e+00],\n",
       "       [ 0.00000000e+00,  0.00000000e+00,  0.00000000e+00,\n",
       "         1.00000000e+00,  0.00000000e+00,  0.00000000e+00],\n",
       "       [ 0.00000000e+00,  0.00000000e+00,  0.00000000e+00,\n",
       "         0.00000000e+00,  1.00000000e+00,  0.00000000e+00],\n",
       "       [ 1.04297354e-03, -3.41223826e-03, -4.77797177e-05,\n",
       "        -5.50482001e-05, -2.36613804e-05, -1.12329752e-03]])\n",
       "     fun: array(-2.99999998)\n",
       " message: 'Optimization terminated successfully.'\n",
       "    nfev: 156\n",
       "     nit: 2\n",
       "  status: 0\n",
       " success: True\n",
       "       x: array([9.18354537e-01, 1.73798533e-05, 9.38245984e-01, 1.57079241e+00,\n",
       "       1.28506214e+00, 3.62935970e-05])"
      ]
     },
     "execution_count": 76,
     "metadata": {},
     "output_type": "execute_result"
    }
   ],
   "source": [
    "from scipy.optimize import minimize\n",
    "\n",
    "res = minimize(expectation, point['x'], method='powell')\n",
    "res"
   ]
  },
  {
   "cell_type": "code",
   "execution_count": 23,
   "metadata": {},
   "outputs": [],
   "source": [
    "def op(s1, s2):\n",
    "    # returns a PauliSum representing a_s1^daggar a_s2\n",
    "    def sigma_plus(s):\n",
    "        # returns sigma^+ operator on side s\n",
    "        # sigma^+ = 1/2(X + iY)\n",
    "        return PauliTerm('X', s, 0.5) + PauliTerm('Y', s, complex(0.0+0.5j))\n",
    "    def sigma_minus(s):\n",
    "        # returns sigma^- operator on side s\n",
    "        # sigma^- = 1/2(X - iY)\n",
    "        return PauliTerm('X', s, 0.5) - PauliTerm('Y', s, complex(0.0+0.5j))\n",
    "    \n",
    "    # for all sites in between site one (s1) and site two (s2), multiply by sigma z\n",
    "    z = sI()\n",
    "    for i in range(s1+1, s2):\n",
    "        z *= PauliTerm('Z', i)\n",
    "        \n",
    "    return sigma_minus(s1) * z * sigma_plus(s2)"
   ]
  },
  {
   "cell_type": "code",
   "execution_count": 62,
   "metadata": {},
   "outputs": [],
   "source": [
    "# building the single particle density matrix (spdm) \n",
    "spdm = np.zeros((4,4))\n",
    "for i in range(4):\n",
    "    for k in range(4):\n",
    "        # building an operator and vqe for each i, j        \n",
    "        # element (j, i) in the spdm is a_i^dagger a_j\n",
    "        spdm[k, i] = vqe_inst.expectation(slater_determinant(), op(i, k), None, qvm)"
   ]
  },
  {
   "cell_type": "code",
   "execution_count": 63,
   "metadata": {},
   "outputs": [
    {
     "name": "stdout",
     "output_type": "stream",
     "text": [
      "[[ 0.5  0.5 -0.  -0. ]\n",
      " [ 0.5  0.5 -0.  -0. ]\n",
      " [ 0.  -0.   0.5  0.5]\n",
      " [ 0.  -0.   0.5  0.5]]\n"
     ]
    }
   ],
   "source": [
    "print(np.around(spdm, decimals=2))"
   ]
  },
  {
   "cell_type": "code",
   "execution_count": 61,
   "metadata": {},
   "outputs": [
    {
     "data": {
      "text/plain": [
       "-3.9999999999999996"
      ]
     },
     "execution_count": 61,
     "metadata": {},
     "output_type": "execute_result"
    }
   ],
   "source": [
    "vqe_inst.expectation(slater_determinant(), hamiltonian, None, qvm)"
   ]
  },
  {
   "cell_type": "code",
   "execution_count": null,
   "metadata": {},
   "outputs": [],
   "source": []
  }
 ],
 "metadata": {
  "kernelspec": {
   "display_name": "Python 3",
   "language": "python",
   "name": "python3"
  },
  "language_info": {
   "codemirror_mode": {
    "name": "ipython",
    "version": 3
   },
   "file_extension": ".py",
   "mimetype": "text/x-python",
   "name": "python",
   "nbconvert_exporter": "python",
   "pygments_lexer": "ipython3",
   "version": "3.7.3"
  }
 },
 "nbformat": 4,
 "nbformat_minor": 2
}
